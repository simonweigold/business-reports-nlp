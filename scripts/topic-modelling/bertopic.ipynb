{
 "cells": [
  {
   "cell_type": "code",
   "execution_count": 1,
   "metadata": {},
   "outputs": [
    {
     "name": "stderr",
     "output_type": "stream",
     "text": [
      "C:\\Users\\simon\\AppData\\Local\\Packages\\PythonSoftwareFoundation.Python.3.10_qbz5n2kfra8p0\\LocalCache\\local-packages\\Python310\\site-packages\\umap\\distances.py:1063: NumbaDeprecationWarning: \u001b[1mThe 'nopython' keyword argument was not supplied to the 'numba.jit' decorator. The implicit default value for this argument is currently False, but it will be changed to True in Numba 0.59.0. See https://numba.readthedocs.io/en/stable/reference/deprecation.html#deprecation-of-object-mode-fall-back-behaviour-when-using-jit for details.\u001b[0m\n",
      "  @numba.jit()\n",
      "C:\\Users\\simon\\AppData\\Local\\Packages\\PythonSoftwareFoundation.Python.3.10_qbz5n2kfra8p0\\LocalCache\\local-packages\\Python310\\site-packages\\umap\\distances.py:1071: NumbaDeprecationWarning: \u001b[1mThe 'nopython' keyword argument was not supplied to the 'numba.jit' decorator. The implicit default value for this argument is currently False, but it will be changed to True in Numba 0.59.0. See https://numba.readthedocs.io/en/stable/reference/deprecation.html#deprecation-of-object-mode-fall-back-behaviour-when-using-jit for details.\u001b[0m\n",
      "  @numba.jit()\n",
      "C:\\Users\\simon\\AppData\\Local\\Packages\\PythonSoftwareFoundation.Python.3.10_qbz5n2kfra8p0\\LocalCache\\local-packages\\Python310\\site-packages\\umap\\distances.py:1086: NumbaDeprecationWarning: \u001b[1mThe 'nopython' keyword argument was not supplied to the 'numba.jit' decorator. The implicit default value for this argument is currently False, but it will be changed to True in Numba 0.59.0. See https://numba.readthedocs.io/en/stable/reference/deprecation.html#deprecation-of-object-mode-fall-back-behaviour-when-using-jit for details.\u001b[0m\n",
      "  @numba.jit()\n",
      "C:\\Users\\simon\\AppData\\Local\\Packages\\PythonSoftwareFoundation.Python.3.10_qbz5n2kfra8p0\\LocalCache\\local-packages\\Python310\\site-packages\\umap\\umap_.py:660: NumbaDeprecationWarning: \u001b[1mThe 'nopython' keyword argument was not supplied to the 'numba.jit' decorator. The implicit default value for this argument is currently False, but it will be changed to True in Numba 0.59.0. See https://numba.readthedocs.io/en/stable/reference/deprecation.html#deprecation-of-object-mode-fall-back-behaviour-when-using-jit for details.\u001b[0m\n",
      "  @numba.jit()\n"
     ]
    }
   ],
   "source": [
    "from bertopic import BERTopic\n",
    "from sklearn.feature_extraction.text import CountVectorizer\n",
    "import json\n",
    "import pandas as pd\n",
    "import os\n",
    "import re\n",
    "from nltk.corpus import stopwords\n",
    "from nltk.tokenize import word_tokenize\n",
    "from nltk.stem import PorterStemmer\n",
    "import string"
   ]
  },
  {
   "cell_type": "code",
   "execution_count": 2,
   "metadata": {},
   "outputs": [],
   "source": [
    "os. chdir(\"c:\\\\Users\\\\simon\\\\OneDrive\\\\Dokumente\\\\UNILU\\\\3 - HS24\\\\1 MA\\\\business-reports-nlp\")\n",
    "\n",
    "def read_text_files_in_folder(folder_path):\n",
    "    data = []\n",
    "    for root, dirs, files in os.walk(folder_path):\n",
    "        for file in files:\n",
    "            if file.endswith(\".txt\"):\n",
    "                full_path = os.path.join(root, file)\n",
    "                with open(full_path, 'r', encoding='utf-8') as f:\n",
    "                    content = f.read()\n",
    "                data.append({\n",
    "                    'file_name': file,\n",
    "                    'file_path': full_path,\n",
    "                    'content': content\n",
    "                })\n",
    "                \n",
    "    return pd.DataFrame(data)\n",
    "\n",
    "# Example usage\n",
    "folder_path = \"reports_digipay_txt/consultancies_pdfminer_cleaned\"#\"examples\"\n",
    "df = read_text_files_in_folder(folder_path)\n",
    "texts = df['content'].to_list()"
   ]
  },
  {
   "cell_type": "code",
   "execution_count": 3,
   "metadata": {},
   "outputs": [],
   "source": [
    "def clean_text(text):\n",
    "    # Replace multiple spaces with a single space\n",
    "    text = re.sub(' +', ' ', text)\n",
    "    \n",
    "    # Ensure there is exactly one space after each punctuation mark\n",
    "    text = re.sub(r'(?<=[!?.;,:])(?=[^\\s])', ' ', text)\n",
    "    \n",
    "    # Convert text to lowercase\n",
    "    text = text.lower()\n",
    "    \n",
    "    # Tokenize the text\n",
    "    tokens = word_tokenize(text)\n",
    "    \n",
    "    # Remove stopwords\n",
    "    #stop_words = set(stopwords.words('english'))\n",
    "    #tokens = [word for word in tokens if word not in stop_words]\n",
    "    \n",
    "    # Stem the words\n",
    "    ps = PorterStemmer()\n",
    "    tokens = [ps.stem(word) for word in tokens]\n",
    "    \n",
    "    # Remove punctuation and numbers\n",
    "    tokens = [word for word in tokens if word.isalpha()]\n",
    "    \n",
    "    # Convert tokens back to string\n",
    "    cleaned_text = ' '.join(tokens)\n",
    "    \n",
    "    return cleaned_text\n",
    "\n",
    "\n",
    "# Apply text cleaning to 'content' column\n",
    "texts = df['content'].apply(clean_text).to_list()\n",
    "\n",
    "# Initialize an empty list to hold the individual sentences\n",
    "sentences = []\n",
    "\n",
    "# Iterate over each long text in the original list\n",
    "for text in texts:\n",
    "    # Use regular expression to split text into sentences\n",
    "    splitters = re.split(r'(?<!\\w\\.\\w.)(?<![A-Z][a-z]\\.)(?<=\\.|\\?)\\s', text)\n",
    "    # Extend the new list with the individual sentences\n",
    "    sentences.extend(splitters)"
   ]
  },
  {
   "cell_type": "code",
   "execution_count": 4,
   "metadata": {},
   "outputs": [
    {
     "data": {
      "application/vnd.jupyter.widget-view+json": {
       "model_id": "302d18930556474e8a4a0e5147a1b794",
       "version_major": 2,
       "version_minor": 0
      },
      "text/plain": [
       "Batches:   0%|          | 0/4 [00:00<?, ?it/s]"
      ]
     },
     "metadata": {},
     "output_type": "display_data"
    },
    {
     "name": "stderr",
     "output_type": "stream",
     "text": [
      "2023-09-20 18:43:26,311 - BERTopic - Transformed documents to Embeddings\n",
      "Exception ignored on calling ctypes callback function: <function ExecutionEngine._raw_object_cache_notify at 0x00000259CA282170>\n",
      "Traceback (most recent call last):\n",
      "  File \"C:\\Users\\simon\\AppData\\Local\\Packages\\PythonSoftwareFoundation.Python.3.10_qbz5n2kfra8p0\\LocalCache\\local-packages\\Python310\\site-packages\\llvmlite\\binding\\executionengine.py\", line 171, in _raw_object_cache_notify\n",
      "    def _raw_object_cache_notify(self, data):\n",
      "KeyboardInterrupt: \n",
      "2023-09-20 18:43:34,528 - BERTopic - Reduced dimensionality\n",
      "2023-09-20 18:43:34,553 - BERTopic - Clustered reduced embeddings\n"
     ]
    }
   ],
   "source": [
    "# this is to remove stopwords, for lower columes of data stopwords can cause issues.\n",
    "vectorizer_model = CountVectorizer(ngram_range=(1, 2), stop_words=\"english\")\n",
    "\n",
    "topic_model = BERTopic(\n",
    "    vectorizer_model=vectorizer_model,\n",
    "    language='english',\n",
    "    calculate_probabilities=True,\n",
    "    verbose=True\n",
    ")\n",
    "topics, probs = topic_model.fit_transform(sentences)\n",
    "#topic_model = BERTopic.load(\"arxiv_bertopic\")"
   ]
  },
  {
   "cell_type": "code",
   "execution_count": 5,
   "metadata": {},
   "outputs": [
    {
     "data": {
      "text/html": [
       "<div>\n",
       "<style scoped>\n",
       "    .dataframe tbody tr th:only-of-type {\n",
       "        vertical-align: middle;\n",
       "    }\n",
       "\n",
       "    .dataframe tbody tr th {\n",
       "        vertical-align: top;\n",
       "    }\n",
       "\n",
       "    .dataframe thead th {\n",
       "        text-align: right;\n",
       "    }\n",
       "</style>\n",
       "<table border=\"1\" class=\"dataframe\">\n",
       "  <thead>\n",
       "    <tr style=\"text-align: right;\">\n",
       "      <th></th>\n",
       "      <th>Topic</th>\n",
       "      <th>Count</th>\n",
       "      <th>Name</th>\n",
       "      <th>Representation</th>\n",
       "      <th>Representative_Docs</th>\n",
       "    </tr>\n",
       "  </thead>\n",
       "  <tbody>\n",
       "    <tr>\n",
       "      <th>0</th>\n",
       "      <td>-1</td>\n",
       "      <td>39</td>\n",
       "      <td>-1_payment_digit_global_percent</td>\n",
       "      <td>[payment, digit, global, percent, mckinsey, se...</td>\n",
       "      <td>[digit financ for all power inclus growth in e...</td>\n",
       "    </tr>\n",
       "    <tr>\n",
       "      <th>1</th>\n",
       "      <td>0</td>\n",
       "      <td>49</td>\n",
       "      <td>0_payment_bank_custom_servic</td>\n",
       "      <td>[payment, bank, custom, servic, transact, mark...</td>\n",
       "      <td>[tabl of content prefac transact analysi key f...</td>\n",
       "    </tr>\n",
       "    <tr>\n",
       "      <th>2</th>\n",
       "      <td>1</td>\n",
       "      <td>21</td>\n",
       "      <td>1_payment_bank_revenu_percent</td>\n",
       "      <td>[payment, bank, revenu, percent, growth, globa...</td>\n",
       "      <td>[global payment strong fundament despit uncert...</td>\n",
       "    </tr>\n",
       "    <tr>\n",
       "      <th>3</th>\n",
       "      <td>2</td>\n",
       "      <td>15</td>\n",
       "      <td>2_mobil_payment_consum_mobil payment</td>\n",
       "      <td>[mobil, payment, consum, mobil payment, provid...</td>\n",
       "      <td>[card a look at the near field commun payment ...</td>\n",
       "    </tr>\n",
       "  </tbody>\n",
       "</table>\n",
       "</div>"
      ],
      "text/plain": [
       "   Topic  Count                                  Name  \\\n",
       "0     -1     39       -1_payment_digit_global_percent   \n",
       "1      0     49          0_payment_bank_custom_servic   \n",
       "2      1     21         1_payment_bank_revenu_percent   \n",
       "3      2     15  2_mobil_payment_consum_mobil payment   \n",
       "\n",
       "                                      Representation  \\\n",
       "0  [payment, digit, global, percent, mckinsey, se...   \n",
       "1  [payment, bank, custom, servic, transact, mark...   \n",
       "2  [payment, bank, revenu, percent, growth, globa...   \n",
       "3  [mobil, payment, consum, mobil payment, provid...   \n",
       "\n",
       "                                 Representative_Docs  \n",
       "0  [digit financ for all power inclus growth in e...  \n",
       "1  [tabl of content prefac transact analysi key f...  \n",
       "2  [global payment strong fundament despit uncert...  \n",
       "3  [card a look at the near field commun payment ...  "
      ]
     },
     "execution_count": 5,
     "metadata": {},
     "output_type": "execute_result"
    }
   ],
   "source": [
    "topic_model.get_topic_info()#.head(10)"
   ]
  },
  {
   "cell_type": "code",
   "execution_count": 12,
   "metadata": {},
   "outputs": [
    {
     "name": "stdout",
     "output_type": "stream",
     "text": [
      "2: Consumer Mobile Payments Survey\n",
      "\n",
      "Driving Value and Adoption  of Mobile Payments—  Consumers Want More\n",
      "\n",
      "\fAccenture recently surveyed North American  smart phone users to understand how consumers  can be encouraged to make mobile payments.  After all, persuading more consumers to use  their smart phones to pay for goods and services,   whether they are buying a tank of gas, a  morning cup of coffee or a night out at the  movies, presents a huge opportunity. \n",
      "\n",
      "A recent report by IDC Financial Insights  predicted that the global value of proximity  payments, both Near Field Communication  (NFC or tap-and-pay) and mobile bar code  transactions, will reach $296 billion by 20171.\n",
      "\n",
      "Financial institutions, merchants, payment  processors and technology providers have  invested heavily in online channels in recent  years, and as a result, have seen a rapid  growth in online payments, enhanced  customer loyalty and increased enterprise  profitability. Harnessing the constant,  real-time interaction that today’s consumer  has with his or her smartphone can only  strengthen those customer relationships.  For all market participants, mobile is the  next frontier.\n",
      "\n",
      "However, mobile payment solutions at  physical, rather than virtual, points of sale  are far less advanced. Within the U.S., the  roll out of competing mobile technology  solutions such as NFC and mobile bar codes  is still underway and consumer adoption   is low. \n",
      "\n",
      "Providing the core technology is obviously  important if mobile payment services are   going to increase significantly, but persuading  consumers to become regular users of these  systems is the next critical step.\n",
      "\n",
      "\fHesitant Consumers Can  Become Regular Users\n",
      "\n",
      "The results of Accenture’s survey   revealed three critical findings:\n",
      "\n",
      "• Consumers know that mobile payments are an option, but still do not make them. \n",
      "\n",
      "• Once consumers make mobile payments, they are much more likely to become converts.  \n",
      "\n",
      "• While the industry is pre-occupied with the technology  roll out, consumers are much   more concerned about the security, privacy, convenience  and value of using their phones   to make payments.  \n",
      "\n",
      "Consumers can be incentivized to make  mobile payments, and once they do so,   they are much more likely to become converts.   Given the history of how online shopping,  banking and bill payment became ubiquitous  among consumers, the last finding makes  perfect sense. After all, when Amazon and   eBay launched their online shopping sites   in 1995 and 1996 respectively, the notion   that over half the population of the U.S.  would make purchases online would have   been fanciful, yet in 2013, the number of   online shoppers in the U.S. will reach 189.6   million, according to research firm eMarketer2.   The majority of consumers were resistant  to change until the point that they actually  made the switch and realized the benefits. \n",
      "\n",
      "The same applies to mobile payments. While   persuading current users to become more   regular users is clearly important, getting   people to use this technology in the first   place is the biggest challenge that the   industry faces. \n",
      "\n",
      "Therefore, as well as examining the  motivations of current users, this survey  also looked at the reasons for the gap  between the level of consumer awareness  and the level of consumer adoption   and how financial institutions, retailers,  mobile network operators, and equipment  manufacturers can bridge that gap quickly  to convert reluctant North American  consumers into regular, loyal users. \n",
      "\n",
      "The results suggest that merely making  mobile payment infrastructure available to  consumers is not enough. To attract more  frequent and valuable customers in the  long run and obtain valuable information  about their location and purchase history,  merchants should also incentivize consumers  through rewards or other value-added  tools to encourage wider adoption. \n",
      "\n",
      "\fKey Findings: Ten Insights into  Consumers and Mobile Payments\n",
      "\n",
      "1 Consumers know that mobile  payments are an option, but still do not make them. \n",
      "Some 41 percent of North American smartphone users are highly aware that their phones can be used as payment devices at retail counters, yet only 16 percent have done this (see Figure 1).\n",
      "\n",
      "2 The industry’s preoccupation with picking a winning mobile payments technology is unnecessary.\n",
      "North American consumers are not waiting for the broad availability of one particular  system and Accenture expects that each payment technology will fill a substantial market role for the near-term. NFC continues to gain momentum, while a variety of merchants and payment processors are introducing parallel payment systems based on mobile barcodes and cloud technology.\n",
      "\n",
      "3 The security, privacy and convenience of mobile payments are key concerns among all respondents. \n",
      "Some 45 percent of respondents who do  not currently make mobile payments said they were concerned about security, while  37 percent had worries about privacy. Some 37 percent said they did not make mobile payments because of the convenience of their current payment method. To achieve widespread adoption, consumers must be educated that mobile payments are   generally more secure and more convenient than other payment options.\n",
      "\n",
      "\n",
      "4 Rewarding consumers  encourages usage. \n",
      "As Figure 2 shows, 60 percent of consumers  who already make mobile payments said  they would probably do so more often if   they received instant coupons as a result,   while some 36 percent said they would  hand over personal information in exchange   for such rewards. Some 46 percent of users  also indicated that they would increase  payments if offered short-term location  based coupons. Rewards points from retailers,   special pricing based on past usage, a   dedicated payment line in store, or priority   customer service also received strong support. \n",
      "\n",
      "5 The same incentives might increase   adoption among non-users, albeit to   a lesser extent. \n",
      "About one in five non-users said that special  coupons or reward points stored on their  phones, a dedicated line at retailers or  priority customer service might encourage  them to make payments using their phones.\n",
      "\n",
      "6 Non-users are even less likely to   switch phone, wireless carrier or   bank to enable mobile payments  than current users. \n",
      "Current users are reluctant to make these  changes, but only 7 percent of non-users  said they were willing to switch phones in  order to make mobile payments. Changing  bank accounts or credit cards garnered even  less support. To encourage both existing   users and non-users to make mobile payments,   mobile payment applications need to be   supported across a range of different  devices and mobile networks.\n",
      "\n",
      "\n",
      "7 The value and convenience of mobile payment systems for consumers could be enhanced by other  ancillary benefits. \n",
      "For example, three out of five current users  would like receipt tracking capabilities  on their phones and improved financial  management tools, while many would also  like to be able to use their phones as proof  of ID or valid insurance (see Figure 3).\n",
      "\n",
      "8 Non-users also favor value-  added tools. \n",
      "About one in three said they would be more likely to use mobile payments if they could   use their phones as proof of insurance or ID, had the ability to track receipts or access   other financial management tools. To increase adoption and promote loyalty from both  users and non-users, mobile payment apps  should incorporate both reward schemes and these types of value-added tools. \n",
      "\n",
      "9 Unsurprisingly, expanding the number of situations in which consumers can make mobile payments would increase usage. \n",
      "For example, public transportation is one area where mobile payment technology has   already been deployed with some success, both in North America and beyond. About one in five people who already make mobile payments said they would do so more if they could make mobile payments on buses, trains or in taxis, an option that was particularly popular among Canadian respondents. \n",
      "\n",
      "                                                                  \f10 Making mobile payments for   gas is appealing. \n",
      "About half of consumers who already make mobile payments said that they would do so more often if they could use this method to pay for gas at the pump (see Figure 4), while some 46 percent of non-users also said that the ability to pay for gas at the pump would  encourage them to try mobile payments. \n",
      "\n",
      "\fTechnology Is Not enough \n",
      "\n",
      "The development of the mobile  payments market in North  America has been patchy   and it is still unclear how this  market will evolve or which  competing mobile payment  technologies and applications  will become prevalent.   \n",
      "\n",
      "While early evidence suggests that  consumers who make mobile payments  could become more frequent and valuable  customers in the long run, and provide  a rich seam of information on their  location and purchase history, it is still  unclear which industry participants should  absorb the immediate technology costs.  The introduction of multi-functional  euroPay, MasterCard & Visa (eMV)  terminals in the U.S. that tackle credit  card fraud and allow consumers to make  NFC purchases may facilitate mobile  payments, but that is just one step.\n",
      "\n",
      "Yet while the industry is preoccupied with  the technology roll out, Accenture’s survey  shows that consumers are more concerned  about the security, privacy, convenience  and value of using their phones to make  payments. Providing the opportunity for  consumers to make mobile payments in  a broad variety of different situations is  obviously crucial, but not enough. Financial  institutions, merchants, mobile network  operators, and technology providers also  need to educate consumers on the benefits,  assuage their privacy and security concerns,  and ensure applications are supported  by a range of smart phones and wireless  networks to make them convenient to use. \n",
      "\n",
      "Accenture’s survey also reveals that  both current users and non-users can be  incentivized to make mobile payments  through rewards for usage or other  value-added tools such as receipt tracking.  Developers should consider incorporating  both elements in new mobile payment  applications to encourage broad adoption  as quickly as possible. Today’s consumers  expect their smart phones to improve  and simplify their lives. Give them the  desired tools and they will use them.\f\n",
      "-1: Accenture Payment Services\n",
      "\n",
      "Seizing the Opportunities Unlocked by the EU’s Revised Payment Services Directive\n",
      "\n",
      "PSD2: A Catalyst for New Growth Strategies in Payments and Digital Banking \n",
      "\n",
      "\fEuropean banks are at a critical juncture in their history — a defining moment at which changes in the payments industry are forcing them to make a key strategic decision: whether to become a banking ‘utility’ supporting other providers’ customer-facing solutions, or an ‘Everyday Bank’ playing a central role in customers’ daily lives.\n",
      "\n",
      "The driving force behind this imperative is the revised Payment Services Directive (PSD2) which is set to accelerate the competition and digital disruption that are already reshaping the financial services industry across and beyond Europe.\n",
      "\n",
      "A rapidly changing payments  industry is threatening incumbent  banks’ payments revenues and  customer ownership   \n",
      "\n",
      "The revised Payment Services  Directive (PSD2) \n",
      "\n",
      "Disruptive Threats of PSD2  Access to Account (XS2A)   \n",
      "\n",
      "A Decision Point has Arrived for European Banks  \n",
      "\n",
      "Operating Model Implications  of PSD2 \n",
      "\n",
      "Conclusion\n",
      "\n",
      "\n",
      "\fA rapidly changing payments industry is threatening incumbent banks’ payments revenues and customer ownership \n",
      "\n",
      "In common with retail banking as a whole, the payments industry is experiencing rapid and widespread changes.\n",
      "\n",
      "Specifically:\n",
      "\n",
      "• Customer demands are evolving as more and more transactions take place on mobile devices, demanding real-time, personalised and seamless payment experiences. \n",
      "\n",
      "• New competition is emerging, in the form of FinTech companies and traditional financial services providers supplying new digitally-enabled services or forming unconventional partnerships in an expanding payments ecosystem. \n",
      "\n",
      "• Finally, regulatory initiatives such as the capping of interchange fees, the eMoney Directive and PSD2 are playing an increasing role in encouraging competition and innovation in the industry.\n",
      "\n",
      "• Advances in technology—including immediate payment infrastructures, blockchain, mobile authentication and the ‘Internet of Things’ (IoT)—are creating new ways to pay and a  digitised end-to-end value chain.\n",
      "\n",
      "As an example of a mature European market, Accenture has analysed the payments industry in the United Kingdom. This analysis which is shown in Figure 1 indicates that these changes are poised  to contribute to UK banks losing up to  43 percent of their current payments- based revenues by 2020. \n",
      "\n",
      "\fIn addition to the dramatic erosion of their payments revenues, banks are also set to see their interest-based revenue streams impacted by a loss of ‘customer ownership’, resulting from the displacement of bank-customer interactions by FinTech or progressive traditional financial services companies.  \n",
      "\n",
      "As this industry disruption gathers pace, the Revised Payment Services Directive is set to accelerate it by regulating new forms of Payment Institutions, introducing new interaction models, and mandating the opening of banks’ application programming interfaces (APIs) to third parties. However, alongside the threats, PSD2 will also create new opportunities that could enable banks to recapture some of the projected lost payments revenue. The potential upside for banks will vary depending on which of the four primary strategic options they choose to pursue. \n",
      "\n",
      "These options are:\n",
      "\n",
      "1. Minimum compliance with PSD2\n",
      "\n",
      "2. Facilitation and monetisation of API access \n",
      "\n",
      "3. Provision of advice and new products/services \n",
      "\n",
      "4. Expansion of the ecosystem and aggregation of value \n",
      "\n",
      "As we’ll explore in this paper, each of these options brings its own specific implications in terms of a bank’s revenues, business model, customer relationships, market positioning and future growth. \n",
      "\n",
      "For in-store transactions, we assumed PISPs will acquire 80 percent of their volumes from debit cards and 20 percent from credit cards. As a result we estimate that PISPs will account for 0.5 percent of in-store payments and 4 percent of total retail payments (e.g.: cash, cards, e-wallets, PISPs) by 2020. \n",
      "\n",
      "Methodology\n",
      "\n",
      "The analysis of the evolution of retail payments revenues referred to in this paper has been developed by Accenture Research based on an analysis of the payments market in the United Kingdom. The analysis includes assessment of market characteristics including payments product features, pricing, competitive dynamics, and the presence of network effects as well as barriers to entry. Baseline figures were developed from multiple sources including The UK Cards Association, the UK Payments Council, Visa and PayPal.\n",
      "\n",
      "For the adoption of new payments products, we defined expected scenarios of disruption analogous to those seen in other markets, and projected a period of continued strong growth in electronic transactions driven by rising contactless card payments and online payments. \n",
      "\n",
      "For 2015-2020, we estimated annual growth in electronic retail transactions (e.g.: e-wallets, cards, payments initiation services) of 11 percent. \n",
      "\n",
      "For digital disruptors we assumed the following scenario in 2020: card-based digital wallets will account for 15 percent of total card transaction value, stored value accounts will account for 6 percent of retail transactions, and mobile POS will acquire 5 percent of card transactions. Finally we validated the findings with experts from Accenture and the industry. \n",
      "\n",
      "In respect of PISPs, we assumed that 90 percent of PISP transaction volume will originate online with the remaining 10 percent originating in-store by 2020. We estimate PISPs will erode 33 percent of online debit card transaction volume and 10 percent of online credit card transaction volume resulting in a total market share of 16 percent of online retail payment volume by 2020. \n",
      "\n",
      "For in-store transactions, we assumed PISPs will acquire 80 percent of their volumes from debit cards and 20 percent from credit cards. As a result we estimate that PISPs will account for 0.5 percent of in-store payments and 4 percent of total retail payments (e.g.: cash, cards, e-wallets, PISPs) by 2020.\n",
      "\n",
      "\n",
      "The revised Payment Services Directive (PSD2)\n",
      "\n",
      "PSD2 is a data and technology-driven Directive that aims to drive increased competition, innovation and transparency across the European payments market, while also enhancing the security of internet payments and account access. \n",
      "\n",
      "At the core of PSD2 is the requirement for banks to grant Third Party Providers (TPPs) access to a customer’s online account/payment services in a regulated and secure way. This ‘Access to Account’ (XS2A) rule mandates banks or other account-holding PSPs to facilitate secure access via APIs to their customer accounts and data if the account holder provides consent. In order to provide this access to accounts, banks must also allow for customer identity verification and authentication via APIs. \n",
      "\n",
      "Access to customer accounts via APIs enables the provision of entirely new types of service that are regulated under PSD2—namely third party payment initiation (provided by Payment Initiation Service Providers or PISPs) and third party account access (provided by Account \n",
      "Information Service Providers or AISPs) as \n",
      "shown in Figures 2 and 3.\n",
      "\n",
      "\fAlthough the use of APIs is not new, growth in their usage has been exponential in the digital era, and APIs are now being adopted across various industries as key enablers for business services and digital products. The mandatory opening of account APIs is an important step towards ‘Open Banking’—a development that will offer tremendous potential for banks and financial institutions to innovate at pace, create new revenue streams and ‘disrupt the disruptors’.\n",
      "\n",
      "However, the move to open APIs will also serve to increase the rate of disruption within the financial services industry. Many traditional business models across a variety of industries have already experienced dramatic change driven by APIs as shown in Figure 4. For banks, the keys to success will be to gain a full understanding of the disruptive threats they face, and to adapt to this changing landscape by evolving their business models to leverage APIs as an enabler of new products and services.\n",
      "\n",
      "Standards & Timelines for Open Banking via APIs \n",
      "\n",
      "The Regulatory Technical Standards for Strong Customer Authentication and Secure Communication under PSD2 will be published by the European Banking Authority (EBA) in January 2017. The standards will then be adopted by the European Commission, after which there will be a transition period of 18 months before the standards come into force across the EU. This means that the technical standards will not yet be in force in January 2018, the date at which all EU countries and payment institutions must be compliant with PSD2. \n",
      "\n",
      "This misalignment of timelines presents some uncertainly around how API communication between banks and third parties will be handled during the transitionary period between January 2018 and the date at which the Regulatory Technical Standards (RTS) come into force. \n",
      "\n",
      "In the face of this uncertainty, it is likely that many market participants will look to the UK’s Open Banking Working Group, which is currently developing standards for the sharing and use of banking data via APIs in the UK. \n",
      "\n",
      "The UK Open Banking Standards seek to address technical design and infrastructure issues, as well as formalising an approach to sensitive customer issues such as consent, delegation of access rights, authorisation and authentication, vetting, accreditation and governance. The group is targeting a minimum viable product for an Open Banking API by the end of 2016, with personal customer transaction data included on a read-only basis from the beginning of 2017.\n",
      "\n",
      "\fDisruptive Threats of PSD2 \n",
      "\n",
      "Access to Account (XS2A)\n",
      "\n",
      "Loss of Fees from Card-Based Transactions  \n",
      "\n",
      "The recent Interchange Fee regulation has already reduced the fees generated from card-based transactions in Europe, with the UK retail industry trade association—the British Retail Consortium—estimating that merchants in the UK alone stand to save £480 million per annum.1  \n",
      "\n",
      "However, despite the capping of interchange fees, card-based transactions continue to generate more revenue for retail banks than interbank credit transfers which, in many jurisdictions — including the UK—are currently free for retail customers. In contrast, an issuing bank will still receive up to 0.2 percent of transaction value as an interchange fee on debit cards, and up to 0.3 percent on credit cards, depending on the jurisdiction. \n",
      "\n",
      "In regulating PISPs, PSD2 presents a simplified payments value chain in which the card network can be fully disintermediated. In such a transaction, payment is initiated by the PISP directly from the customer’s bank account via an API call to the originating bank. In this scenario, all interchange fees and acquirer fees currently received by the issuing and acquiring bank could be fully displaced, as could all fees received by the processor and card network.\n",
      "\n",
      "This model can also impact the current revenue streams from dynamic currency conversion and foreign exchange on card transactions, with the emergence of new opportunities for a redistribution of ownership of this activity within the  value chain.\n",
      "\n",
      "While these impacts present a notable threat for the banks and card networks, their severity will correlate directly with the level of adoption of PISP services. \n",
      "\n",
      "It remains to be seen how much the customer experience for PISP transactions will differ from that for existing card-based payments—but, in estimating the potential uptake of PISP services, it’s clear that the merchant will be key. Accenture is currently undertaking consumer research in the UK and Ireland on the likely level of demand for AISP and PISP services, and will publish the findings in the second quarter of 2016.\n",
      "\n",
      "Currently, the average Merchant Service Charge in the UK is approximately  0.68 percent of the transaction value for debit cards.2 In the PISP value chain, as shown in Figure 5, the PISP itself is the only intermediary to which this Merchant Service Charge is to be distributed. This makes it highly likely that PISP services will be offered at a significant discount to the existing rates of Merchant Service Charge, and that industry competition will drive these rates downwards. \f\n",
      "\n",
      "These dynamics provide the merchant with an immediate incentive to advocate the use of a PISP service over a traditional card payment. The PISP model also presents other benefits to merchants, including the removal of the liquidity risk within the transaction and the potential for faster clearing of funds. For those merchants that have sufficient scale and are aiming to vertically integrate their business model, PSD2 offers a compelling opportunity to establish themselves as a PISP—thereby retaining the entirety of the Merchant Service Charge.\n",
      "\n",
      "Based on these drivers, Accenture believes that PISP services could account for up to 16 percent of online retail payments by 2020, led by the displacement of up to  33 percent of online debit card transactions and up to 10 percent of online credit card transactions. Taking the UK market as an example, this would result in the loss of over £1.45bn of card transaction revenues between 2017 and 2020—money that was previously captured by the banks and card networks. \n",
      "\n",
      "Interbank transfers and the PISP model are also applicable to physical point-of-sale (POS) transactions where the PISP is integrated to a contactless mobile wallet app. It is entirely possible that mobile wallet providers including the likes of Apple Pay may consider a transition to a PISP model in the future. These developments will further reduce the volume of card-based transactions within Europe and the related Interchange and Acquirer revenue streams for banks.\n",
      "\n",
      "Loss of Customer ‘Ownership’ and Insight\n",
      "\n",
      "For any business to build loyalty, cross-sell successfully and deliver a rewarding customer experience, the minimum requirement is to have an opportunity to engage with the customer. While banks have traditionally played a central role in their customers’ lives, this relationship has changed dramatically in recent times. Generally, the role of banks has moved through three phases—firstly from physical, person-to-person interactions, then to online banking services, and in the past few years to mobile and real-time payments and product applications. Until recently, this evolution has not threatened the relationship between bank and customers, or the sense of customer ‘ownership’ that banks obtained through regular interactions. The advent of PSD2 and XS2A and the path towards open APIs fundamentally changes this dynamic. \n",
      "\n",
      "With the opening-up of access to payment initiation services via APIs, the bank is at risk of losing a direct relationship with the customer and becoming a utility-type service used by new TPPs. Likewise, access to customer account data enables a scenario whereby customers could fulfil their typical banking needs such as viewing transaction histories, account balances and initiating payments, all from a third party online portal with no meaningful engagement with, or even visibility of, the bank’s brand.\n",
      "\n",
      "A further evolution of this threat is the potential break-up or ‘atomisation’ of banking services, as customers exercise their ability to use multiple digital banking products provided by different financial and non-financial institutions. \n",
      "\n",
      "New digital competition in the form of (i) FinTech entrants, (ii) technology giants such as Apple and Google and (iii) traditional financial services companies is beginning to see the emergence of enhanced products and user experiences tailored to niche customer needs. A TPP already acting as a PISP and AISP under PSD2 could theoretically aggregate and integrate these new services through extended API integration. \n",
      "\n",
      "This scenario would present a significant threat to incumbent banks by acting as a virtual consolidation of the FinTech industry. Via a single platform, the customer could access multiple stand-alone financial services products, all integrated with their existing account and transactional data. In addition to removing the opportunity for banks to cross-sell and engage their customers, this would also represent a loss of customer insight and data for banks. With less customer data, the banks would enter a negative feedback loop in which their ability to compete would steadily decline, eroding a key competitive advantage that banks currently enjoy through their wealth of customer data and insight.\n",
      "\n",
      "\fA Decision Point has Arrived for European Banks\n",
      "\n",
      "As we noted earlier, PSD2 presents significant opportunities to grow new revenue streams, capture customer ownership and progress towards an extended ecosystem centred on the ‘Everyday Bank’. However the largest share of the spoils will go to those banks that move first to capitalise on these opportunities. \n",
      "\n",
      "The imperative for banks is to leverage API integration and their existing customer relationships in order to develop a customer value ecosystem centred around their own banking portals. Accenture believes four primary strategic options are available to banks in order to respond effectively to the threats and opportunities of PSD2—while deciding whether to become a banking ‘utility’, or to continue to play a central role at the heart of their customer’s daily lives. These strategic options are laid out in Figure 6 below.\n",
      "\n",
      "\fStrategic Option 1: Comply with PSD2\n",
      "\n",
      "Accenture’s view is that banks which seek to achieve minimum compliance with PSD2 risk disintermediation and a loss in volume and quality of customer interactions. However, as competition intensifies in the financial services industry, banks must prioritise their investment and have a clear strategy for developing and maintaining their core business. For some banks, a valid decision may be to narrow the focus of their business model towards the provision of liquidity and infrastructure services. In such cases, the bank becomes a ‘utility’ managing underlying customer accounts, processing payment transactions, and providing liquidity and credit services which are offered to the customer through a TPP who owns the customer experience. \n",
      "\n",
      "Strategic Option 2: Facilitate & Monetise Access\n",
      "\n",
      "Although PSD2 mandates the opening of certain bank APIs, these are restricted to payment account transaction and balance data, Credit Transfer initiation and account identity verification. Access via APIs to additional customer data in relation to non-payment accounts, customer demographics, identity documentation and direct debit mandates is entirely optional. \n",
      "\n",
      "This means banks have a choice over whether to extend their API development beyond the minimum requirements and enable a customer to retrieve additional data sets as described above. Banks could also extend development to enable the creation of Standing Orders and Direct Debit Mandates or the completion of product applications via API. By taking this step, banks gain opportunities to monetise these additional APIs as well as to collaborate with third parties to create new products and services based on these data sets and niche customer needs. An example of such a service would be the sharing of a customer’s mortgage data and identity documents with a home insurance provider (with the customer’s consent). \n",
      "\n",
      "Strategic Option 3: Provide Advice & New Services—Monetise Insight\n",
      "\n",
      "Leveraging customer insight empowers the bank to provide a highly customer-centric, digital banking portal, and create a customer value ecosystem consisting of symbiotic or mutually beneficial relationships between the bank and TPP that create value for the customer. Such services can enhance customer loyalty as well as open new revenue opportunities for both bank and TPP. \n",
      "\n",
      "A bank could significantly improve its ability to sell customer insight by offering PISP and AISP services as well, due to the increased availability of customer data and touch points. However API integration is not strictly necessary with referral-based partners. \n",
      "\n",
      "\fExamples of using customer insight  to cross-sell both bank and partner services\n",
      "\n",
      "A further monetisation opportunity is outlined in Figure 8. This involves aggregating customer transaction data to isolate and identify spending patterns correlated to age bracket, region, store and so on, and then selling this insight to business and corporate customers seeking to gain a better understanding of their market. \n",
      "\n",
      "In the context of a customer mortgage application as displayed in Figure 7, the monetisation of insight could include brokered services such as a discount on a real estate agent, home insurance or electricity provider. In each case, the bank receives a fee from the partner, the customer receives a highly relevant and discounted offer, and the partner obtains new business at a lower cost of acquisition. The bank may also offer the customer new bank-provided services such as a tailored savings plan or tranche credit product for a home renovation.\n",
      "\n",
      "\fEstablish an AISP Service\n",
      "\n",
      "Operating a regulated AISP service would allow a bank to create a ‘one-stop’ banking portal for multi-banked customers to  view account and transaction details.  This service, combined with a financial management tool to automatically categorise transactions and enable budgeting, goal-setting and data visualisation, would be a compelling customer proposition, particularly for multi-banked businesses and corporates. \n",
      "\n",
      "In offering an AISP service, the bank benefits not only from increased customer interactions and an enhanced online banking proposition, but also from the opportunity to monetise additional features such as integration with accounting/ERP systems and cashflow management driven by predictive analytics.\n",
      "\n",
      "The availability of additional customer data from third party financial institutions would also provide the bank with new customer insight (assuming the customer consents to the use of the data). This insight could fuel highly relevant and targeted cross-selling to the customer, potentially identifying a customer’s need before the customer becomes aware of it themselves.\n",
      "\n",
      "Examples of using AISP insights to drive revenue growth through cross-selling\n",
      "\n",
      "For retail customers, AISP insights could be monetised as shown in Figure 9 through the identification and prediction of customer needs for both financial and non-financial services. This might include the identification of a flight purchase prompting the bank to offer the customer a holiday loan or credit card product as well as services such as travel advice, savings plans or partner referrals. Alternative need indicators could involve the identification of excess funds in a customer’s accounts at the end of each month, prompting the customer to open a new savings or investment product.\n",
      "\n",
      "Corporate customers could benefit from basic analytical tools to predict future cash flow trends such as a potential shortfall at a future date, for which the bank could offer short-term financing or an automated cash management service. \n",
      "\n",
      "Banks could also partner with technology companies to develop an accounting package for SMEs which is fully integrated with online banking services such as direct debit mandate management, payroll file origination and e-Invoicing. These opportunities to monetise business or corporate AISP services are shown in Figure 10. \n",
      "\n",
      "\fEstablish a PISP Service\n",
      "\n",
      "In operating a PISP service, a bank would have the opportunity to capture an additional slice of transaction revenue while also providing opportunities for customer loyalty schemes and cross-selling. In addition, customers are likely to feel more secure in utilising the payment initiation services of a bank they know and trust than those of a new market entrant. \n",
      "\n",
      "However, the availability of payment initiation services will be heavily dependent on the preferences of the merchant. In eCommerce, it is likely that merchants will form partnerships with selected PISPs based on beneficial fee structures or ancillary services. Large online merchants may also decide to establish PISP services themselves, thereby eliminating the ‘middle man’ and a Merchant Service Charge altogether. \n",
      "\n",
      "Customer usage of these PISP services may be encouraged through the provision of discounts or other loyalty schemes at the point of sale.\n",
      "\n",
      "Examples of using a bank-provided PISP service  to drive revenue growth through cross-selling\n",
      "\n",
      "A customer could also be provided with loyalty points for each transaction, with rewards and incentives based on the customer’s known preferences.\n",
      "\n",
      "A bank providing a PISP service has visibility of a customer’s intended transaction at the point of sale. As shown in Figure 11 this could enable the bank to prompt the customer with an alternative action or an additional relevant product at the time at which the customer is executing the transaction. \n",
      "\n",
      "In the context of a customer purchasing an expensive holiday or flights on a travel website, the bank PISP will have visibility of the transaction amount, payee International Bank Account Number (IBAN) and customer account balance. At the point of sale the bank could offer the customer pre-approved credit to cover the cost of the transaction or avoid a projected cash shortfall between the date of the transaction and the customer’s next salary payment. \n",
      "\n",
      "\fStrategic Option 4: Expand the Ecosystem  & Aggregate Value\n",
      "\n",
      "Beyond the monetisation of APIs and customer insight, investment in open APIs could present opportunities for more integrated partnerships between banks and third party companies within and outside of the financial services industry. Such partnerships could manifest themselves in two ways:\n",
      "\n",
      "i. Consolidation of services—new products/services owned by third parties but offered via the bank’s online portal and non-financial services, the bank can become a pivotal part of a customer’s daily life, acting as:\n",
      "\n",
      "ii. Consolidation of data—customer data owned on third party systems but presented on the bank’s online portal\n",
      "\n",
      "An open API infrastructure and the consolidation of customer data from multiple third party sources transforms the online banking portal into a platform reflecting the customer’s everyday needs and transactions. By establishing itself at the centre of this ecosystem of both financial \n",
      "\n",
      "• Advice Provider: Providing specific buying suggestions, based on deep customer knowledge and purchasing algorithms\n",
      "\n",
      "• Value Aggregator: Assembling components (financial and non-financial, own and third parties’) to create an integrated solution for ‘real world’ customer needs\n",
      "\n",
      "• Access Facilitator: Supporting the customer in ‘everyday/everywhere’ buying processes (shopping, access to daily services)\n",
      "\n",
      "Examples of using customer insight to cross-sell both bank and partner services\n",
      "\n",
      "A fully interconnected ecosystem could allow for real-time and geo-located offers to be presented to the customer via the bank platform. For example, as shown in Figure 12 a retail customer who purchases a new suit using a mobile wallet in-store or a PISP service could be presented with offers for related products such as new shoes at a nearby location. \n",
      "\n",
      "As the ecosystem expands and customer data from third party sources such as utility or telecom providers and retailers is surfaced on the online banking portal, the proposition becomes focused around customer experience and convenience, with relevant new services provided in partnership with third parties.\n",
      "\n",
      "For business customers, the online banking portal could evolve into a single source for business advice and management tools provided collaboratively by the bank and the wider partner ecosystem. For example, as shown in figure 13 the bank portal could act as a basic cloud CRM system  for SMEs offering web pages, payment options, digital marketing capabilities and customer communication channels.\n",
      "\n",
      "\fOperating Model Implications  of PSD2\n",
      "\n",
      "The impacts of PSD2 will be felt across the operating models of European banks. These impacts will vary in scale depending on each individual bank’s strategic response to the new opportunities enabled by PSD2. In some cases entirely new platforms, roles and capabilities will emerge within the bank, while in others existing capabilities will gain rising importance  and complexity. \n",
      "\n",
      "Head of Ecosystem & Partnerships\n",
      "\n",
      "In an expanded ecosystem, banks will have to negotiate new relationships and interactions with third party providers to drive mutual benefit for the bank, partner and customer alike. In order to support this new level of complexity, forward-looking banks will need to create an Ecosystem and Partnerships platform. This will provide ongoing and proactive oversight of the relationship between the bank and its network of external partners, covering aspects including partner assessment, contract and commercial management, governance, lifecycle management, performance management, and decommissioning. \n",
      "\n",
      "Effective management of partners drives alignment to a common agreed ecosystem operating model, which enables consistent service delivery and rapid decision-making throughout the ecosystem. It also ensures that the management and governance of partners is fully integrated with the bank’s internal operational & compliance structures, processes and technologies, encouraging ongoing collaboration and service improvement. \n",
      "\n",
      "Head of API Management/Open APIs\n",
      "\n",
      "As banks open up their APIs and allow TPPs to use their data, products and services, they will need to put in place infrastructure and roles to manage all their APIs in a reliable and secure fashion while negotiating the complexities of existing IT platforms.\n",
      "\n",
      "Head of Data Security & Identity\n",
      "\n",
      "A bank centred on a Digital Ecosystem will rely heavily upon customer data and insight. This will include the existing data already held within the bank as well as new customer data owned by third parties working in partnership with the bank or connected to it via APIs. As significant quantities of customer data begin to concentrate around the bank ecosystem, the monitoring and protection of this data becomes an increasingly core aspect of a bank’s operations and value proposition.\n",
      "\n",
      "Safeguarding this data will require the bank to ensure adequate controls are in place to verify the identity of the customer or TPP seeking access to bank’s APIs or customer data. \n",
      "\n",
      "Head of Loyalty\n",
      "\n",
      "The stated ambition of PSD2 is to increase competition and innovation in the European payments market. The regulation of new payments institutions such as AISPs and PISPs, as well as the introduction of rules on access to customer accounts, threatens to further disrupt a banking industry already under attack from within and beyond the financial services industry. In this dynamic competitive environment, where banks risk losing customer touch points if not becoming disintermediated entirely, a customer loyalty strategy is key to retaining competitiveness.  \n",
      "\n",
      "\n",
      "Conclusion\n",
      "\n",
      "Regulations, emerging technologies, changing consumer behaviour and competitive dynamics are fundamentally altering the payments landscape. These changes are already posing major threats to the traditional competitive advantages, customer relationships and revenues enjoyed by banks. Now PSD2 is set to heighten and accelerate these disruptions.\n",
      "\n",
      "Industry participants need to strike a fine balance between their desire to move forward quickly and the uncertainties that are still present with PSD2 and Open Banking. This requirement raises many questions. For example: \n",
      "\n",
      "• Do banks and industry participants wait for the EBA standards or move forward now, making assumptions as to what these standards will cover? \n",
      "\n",
      "• How does an institution manage its APIs for external access, and how many APIs are required?\n",
      "\n",
      "• For UK banks in particular, does Open Banking compliance lead PSD2—or is it the other way round?\n",
      "\n",
      "• How will the competent authorities, legislators and regulators in each jurisdiction interpret and apply PSD2? For example, will all payment and banking APIs need to be approved and regulated?\n",
      "\n",
      "Despite the uncertainties and challenges, there are significant opportunities for banks and other financial institutions to redefine their business and operating models to unlock new value and provide innovative customer propositions. These opportunities will be realised primarily by forward-looking companies who gain a first mover advantage—but achieving this will require clear decision-making now over the different strategic options that Accenture have set out in this paper. Is basic compliance with PSD2 enough? Or does the institution want to become an ‘Everyday Bank’ to gain the maximum competitive advantage and protect its revenue streams and customer base?   \n",
      "\n",
      "Accenture has extensive experience in payments, Everyday Banking, open APIs and digital banking strategies—and can help your organisation to navigate the optimal route along this journey. \n",
      "\f\n",
      "-1: Embedded Finance: What It Takes  to Prosper in the New Value Chain\n",
      "\n",
      "As this market expands, success will hinge on rethinking the risk and brand calculus, embracing different integration models, and understanding where to play.\n",
      "\n",
      "By Matt Harris, Blake Adams, Adam Davis, and Jeff Tijssen\n",
      "\n",
      "\fAt a Glance\n",
      "\n",
      "Financial services embedded into e-commerce and other software platforms accounted for $2.6 trillion, or nearly 5%, of total US financial transactions in 2021, and by 2026 will exceed  $7 trillion, our research finds.\n",
      "\n",
      "Payments and lending will continue to be the largest embedded financial services but will  be bolstered by the growth of adjacent value-added services, including insurance, tax, and  accounting.\n",
      "\n",
      "Demand will grow because the “better together” proposition promises to improve customer experiences and financial access, along with providing cost reductions and risk benefits to companies. \n",
      "\n",
      "Incumbent financial institutions face the threats of shifting economics and adverse selection with this new value chain, but they can also realize tremendous growth if they identify where to play across specific vertical segments. \n",
      "\n",
      "Embedded finance  accounted for $2.6 trillion of total US financial  transactions in 2021\n",
      "\n",
      "By 2026, embedded   finance will exceed $7 trillion of total US financial  transactions\n",
      "\n",
      "\fA completely new proposition for financial services customers\n",
      "\n",
      "The rise of embedded finance marks a new era, not only for banking transactions but also for how consumers and businesses build and manage relationships with financial services more broadly.\n",
      "\n",
      "In 2019, we wrote about the burgeoning movement of fintech from a business model unto itself to a key ingredient in the software platform stack—the “fourth platform.” Since then, the transition has been swift and unrelenting. Several platform archetypes have emerged, including e-commerce (such as Shopify), food delivery services and rideshare apps (Uber, DoorDash), and wellness (Mindbody). These offerings are supported by an army of well-funded fintech enablers, which help platforms deliver products and services. End users increasingly prefer the convenience of using payments, lending, insurance, and other financial services embedded in their day-to-day software, rather than accessing standalone services from traditional financial institutions.  \n",
      "\n",
      "Yet despite the rapid growth of embedded financial services, there has not been much quantitative exploration of the industry’s dynamics. To that end, we set out to quantify the size, growth profile, and economics of the key offerings powering the rise of embedded finance, focusing on the US market. Consisting of over 50 interviews with industry practitioners, market experts, and analysts, as well as a synthesis of published data, this research also draws on our collective experience working with software platforms, enabling firms, and license and regulatory services providers.\n",
      "\n",
      "We found that embedded finance already accounted for $2.6 trillion, or nearly 5% of total US financial transactions, in 2021, and by 2026 it will exceed $7 trillion, or over 10% of total US transaction value. Demand will grow because the proposition promises to improve customer experiences and financial access, along with providing cost-reduction and risk-reduction benefits to companies throughout the value chain.\n",
      "\n",
      "These developments herald a transformative financial moment. Embedded finance enables customers to have a new type of relationship with financial providers, giving them access to services as a by-product of the software they use and the goods they consume. While some companies will hesitate and possibly miss out on the opportunities, others will take the lead and figure out how to reap the benefits. This  report explores these benefits and how firms can capture them.\n",
      "\n",
      "\fThe research results in brief\n",
      "\n",
      "In 2021, US consumers and businesses poured $2.6 trillion in transactions through embedded financial services. When consumers tap “confirm” on a rideshare app, they are usually too busy scanning the road ahead to consider the technical acrobatics occurring in the blink of an eye. When they click “pay now” in their online shopping cart, they rarely appreciate the feats of engineering happening in the background.   \n",
      "\n",
      "Though the domain of embedded finance expands by the day and draws in more financial offerings, we focus here on the key segments of embedded payments, lending, banking, and cards within the US. These segments lead other products in terms of digital maturity, revenue generation, and use cases currently served.\n",
      "\n",
      "Our research reveals several insights:\n",
      "\n",
      "• Embedded finance can provide a much better value proposition. Customers benefit from  contextual, seamless experiences; platforms can unlock new use cases and often use proprietary customer data to improve financial access, while reducing costs for their end customers. \n",
      "\n",
      "When consumers tap “confirm” on a rideshare app, they are usually too busy scanning the road ahead to consider the technical acrobatics occurring in the blink of an eye. When they click “pay  now” in their online shopping cart, they rarely appreciate the feats of engineering happening in the background.\n",
      "\n",
      "\f• The new value chain favors platforms. The traditional, bank-driven value chain shifts to a new  ecosystem that typically requires four main participants: the end customer, platforms that own the customer relationship, software enablers that help meet complex regulatory and technological requirements, and a regulatory services or license provider. Firms can take on multiple roles and models.\n",
      "\n",
      "• The market is large and growing. We estimate the 2021 US market for platforms and enablers at  $22 billion in total revenue across payments, lending, banking, and cards. We expect this market to more than double to $51 billion by 2026. The transaction value of embedded finance also will surge from $2.6 trillion to $7 trillion in 2026. \n",
      "\n",
      "•  Different sectors and services are developing at different rates. Adoption curves vary, with retail  and e-commerce platforms serving as the major use cases for embedded finance solutions today. While payments and lending will continue to be the largest segments of embedded finance, we expect to see growth in insurance, tax, accounting, and other services.\n",
      "\n",
      "• Traditional financial services have reached an inflection point. Traditional institutions face the  threats of shifting economics and adverse selection with this new value chain. Yet they can also tap tremendous growth potential, especially if they identify where to play across specific vertical segments. Investing in the right capabilities will ultimately lead to opportunities to serve the new value chain in multiple ways.\n",
      "\n",
      "We expect the projections in this report to persist despite the current macroeconomic volatility and near-term recession risk. Our projections cover a five-year horizon that looks beyond short-term economic turmoil, including a recession that would chiefly affect the prospects for embedded payments over the next 18 months. We would expect accelerated growth coming out of any future recession, resulting in broadly the same outcomes over a five-year horizon. While all market projections come with risks, our forecasts reflect a sensible central projection of the growth trends in this market.\n",
      "\n",
      "\fWhat is embedded finance?\n",
      "\n",
      "Embedded finance began as technology to merge software and commerce business models. Today, \n",
      "the use cases continue to expand, from Shopify’s embedded banking offering, Shopify Balance, to a myriad of buy now, pay later (BNPL) options at online checkout. \n",
      "\n",
      "For this report, we define embedded finance as a nonfinancial software platform providing an adjacent financial service, for which it takes some degree of economic ownership. This allows the platform’s customers to take advantage of a value-added offering within the native customer journey.\n",
      "\n",
      "Embedded offerings can be built through a continuum of  integration patterns—from a deep reliance on enabling partners for infrastructure and domain expertise (known as the “thin stack”) to being entirely insourced and owned by the platform directly (the “full stack”)—depending on the platform’s capabilities and desired risk/reward profile.\n",
      "\n",
      "Most of these services have a financial core, such as banking, payments, lending, or insurance. Other categories have recently emerged, including compliance (tax, accounting), human capital management (payroll, benefits), and procurement within marketplaces. Embedded offerings can be built through a continuum of integration patterns—from a deep reliance on enabling partners for infrastructure and domain expertise (known as the “thin stack”) to being entirely insourced and owned by the platform directly (the “full stack”)—depending on the platform’s capabilities and desired risk/reward profile  (see Figure 1).\n",
      "\n",
      "\n",
      "The new value chain\n",
      "\n",
      "Four types of participants contribute to embedded finance: the end customer, a platform, a software and data enabler, and a regulated entity. The companies involved have carved out specific propositions,  with different ways of interacting  (see Figure 2). \n",
      "\n",
      "We excluded the following offerings from our research, as they do not meet at least one element of our definition:\n",
      "\n",
      "• Fintechs and digital banks with new features or products. The platform is a financial institution  at its core.\n",
      "\n",
      "• Cobranded credit cards. The offering is not embedded into the native digital customer journey.\n",
      "\n",
      "• Closed-loop digital cards or in-store loyalty spending programs. Digitally stored value and loyalty offerings, such as those provided through the Starbucks app, are an edge case; views may differ on whether this meets our definition or not. We have omitted the offering because it is a digitally native, closed-loop prepayment rather than a contextually embedded service with shared economics.         \n",
      "\n",
      "\fSoftware plus payments: Better together\n",
      "\n",
      "The success of embedded finance lies in is its ability to deliver a superior value proposition. Customers prefer the bundle, due to a combination of three factors:\n",
      "\n",
      "• Enhanced customer experience. An entrepreneur creating an online store using Shopify, for  example, is provided with payments processing as a matter of course. She has a better experience through streamlined onboarding, unified dashboards and tools, and one fewer vendor to manage.\n",
      "\n",
      "• Cost savings. Platforms often cross-subsidize their offerings, reducing costs for customers. Toast, which provides point-of-sale software and hardware, uses its payments revenue to subsidize its hardware, lowering overall costs for restaurant owners.\n",
      "\n",
      "•  Access and risk. Platforms use a vast well of customer insights to assess risk. This triggers better  financial accessibility for customers who might be ignored, rejected, or mispriced by traditional institutions that have fewer contextual data points.\n",
      "\n",
      "Platforms are partnering across the new value chain to deliver these benefits to customers and differentiate their core services. In turn, this increases their ability to spur sales in their core business. For example, embedding payments into the native invoicing workflow improves accounting or business management software for the merchant, significantly reducing time spent reconciling payments and invoices. \n",
      "\n",
      "Embedding financial services helps platforms drive superior economics, increasing customer lifetime value. With minimal incremental customer acquisition costs, platforms can raise average revenues per user, while keeping customers longer. The service gets more entrenched in customers’ respective business processes and adopted by the end users. This creates a virtuous cycle where the “better together” value proposition accelerates customer acquisition, while the additional revenue can be reinvested in the business to spur further growth.\n",
      "\f\n",
      "A $51 billion market opportunity\n",
      "\n",
      "Our sizing focuses on the largest embedded finance markets today, namely payments, lending, and banking, as well as the subcategories within them. We expect the US market to more than double from $22 billion in 2021 revenue to $51 billion by 2026 across those three markets—a 19% compound  annual growth rate (see Figures 3 and 4). \n",
      "\n",
      "Revenue growth will stem primarily from a substantial increase in transaction value through embedded finance platforms. We will see increasing penetration in certain industries and significant revenue multiples across smaller subsegments, such as business-to-business (B2B) payments and BNPL.  \n",
      "\n",
      "\fConsumer payments\n",
      "\n",
      "Consumer payments, or merchant acquiring, enables merchants to accept payment from their customers across payment channels (invoices, point of sale or PoS, keyed entry, web checkout) and methods (credit card, debit card, automated clearinghouse or ACH, wallet). For most software programs focused on small and midsize businesses (SMBs), consumer payments are typically one of the first financial services to be embedded, given the friction those customers face in setting up payment acceptance. \n",
      "\n",
      "Historically, merchants signed up for payment services via independent sales organizations to be approved by an acquiring bank—an arduous process that could take months. Over the past 15 years, new software-centric firms have created a function in the value chain, the payment facilitator, that underwrites merchants on the acquiring bank’s behalf and streamlines the delivery of payment acceptance capabilities. Today, a vibrant ecosystem of consumer payment enablers includes large, modern payment facilitators such as Stripe, PayPal, Adyen, and Square; legacy embedded enablers such as Global Payments and Worldpay; and start-ups such as Finix, Fortis, and Payrix.\n",
      "\n",
      "Consumer payments account for more than 60% of all embedded finance transactions. In 2021, US customers spent $1.7 trillion via embedded payments, generating $12 billion in net revenue, based  on an aggregate take rate of around 75 basis points (see Figure 5). Platforms and enablers shared  the $12 billion revenue at an average take rate of just under 40 basis points each.\n",
      "\n",
      "  \fWhile embedded consumer payment experiences are proliferating, adoption has concentrated in vertical software platforms across e-commerce, retail and restaurant PoS, wellness businesses, non-profits, and field services. Indeed, one payments software executive calls payments “the catalyst to offer other financial products.”\n",
      "\n",
      "By 2026, we project that consumer payment transactions through embedded platforms will more than double, reaching $3.5 trillion and earning platforms and enablers $21 billion in revenue. This will flow from faster penetration of embedded payments among industries including retail and food services, where it will nearly double to capture 70% of SMB transaction volume. We might also see new vertical categories emerge as digital payments become more prevalent.\n",
      "\n",
      "By 2026, platform revenue will more than double to $14 billion, with take rates remaining largely flat. Meanwhile, enabler revenue will rise only slightly to $7 billion, with a significant drop in pricing and  take rates, from an average of 38 to about 20 basis points, due to increased competition.\n",
      "\n",
      "B2B payments\n",
      "\n",
      "In the US, B2B payments accounted for $27.5 trillion in transaction value in 2021, with accounts payable and accounts receivable (AP/AR) services representing around 90% of the value. B2B embedded payments have not penetrated as deeply as consumer embedded payments, in part because of a heavy reliance on checks and ACH payments relative to other payment methods, such as eCheck and virtual cards.\n",
      "\n",
      "Large banks have made inroads with embedded B2B payments, but in the past few years several payments and AP/AR automation platforms have emerged—Bill.com, Billtrust, AvidXchange, and Taulia, to name a few—to more fully define the ecosystem and accelerate adoption.\n",
      "\n",
      "In 2021, embedded B2B payments generated $1.9 billion in revenue. Card transactions accounted for $0.7 billion of revenue, split evenly between platforms and enablers, while ACH accounted for $1.2 billion of total revenue.\n",
      "\n",
      "By 2026, we expect B2B payments to reach $33.3 trillion, with embedded payments taking a considerably higher share as buyers shift to eCheck, virtual cards, and value-added ACH to streamline operations and simplify AP/AR reconciliation. During this time, the B2B embedded payments market will nearly quadruple from $0.7 trillion to $2.6 trillion, with revenues growing proportionally from $1.9 billion  to $6.7 billion (see Figure 6).\n",
      "\n",
      "For B2B embedded card payments, as with consumer payments, we expect enabler take rates to face some pressure over the next few years. Platform take rates will rise slightly, leading to a 2026 revenue split of $1.5 billion for platforms and $0.8 billion for enablers, which reflects the overall increase in embedded B2B card payment growth.\n",
      "\n",
      "\n",
      "For B2B embedded ACH, we anticipate that platforms will see just under $4 billion of net revenue from value-added services related to ACH in 2026, compared with less than $0.5 billion for enablers.\n",
      "\n",
      "SMBs, which represent 57% of B2B card volume, will be significant adopters as embedded penetration rises from 5% in 2021 to 15% in 2026. Much of the growth here rides on ensuring that late or unpaid invoices are fulfilled, generally by integrating a one-click payment mechanism, initiated by the  customer upon receipt. This is especially valuable for SMBs, for whom late payments can threaten  viability; by contrast, large enterprises generally have treasury solutions offered by traditional banks, often bundled with lending and investment products.\n",
      "\n",
      "Buy now, pay later\n",
      "\n",
      "Over the past five years, BNPL has proliferated across e-commerce platforms, alongside the rise of unicorn enablers Affirm, Klarna, and Afterpay. Catalyzed by pandemic lockdowns, BNPL and PoS lending proved useful for consumers to access goods and services, even if they didn’t have all the money required at the point of purchase.\n",
      "\n",
      "\fWhile BNPL and PoS offerings overlap and the terms are sometimes used interchangeably—both give customers the chance to pay for goods and services in installments at the point of purchase—for this report, we define BNPL as deferred installment payments that are interest-free. BNPL payments usually come in four installments, paid within 12 months. The enablers monetize through a discount rate on the total transaction value that they charge to the merchant.\n",
      "\n",
      "Some $1.4 trillion poured through online retailers and marketplaces in the US in 2021. Around $50 billion of that went through a BNPL platform, or between 3% and 4% of total sales. By 2026, the total will grow substantially to reach $2.4 trillion in transaction value. With between 10% and 12% forecasted to be embedded, this would bring the BNPL market size to an impressive $265 billion.\n",
      "\n",
      "We estimate that US BNPL revenues for enablers and platforms came to nearly $1 billion in 2021. We  expect that sum to grow (albeit with compressed margins) to around $4 billion by 2026 (see Figure 7).  BNPL transactions have soared in Europe, and the US BNPL market will likely follow suit over the next few years. In the UK, BNPL accounts for roughly 5% of online transactions, while in Sweden it makes up 23% of all transactions online.\n",
      "\n",
      "Competitive intensity will likely compress margins. Today, BNPL enablers tend to achieve take rates of 150 to 180 basis points. By 2026, we anticipate that take rates will shrink to 130 to 150 basis points, despite a potentially rising interest rate environment.\n",
      "\n",
      " \fStudies show customers spend a little extra at checkout through BNPL, and platforms benefit through increased conversion with bigger basket sizes. However, the economic rents of BNPL are evolving. Platforms may in time begin to renege on the current model, in which BNPL payers charge merchants and assume the risk of collection.\n",
      "\n",
      "Point-of-sale lending\n",
      "\n",
      "Point-of-sale (PoS) lending has existed as a credit option for consumers for many years. An alternative to BNPL, it’s often used for more expensive goods, such as furniture and large appliances, and includes interest, usually across 6- or 12-month terms—the fundamental difference between PoS lending and BNPL. However, as with BNPL, the value to the merchant comes through increased sales conversion and larger basket size. Platforms don’t generate revenue through interest and generally pay a certain percentage fee to enablers such as Affirm to operate.\n",
      "\n",
      "In 2021, PoS penetration of total consumer transactions stood at around 4%, or roughly $428 billion. Traditional lenders finance the vast majority, leaving around 10% of PoS transactions made via embedded finance, resulting in a loan value of around $43 billion. By 2026, this market will grow to between $80 billion and $90 billion, with negligible growth of PoS transactions overall but an  increasing share becoming embedded (see Figure 8).\n",
      "\n",
      "   \fWithin embedded PoS lending, enablers and platforms should be able to increase their profits, despite shrinking margins. We expect revenues to jump from $4.2 billion to $7.5 billion.\n",
      "\n",
      "Enabler take rates will likely decline. We estimate that PoS enablers today take a healthy 9% to 11% of the credit value. By 2026, we anticipate a decline to between 8% and 9%. This is still significant, especially when compared with the transaction returns of BNPL, but PoS has higher servicing costs as a consequence of the business model.\n",
      "\n",
      "Business-to-business lending\n",
      "\n",
      "Sparked by the pandemic, embedded B2B lending has gained momentum over the past few years, partly because of limited access to traditional bank lenders but also because the Paycheck Protection Program helped catalyze the online direct lending space. As one bank executive notes, “It’s hard for small  businesses to get a loan. They have no collateral, and accounting records are designed to minimize taxes. Banks are not well positioned to underwrite small businesses.”\n",
      "\n",
      "Examples of B2B embedded lending include Mindbody Capital, which offers credit to its SMB wellness customers through the core solution powered by Parafin, and Toast, the restaurant management and PoS solution that launched Toast Capital in 2019 to lend to its restaurant customers across the US.\n",
      "\n",
      "As of 2021, we estimate that around $12 billion in B2B loans transacts via embedded finance. This is based on a total SMB loan value of just under $400 billion, where the individual loans are less than $1 million in value. Of this total, embedded penetration stood at around 3%, underpinned by the market shares of the relative embedded finance balance sheet providers, such as Cross River Bank. We anticipate rapid growth through 2026, with a fivefold increase in embedded B2B lending, bringing the loan volume to between $50 billion and $75 billion, or around 15% of the total, which will also rise slightly to around $430 billion.\n",
      "\n",
      "The revenue model for platforms and enablers varies. The average time that the lender of record retains the loans can be as short as a few days, and the entity that bears the credit and underwriting risk will earn the lion’s share of the finance charges, which can typically be between 6% and  10% of the principal loan for merchant cash advances, significantly more than weighted-average SMB interest rates.\n",
      "\n",
      "Assuming the platform does not take any credit risk, it can expect to take between 50 and 200 basis points of the total principal. This means B2B lending revenues, which equated to only $0.2 billion  in 2021, should rise to $1.3 billion by 2026 (see Figure 9).\n",
      "\n",
      "This is a floor for the revenue estimate. If platforms or enablers are willing to accept some of the underlying credit risks, they could earn significantly more. They could fund loans off of their balance sheet, take a first-loss exposure in a structured financing, or receive a credit performance fee as a partial or full substitute for their share of finance charges.\n",
      "\n",
      "\n",
      "Banking and cards\n",
      "\n",
      "Starting as a way for fintechs and neobanks to borrow the banking license of an established bank, embedded banking has historically been limited to prepaid or debit cards. New use cases then emerged, among gig workers and sole proprietors, and our research indicates that the market growth will continue alongside the rise of a broad set of enablers, including Galileo, Treasury  Prime, Stripe, and Marqeta. \n",
      "\n",
      "An example of embedded banking is Shopify Balance, which offers merchants a business bank  account and debit card powered by Stripe Treasury. As an executive with a leading provider told us, “We cannot keep up with the demand. We can afford to be highly selective with the platforms we choose to partner with because there are so many requests.”\n",
      "\n",
      "Much like embedded finance itself, the definition is evolving. While banking as a service (BaaS) can be considered as the provision of any part of the full value chain, for this segment we analyzed platforms that allow end users to set up banking and payment accounts and receive associated payment cards. The customer doesn’t interact with the underlying banking provider, except possibly to handle a dispute. Based on our definition of embedded finance, we have not included neobank- or fintech-issued cards here.\n",
      "\n",
      "\fAs of 2021, US consumers and businesses spent $3.60 trillion on their debit cards and $3.55 trillion on their credit cards. Between 3% and 4% of these transactions for debit cards, and less than 1% for credit cards, were conducted using embedded banking offerings. By 2026, the nonfinancial services market penetration for debit cards will increase potentially fivefold to around 15%, while we see the start of credit card SaaS models adapted for embedded finance. The total embedded penetration  across both will average around 9% (see Figure 10).\n",
      "\n",
      "Although competition will continue to compress providers’ margins, the revenues for platforms and enablers should still increase from $2 billion to $11 billion within banking and cards. These revenues are composed of transaction fees across debit and credit cards, which account for the majority of platform revenue, and SaaS fees charged to the platforms, which account for the majority of enabler revenue. Debit transactions compose the largest share of card issuance and transaction volumes, while the credit market remains small, with a limited number of enablers serving it. \n",
      "\n",
      "In 2021, transaction revenue via cards was weighted toward platforms at $0.75 billion, contrasted with enablers at $0.35 billion, of which over 90% resulted from debit transactions. By 2026, we expect both levels to rise based on higher volume of embedded transactions by nonfinancial institutions. This should cause revenues to reach just over $4 billion for platforms and $1.3 billion for enablers. In the same period, we expect enabler SaaS fees to scale proportionally, growing to over $5 billion.\n",
      "\n",
      "\fThe addressable market for embedded services such as insurance, tax, and payroll stands to grow, with retail and e-commerce platforms forming the lead use cases.\n",
      "\n",
      "This growth won’t come without a few bumps. With the squeeze on fees tightening, the strongest providers are looking to offer a range of value-added services as part of the package, such as anti-fraud, dispute management, know-your-customer, compliance, and merchant acquisition management.\n",
      "\n",
      "Growth will depend on alignment between the platform’s ecosystem strategy and the requisite scale.  Uber Money, for instance, allows drivers to receive payments in the driver app, then automatically transfer and spend directly from their debit card with associated benefits and rewards from Uber’s partners, making the ecosystem benefit the driver.\n",
      "\n",
      "Market growth on the horizon \n",
      "\n",
      "As embedded services evolve, the total addressable market stands to grow. Enablers will move beyond payments and debt into new value-added services, including insurance, tax, and payroll. Regulation technology and compliance functionality could also become embedded in the short to medium term.\n",
      "\n",
      "Looking at industries, retail and e-commerce platforms form the lead use cases. They’re highly digitized, with universally accepted checkout and payment options. Two-sided marketplaces across meal and grocery delivery, ridesharing, and mobility are prevalent consumers of embedded finance, facilitating payment in and out for restaurants and gig-economy workers, and often generating revenue from debit card transactions.\n",
      "\n",
      "Conversely, many other industries have been slower to advance digitally, because of a lack of disintermediation, regulatory influences, or customer preferences, and are therefore harder for embedded finance to penetrate. Real estate, for instance, lags partly due to payment type (reliance on checks and ACH) and partly because the transaction value is so significant it would likely be subjected to  platform caps and regulatory and legal requirements (see Figure 11).  \n",
      "\n",
      "\fWho in the value chain benefits most? \n",
      "\n",
      "As we survey the competitive landscape, platforms will continue to serve as the prime owner of the customer relationship, taking an increasing share of the embedded finance profit pool. \n",
      "\n",
      "Enablers will need to manage their operating costs in a bid to secure desirable platforms. As enablers jostle for business, that further strengthens the platforms’ position. The exceptions here are large enablers that use their size to command a significant share of the economic rents. Empowered by numerous vertical partnerships with different platforms, dominant enablers would be able to secure better prices and direct developments in the market. \n",
      "\n",
      "Moving in-house\n",
      "\n",
      "Some larger platforms may decide to bring in-house certain enabling services in order to unlock marginal gains across that large scale. Relevant services could include some credit and market risk functions, as well as sales and support services, such as collections, which touch customers directly. This already occurs in payments, where platforms are becoming payment facilitators to maximize vertical integration and profits.\n",
      "\n",
      "Should that happen, enablers will continue to play an important part in helping platforms navigate complex regulatory, financial, and technological requirements. Even if they do not build it themselves, the specialist knowledge of fintech experts and engineers will be crucial to platforms’ ongoing success. \n",
      "\n",
      "Other parts of the value chain should remain as is. Providing core infrastructure and licenses will be largely commoditized and therefore continue to be outsourced. Larger banks, in turn, may lose their advantage in providing these services, due to regulatory arbitrage. For example, the Durbin Amendment limits debit card interchange fees for large banks, which favors smaller, Durbin-exempt banks to provide the infrastructure and licenses for products linked to debit cards.\n",
      "\n",
      "\fWhat role for traditional banks?\n",
      "\n",
      "In the traditional banking value chain, banks provided products and largely owned distribution and customer primacy. Embedded finance unbundles this business model. Banks still play the role of a regulated entity, managing the associated risks and balance sheets in a low-margin, low-growth business. For larger banks that hold significant customer primacy, the regulated entity role alone  is no longer a viable option (see Figure 12).  \n",
      "\n",
      "That’s because traditional financial institutions face potentially deteriorating economics as providers of commodity services. Profit pools will increasingly favor platforms and enablers using superior technology, algorithms, and more contextual data to target the most creditworthy customers. In the future, only unprofitable or higher-risk consumers may default to traditional channels. Regardless of how banks grade loans, they won’t see the valuable lending opportunities.\n",
      "\n",
      "Instead, traditional institutions should view embedded finance as an opportunity to reinvent their core business, build new growth engines, and offer more interoperable products and services. One way would be to move up the value chain and offer enabling services, as JPMorgan Chase did when buying WePay, or to procure stakes in platforms. The sweet spot is likely a combination of all, depending on the vertical sector at play and the products in scope.\n",
      "\n",
      "\fBuilding a successful embedded finance proposition will require a fundamental rethinking of the capabilities needed, especially in terms of risk. Having a certain share of nonbanked customers unconditionally processed through a real-time credit decisioning engine will challenge most banks’ tolerance for risk.\n",
      "\n",
      "Building a successful embedded finance proposition will require a fundamental rethinking of the capabilities needed, especially in terms of risk. Having a certain share of nonbanked customers unconditionally processed through a real-time credit decisioning engine will challenge most banks’ tolerance for risk. Banks and regulators will have to get comfortable with platforms and enablers making credit decisions that may affect traditional balance sheets, based on real-time and contextual data held outside of the bank.\n",
      "\n",
      "Three possible moves for banks. For banks considering the opportunities, it’s useful to think in terms  of executing a portfolio play. Broadly speaking, we see three types of initiatives in this portfolio:\n",
      "\n",
      "• defending current leadership positions and customer primacy;\n",
      "\n",
      "• extending reach in another platform; or\n",
      "\n",
      "• creating new growth engines by disrupting a new vertical industry.\n",
      "\n",
      "Some firms have begun executing such portfolio plays. Goldman Sachs has taken strategic bets across  the value chain, including cementing itself as the banking partner for Apple Card and a partner for  Stripe Treasury, while also fielding its own distribution through Marcus and MarcusPay. \n",
      "\n",
      "Fifth Third provides embedded credit and payment services to both small businesses and retail platforms. It has doubled down on the healthcare industry, acquiring the Provide platform to participate in distribution and enablement. \n",
      "\n",
      "\fNext steps for the value chain\n",
      "\n",
      "Embedded finance has brought challengers and stiff competition to banking territory. For those institutions and platforms already struggling with technology debt, embedded finance could prove too high a hurdle in the battle to stay relevant. Others will thrive amid the shift from closed to open IT architecture.\n",
      "\n",
      "The key is to be practical and clear about monetization strategies, focusing on how to reach the volume necessary to justify the expense of building new capabilities. It makes sense to outline participation choices early, staying close to areas of strength and core capabilities. A fair share of what banks need they probably already have, so externalizing these services can become part of the first-draft architecture. \n",
      "\n",
      "Enablers’ goal: Making things easy\n",
      "\n",
      "Although growth looks strong for enablers overall, the supply of new enablers could far outstrip demand. \n",
      "\n",
      "The key is to be practical and clear about monetization strategies, focusing on how to reach the volume necessary to justify the expense of building new capabilities. It makes sense to outline participation choices early, staying close to areas of strength and core capabilities.\n",
      "\n",
      "\fThe winners will likely provide a full suite of services, including some regulatory oversight, compliance, origination, and fulfillment. Enablers that take the hassle out of embedded finance for platforms through easy integrations and great servicing should hold the upper hand. They can choose a high-volume, self-service model, or a higher-touch operation across fewer, bigger platforms. And they may concentrate on specific sectors with large or growing addressable markets, where they can scale up and steadily improve the user experience.  \n",
      "\n",
      "Platforms choose their partners\n",
      "\n",
      "Platforms have the chance to maximize retention and unlock new revenue streams for relatively low costs. Those that own distribution will be able to offer unprecedented convenience to end  users, sparking large new revenue streams. \n",
      "\n",
      "To succeed, they’ll need to choose partners carefully—institutions that truly meet their needs and enablers with a razor-sharp focus on fulfilling their requirements. \n",
      "\n",
      "Moving forward\n",
      "\n",
      "With a fast-paced development arc, embedded finance is attracting significant funding from venture capital and growth equity. The space will continue to be well funded as more use cases expand the addressable market. \n",
      "\n",
      "Embedded finance will play a fundamental role in shifting how consumers interact with their finances. It will also change whom customers trust to interact with. The number of new enablers serving distinct niches will grow in ways that will both fragment and consolidate the value chain. This will give platforms plenty of choice to curate partnerships that suit their needs. As a result, customers will continue to experience more contextual, seamless, and accessible financial services. \n",
      "\n",
      "\fDefinitions\n",
      "\n",
      "B2B lending. Embedded B2B lending encompasses loans provided by a platform to a business within  that platform. The platform could be a software business or a marketplace. For this research, we’ve also included loans, even if the true lender is a bank. We do not include lending marketplaces or pure referral schemes.\n",
      "\n",
      "B2B payments. B2B payments are business services that enable customers to send digital invoices,  which can be paid using an embedded finance option. The services are provided by an accounting SaaS or AP/AR platform. We do not include bank-provided cash management or treasury solutions in our definition.\n",
      "\n",
      "Banking and cards. We analyzed platforms that allow end users to set up banking and payment  accounts and receive associated payment cards. The customer doesn’t interact with the underlying banking provider. Based on our definition of embedded finance, we have not included neobank- or fintech-issued cards. For the end user, the experience is fully contextualized within the platform’s environment, commonly an app or website. The platform owns and manages the experience. \n",
      "\n",
      "BNPL. A BNPL offering gives customers the chance to pay for goods or services in installments at the  point of purchase. For the customer, the repayments are interest-free. Deferred payments usually come in four installments, paid within 12 months. \n",
      "\n",
      "To do this, the underlying enabler will pay the e-commerce platform immediately at the point of sale, with a small discount. From there, the platform takes all the responsibility of recovering payment from the customer. We do not include in this subsegment any form of financing at the point of sale that may incur interest.  \n",
      "\n",
      "Point-of-sale lending. Our analysis includes platforms that allow consumers to pay for their goods  and services via an interest-bearing loan. This option is provided by an underlying enabler that will:\n",
      "\n",
      "• pay the platform immediately at the point of sale, charging it credit rates; and\n",
      "\n",
      "• take on all responsibility of recovering payment from the consumer.\n",
      "\n",
      "We do not include interest-bearing financing options that are not provided at the point of sale, or that are provided by the retailer directly in partnership with a bank or lender.\n",
      "\f\n",
      "1: Global Payments 2019\n",
      "\n",
      "TAPPING INTO POCKETS  OF GROWTH\n",
      "\n",
      "SUSHIL MALHOTRA\n",
      "\n",
      "PRATEEK ROONGTA\n",
      "\n",
      "YANN SÉNANT\n",
      "\n",
      "STEFAN DAB\n",
      "\n",
      "ALEXANDER DRUMMOND\n",
      "\n",
      "ALEJANDRO TFELI\n",
      "\n",
      "MARKUS AMPENBERGER \n",
      "\n",
      "TAMMY TAN\n",
      "\n",
      "INDERPREET BATRA\n",
      "\n",
      "KEITH BUSSEY\n",
      "\n",
      "MICHAEL STRAUß\n",
      "\n",
      "\fCONTENTS\n",
      "\n",
      "INTRODUCTION \n",
      "\n",
      "MARKET OUTLOOK\n",
      "Global Trends\n",
      "Regional Outlook\n",
      "\n",
      "FINDING THE GREEN SHOOTS IN RETAIL PAYMENTS\n",
      "Three High-Growth Areas for Issuers\n",
      "Three Critical Capabilities for Acquirers \n",
      "\n",
      "IN WHOLESALE, SOME PARTS ARE GREATER THAN  THE WHOLE\n",
      "Reckoning with Digital Disruption\n",
      "Investing to Win\n",
      "\n",
      "FOR FURTHER READING\n",
      "\n",
      "NOTE TO THE READER\n",
      "\n",
      "    \fINTRODUCTION\n",
      "\n",
      "Lifted by the global shift away from cash, buoyed by the uptake of electronic transactions, and amplified by big tech and fintech  innovations, payments revenue worldwide is on track to grow by 5.9%  annually through 2028—extending an unbroken streak that began in  the aftermath of the 2008 recession. However, achieving growth above  GDP levels will be challenging for incumbent players. To succeed,  they must accelerate digitization, gain scale, and tap the potential of  emerging markets.\n",
      "\n",
      "The rapid digitization of payments technologies and products has  created a tumultuous competitive landscape. Attracted by its burgeon­ ing growth, new players and investment have poured into the pay­ ments space. Big technology companies like Ant Financial, Tencent,  Facebook, Apple, and Google have entered the market, but so have  neobanks with niche offerings. According to Boston Consulting  Group’s Fintech Control Tower, more than 27% of cumulative fintech  funding globally from 2000 through the first quarter of 2019 has  flowed into payments. \n",
      "\n",
      "Although BCG does not believe that the traditional incumbent pay­ ments ecosystem is in immediate danger, systemic challenges are be­ coming more acute as the number of competitors attacking different  points along the value chain grows. Attackers will continue to erode  the edges of incumbent profit strongholds, focusing on high­growth  niches. For instance, emerging working­capital lenders and point­of­ sale (POS) financing providers have begun to target the payments­  based lending pool—pursuing a revenue stream that accounts for  approx imately $300 billion in revenue globally. Established players  cannot cede ground in strategic areas such as these without weaken­ ing their core business over time. To stay relevant and sustain strong  revenue growth, payments players must become ultra­focused, con­ centrating on areas that are likely to be critical in the future and se­ lecting those where they have natural advantages. \n",
      "\n",
      "For issuers, that means innovating in lending, cobranding, and cus­ tomer experience, and monetizing the use of data and analytics. Mer­ chant acquirers—particularly bank­owned ones—need to decide  quickly whether to build needed capabilities in house or find a part­ ner that can fill critical gaps and grow with them. \n",
      "\n",
      "Wholesale payments players also need to double down on strategic  avenues of growth. Promising green­shoot areas include trade finance,  supply chain finance, and cross­border payments. In addition, incum­ bents may be able to unlock significant cost savings and customer value by modernizing their technology platforms, advancing their use of  auto mation and data, and transforming their customer service model.\n",
      "\n",
      "These are among the findings of BCG’s 17th annual analysis of pay­ ments businesses worldwide. Our coverage draws from BCG’s propri­ etary global payments model, using data from SWIFT, a global pro­ vider of secure financial messaging services. The first chapter of the  report outlines recent developments in the payments market globally  and regionally. The second chapter explores how retail providers  should respond to ongoing digital disruption, and the third chapter   explains how wholesale banks can innovate from within and address  the capabilities gap that exists between them and digital challengers.  Ultimately, our report concludes, payments players that focus strategi­ cally on high­ value opportunities will be best positioned to ride the  current wave of growth and to capture an outsize share of its rewards.\n",
      "\n",
      "\fMARKET OUTLOOK\n",
      "\n",
      "Fueled by the steady expansion of cashless transactions and positive macro­ economic trends, global payments revenues  should rise by a compound annual growth  rate (CAGR) of 5.9% from 2019 to 2028, in  line with the average CAGR of 5.8% posted  since 2010.1 (See Exhibit 1.) The expansion  will add about $1.0 trillion to the payments  revenue pool, raising the total to roughly $2.5  trillion by 2028.2 Rapidly developing econo­ mies will be the engine of that growth. \n",
      "\n",
      "Retail payments revenues will increase by a  CAGR of 6.0% from 2019 to 2028, modestly  outpacing wholesale payments growth (5.6%). \n",
      "\n",
      "E­commerce and other remote transactions,  which BCG expects will grow by 11% annually  over the next five years, should be a critical  driver of retail payments growth. \n",
      "\n",
      "Global Trends\n",
      "Payments is a diverse space. Nevertheless,  BCG’s market data reveals several develop­ ments that may have strategic implications  for participants globally.\n",
      "\n",
      "Cashless Is King\n",
      "The move away from cash and toward digital  payments has lifted payments revenues worldwide. Card transactions per capita have  grown at a CAGR of 13.6% globally from 2010  to 2018, compared with 5.2% growth in con­ sumer spending overall. Adoption will contin­ ue to grow as rapidly advancing technologies  make cashless transactions more convenient  for customers and merchants. Some govern­ ments have also become proactive proponents  of noncash initiatives, because cashless pay­ ments reduce money laundering, fraud, and  gray economic activity and because evidence  suggests that the migration to a more cashless  society can boost annual gross domestic prod­ uct (GDP) by as much as 3 percentage points. \n",
      "\n",
      "Many countries are exploring a combination  of infrastructure and policy measures to pro­ mote adoption. For instance, Singapore accel­ erated cashless transactions by introducing a  national real­time payments platform, Pay­ Now; and South Korea spurred adoption by  offering end­of­year tax credits of up to 30% of  spending on debit cards. Nations in an emerg­ ing group of “payments tigers” have also  made rapid progress. Poland, for example,  saw card transactions grow from fewer than  25 per capita in 2010 to about 130 per capita  in 2018, driven by initiatives such as Cashless  Poland, a public­private partnership support­ ing cashless payments for small businesses.\n",
      "\n",
      "The US will see payments  grow at a compound annual  rate of 3.8% through 2028.\n",
      "\n",
      "Payments Revenues Are Likely to  Weather an Economic Slowdown\n",
      "Despite concerns about a looming slowdown  in North America and Western Europe,  macro economic trends point to a favorable  outlook for payments revenue growth overall  during the next decade. Our data suggests  that labor growth is likely to hold steady,  strengthening household balance sheets and  giving consumers greater purchasing power,  which should prop up retail payments activity.  Barring a global shock similar to the reces­ sion of 2007–2008, we anticipate that corpo­ rate spending will remain similarly resilient.  Many businesses are still dealing with pent­up demand from the lean years following the  finan cial crisis, and this should support  future  spending.3\n",
      "\n",
      "Regional Outlook\n",
      "We expect all regions to see growth over the  next decade, albeit at very different speeds. \n",
      "\n",
      "North America\n",
      "From 2010 to 2018, US payments revenue  grew at a compound rate of 3.2%. While low­ er than the global average of 5.8%, this figure  is roughly in line with those for the world’s  other mature markets—in Australia, Canada,  Japan, New Zealand, South Korea, and West­ ern Europe. We project that growth in the US  will continue at a compound annual rate of  3.8% from 2019 to 2028.\n",
      "\n",
      "Credit cards have long been the heavyweight  in the US payments arena. They accounted  for two­thirds of all revenues in 2018, and we  project that they will drive 62% of net growth  from 2019 to 2028. BCG’s second Quarterly  Credit Card Issuer Report for 2019 indicates  that year­over­year credit card growth is slow­ ing slightly after accelerating in 2017 and ear­ ly 2018.4 However, we believe that payments  revenues overall will be able to weather an  economic downturn and that growth in cards  will remain healthy. \n",
      "\n",
      "That growth will receive a boost from a rise  in contactless payments. We expect to see  continued cash­to­card substitution for small  purchases, with public transit use playing a  key role. New York’s transit system began  accept ing contactless payments in June 2019,  and growth in contactless payments should  rise significantly as other urban hubs follow  suit. Banks are also helping with the push. JP  Morgan Chase announced in November 2018  that it hopes to move all customers to con­ tactless cards by the end of 2019; and in June  2019, Bank of America issued 4 million con­ tactless cards to customers in three key cities.  Merchant adoption is growing, too. In the past  12 months, leading retailers such as Costco  and Target have announced plans to accept  contactless card payments. Future adoption  could mirror that of other heavy card­using  countries such as the UK, Australia, South   Korea, and Canada. In Canada, for example, the volume of contactless payments grew  from less than $10 billion in 2012 to more  than $100 billion in 2017. \n",
      "\n",
      "In markets like Canada and the UK, where  contactless card payments have been in use  for some time, consumers rely on cards to  transact many of their daily purchases, includ­ ing lower­value items that they previously  bought with cash. Growing card use by con­ sumers led Canada to outpace the US in con­ sumer credit card spending both per capita  and per dollar. Average credit card transac­ tion values reflect this shift: they fell by 1.4%  per year in Canada (from 2012 to 2018) com­ pared with a decline of 1.1% in the US. \n",
      "\n",
      "Credit cards also dominate on the wholesale  front. Since 2010, cards have accounted for  more than 50% of revenues earned by finan­ cial institutions. As business­to­business  (B2B) payments become more widespread  over the next decade, revenue growth from  commercial cards for financial institutions is  likely to double.\n",
      "\n",
      "Europe\n",
      "Payments revenue in Europe is on track to  see a CAGR of 5.9% through 2028. After flat­ lining from 2010 to 2018, revenues in Western  Europe are projected to grow at 5% for the  next decade, lifting growth for the region  overall. Meanwhile, in Eastern Europe, pay­ ments revenue will continue to see above­  average growth, with a CAGR of 7.4% forecast  from 2019 to 2028. Russia is fueling much of  that expansion. As we pointed out last year, a  combination of cheap retail funding, heavy  market concentration, and major technology  invest ments has contributed to the “Russian  Miracle,” making Russia the global leader in  tokenized secured transactions and the larg­ est market in Europe for digital wallets.\n",
      "\n",
      "Consolidation is likely to have a significant  impact on the payments landscape in both  Western Europe and Eastern Europe over the  next decade, as providers expand their capa­ bilities, move to new markets, and seek scale.  Several M&A announcements occurred in  2018 and the first half of 2019, and we expect  a further wave of buyouts across the European  payments landscape as providers strive to  build cross­border scale and new digital capabilities. We anticipate that this merger trend  will be especially pronounced among mer­ chant acquirers and networks. \n",
      "\n",
      "Two other factors are likely to contribute to  growth in the region. The first is the Second  Payments Services Directive (PSD2), which  went into full effect in September 2019. PSD2  opens the banking market in Europe, creating  opportunities for banks and payments play­ ers to introduce innovative, frictionless pay­ ments solutions. Although payments players  have yet to launch transformative business  models that take advantage of the emerging  possibilities—with a few notable exceptions  such as ING’s Yolt, and HSBC’s Connected  Money account aggregation solutions—that’s  likely to change. New collaborative models  such as the Worldpay–Mastercard partnership  announced in 2018 allow consumers to access  their bank’s app from the merchant checkout  page. Similarly innovative models could be  the way of the future.\n",
      "\n",
      "Payments revenue in Europe  is on track achieve a CAGR of  5.9% from 2019 to 2028.\n",
      "\n",
      "The second factor is a dramatically improved  interregional payments infrastructure. The  Nordics, in particular, are leading this develop­ ment with a new financial infrastructure that  could greatly accelerate transfers across bor­ ders and currencies. Project P27, so­called for  the 27 million people who live in Sweden,  Norway, Denmark, and Finland, will build on  the success of smart­phone payments applica­ tions that Nordic banks have already created,  such as Swish in Sweden and Norway’s Vipps.  The aim is to make it possible to clear pay­ ments and settle accounts within seconds, re­ gardless of currency. \n",
      "\n",
      "In addition, the Eurosystem’s launch in No­ vember 2018 of TARGET Instant Payment  Settlement (TIPS), a new market infrastruc­ ture service, will allow European payments  players to move closer to satisfying customer  demand for low­cost, real­time, 24/7/365  cross­border payments. \n",
      "\n",
      "\fAsia\n",
      "Asia will remain a hotbed of payments inno­ vation and growth. From 2019 to 2028, pay­ ments revenue in the region should grow by a  CAGR of nearly 6.4%. That heady expansion  means that Asia will account for almost 40%  of total global payments revenues by 2028.  Retail transactions, which make up 77% of  those revenues, will drive most of the region’s  payments growth.\n",
      "\n",
      "By 2028, Asia will account for  almost 40% of total global  payments revenues.\n",
      "\n",
      "China will continue to be a major force.  Although GDP forecasts for China trend down­ ward, taking payments revenue projections  down with them, we forecast that China will  still account for two­thirds of Asian payments  revenue over the next ten years. Alipay and  WeChat dominate mobile payments in China.  Together, the two companies account for  more than 90% of the roughly $7 trillion  third­party mobile payments market. How­ ever, we also expect to see strong credit cards  growth, with a CAGR of nearly 10% forecast  over the next decade. China’s UnionPay is  likely to be the big player in this category— as well as the primary beneficiary of traffic  chan neled through the Alipay and WeChat  super apps. A lack of sufficient scale and  ongoing regulatory barriers will make it hard  for new entrants and foreign competitors  (such as Visa and Mastercard) to make  significant inroads.\n",
      "\n",
      "Indonesia and India are additional bright  spots. Local champions will ride a wave of  card growth in both countries, with total pay­ ments revenues expected to climb into the  high single digits over the next ten years. \n",
      "\n",
      "Elsewhere, digital wallets continue to drive  strong payments revenue growth. Often  based on the QR technology that Alipay and  WeChat popularized, these wallets deliver  effi cient, low­cost payments. Country champi­ ons that have dominant share include Ovo in  Indo nesia, Boost and GrabPay in Malaysia, and Kakao Pay in South Korea. Still, many of  these wallets are far from achieving signifi­ cant monetization. Alipay, WeChat, and to a  lesser extent Paytm have shown how to deliv­ er significant revenue through scale and ser­ vice breadth. Other wallets in the region will  try to monetize their services by expanding  their person­to­merchant (P2M) offerings and  adding new financial services within their  app ecosystems.\n",
      "\n",
      "Latin America\n",
      "Latin America continues to be an attractive  growth market for payments, with revenues  forecast to grow by a CAGR of almost 5.3%  over the decade from 2019 to 2028. In Brazil,  fast­ growing merchant acquirers such as  Stone and PagSeguro are driving down in­ cumbents’ payments margins. Yet overall, the  payments market continues to grow as new  players develop new client niches. Incumbent  banks in Brazil are introducing innovations  of their own, especially in the area of digital  wallets. Examples of activity on this front in­ clude Itau’s newly launched Iti wallet and  Cielo’s recent improvements to Stelo. \n",
      "\n",
      "Merchant acquirers in the region have new  opportunities as Argentina and Chile join  Brazil in opening up their markets. Argentina  began transitioning from a single­brand  acquirer model to a multibrand competitive  model when Advent, a global private equity  fund, bought a majority stake in Argentina’s  leading acquirer, Prisma (formerly owned by  a consortium of banks). Prisma and First Data  now hold the dominant market share in  Argentina, and local banks are using referral  agreements to expand their role as distribu­ tors. In Chile, banks such as Santander, BCI,  and BancoEstado have announced plans to  create merchant acquirers. Until now, Trans­ bank, a company owned by a consortium of  local banks, has been the primary acquirer  operating in Chile.\n",
      "\n",
      "Meanwhile, digital payments are exploding  across the continent. Unlike the digital  wallets in most other regions, where country  champions tend to focus on a select market,  Latin American digital wallets are taking a  more regional approach. Mercado Pago, the  well­regarded and largest wallet in South  America, operates across Argentina, Brazil, Chile, Colombia, Mexico, and Venezuela.  Rappi, another competitor, seems to be  poised to follow a similar strategy with its  recently launched RappiPay initiative.\n",
      "\n",
      "\fFINDING THE GREEN  SHOOTS IN RETAIL  PAYMENTS \n",
      "\n",
      "Propelled by a steady rise in card use and e­commerce transactions, retail  payments overtook wholesale payments in  revenue growth in 2018, and we expect that  trend to continue. We estimate that retail  payments revenue will grow at a CAGR of  6.0% from 2019 to 2028, compared with 5.6%  for wholesale. (See Exhibit 2.) \n",
      "\n",
      "Established retail payments players will have  to work hard to capture their share of that growth amid significant global disruption in  the payments landscape. Some of the dis­ ruption comes as regulatory bodies press for  reductions in interchange rates. In Europe, for  instance, regulators instituted new rules in  2018 calling for interregional interchange fees  to be in line with existing caps for domestic  purchases. Likewise, Brazilian regulators  recently set a debit interchange cap. To  preempt regulation, networks in Canada  announced that they would voluntarily lower their average interchange rates. These rate  caps and reductions will force players to  streamline their operations and find novel  ways beyond card rewards to drive customer  engagement.\n",
      "\n",
      "The most profound shifts, however, reflect  the impact of a rapidly expanding fintech  presence that is accelerating technological  innovation and increasing merchant power.  Three factors, in particular, are poised to  reshape the retail payments space over the  coming decade: \n",
      "\n",
      "• Money movement makes a comeback.  For the first time in years, we are seeing  massive innovation in the way money  changes hands and in the infrastructure  that enables that movement, with a  number of new real­time payments rails  being launched around the world. Person­  to­person (P2P) apps are quickly displac­ ing cash as a means of paying friends and  family. Some P2P apps allow customers to  transact entirely within the app’s ecosys­ tem, bypassing traditional payments rails  for certain transactions. Large global  players such as Facebook may also join  the fray—and if Facebook’s Libra offering  overcomes regulatory challenges, the  battle for customer share will become  significantly more heated. More disruption  is likely to come as P2P apps gain share in  P2M payments. New country champions  will emerge over the next ten years, and  existing champions—particularly those  across Asia and the Americas—will expand  their base.\n",
      "\n",
      "• Increasing competitive intensity fuels  mergers and blurs boundaries. In an  effort to gain critical capabilities and scale,  issuers and merchant acquirers are  looking for partners. Three of the top five  acquirers struck major agreements in the  first half of 2019, part of a growing trend  toward megadeals in a rapidly consolidat­ ing industry.1 In addition to having to fight  off fintechs, incumbents face mounting  pressure from networks. Institutions such  as American Express, Mastercard, and Visa  are acquiring new capabilities in noncard  payments, cross­border payments, lending,  and accounts payable software. Because of those expanded portfolios, networks  increasingly bump up against the tradi­ tional domains of financial institutions.\n",
      "\n",
      "• Data use cases move beyond risk assessment. Payments players have long  used data to improve underwriting and  fraud prevention, but now leaders are  beginning to shift their focus to the  customer experience. The most advanced  are using data to personalize outreach  and customer journeys, including such  facets as onboarding, spending and  balance stimulation campaigns, retention,  collections, and pricing. Only a handful of  players have digital and analytics capa­ bilities that are mature enough to let  them employ the results effectively at  scale, however. That gap gives fintechs an  opening to press their digital advantages.\n",
      "\n",
      "A rapidly expanding fintech  presence is accelerating  technol ogical innovation.\n",
      "\n",
      "These disruptive forces will increase pressure  on incumbents for the foreseeable future. But  with disruption comes opportunity. Retail  payments players that focus on high­ value  growth opportunities can use their size and  resources to carve out meaningful differentia­ tion and performance. \n",
      "\n",
      "Three High-Growth Areas for Issuers\n",
      "To gain customer share and competitive ad­ vantage, banks should prioritize strategy and  investment on three fronts:\n",
      "\n",
      "• Focus on e-commerce. In 2018, e­commerce sales accounted for 15% of  issuer interchange revenue, and revenue  from such sales during the 12­month  period grew almost three times as fast as  revenues from in­store transactions—14%  for e­commerce compared with 5% for  in­store. (See Exhibit 3.) That disparity in  growth rates will only increase over the  next five years. Established players can tap into that growth by sharpening their  e­commerce offerings. Winners will focus  on simplifying authentication and  provisioning (for example, by adopting the  soon­to­be launched Secure Remote  Commerce standard) and on employing  digital integration. They will also develop  value­added features such as instant  financing, look for growth in card­not­ present categories such as subscription­ based apps, and use incentives and  partnerships to improve their card­on­file  leadership. In the US market, for example,  card­on­file will account for almost 50% of  e­commerce transactions over the next  five years.\n",
      "\n",
      "• Innovate lending, cobranding, and customer experience. We believe that  lending, cobranding, and customer  experience have especially strong poten­ tial over the coming decade. Lending will  remain a primary growth driver for credit  card issuers. In 2018, card loans in the US  accounted for 37% of total retail payments  revenues, and that share is likely to grow.  But as consumers diversify to POS financ­ing and other offerings, incumbents must  innovate in lending. Regional POS lending  fintechs such as Klarna in Europe, Affirm  in the US, and Afterpay in Australia have  quickly gained share in their respective  markets. Strategic acquisitions—such as  Mastercard’s 2019 purchase of Vyze— could help established players enter the  space. Amex, Chase, Citi, and other  institutions have begun to offer install­ ment lending alternatives such as Plan It  (Amex), My Chase Loans (Chase), and  FlexPay (Citi). Cobranding, meanwhile,  offers the potential to pair unique assets  from issuers and merchants; for example,  the Apple­Goldman cobrand card includes  personal financial management tools. In  Asia, issuers are using their cobrand card  relationships to offer instant issuance of  cards with associated credit in order to  meet customers’ POS lending needs and  drive retail sales. As for customer experi­ ence, we expect to see significant innova­ tion in this area as issuers experiment  with improvements such as real­time  rewards, exemplified by the Uber–Barclays  cobrand credit card, and new digital capabilities, exemplified by the Apple  Card. The Apple Card combines simplified  application, instant issuance and provi­ sioning, unique financial tools, and a  rewards link to a digital wallet (the  proprietary Apple Pay product).\n",
      "\n",
      "• Use data as a customer relationship tool. Payments players were early leaders  in using big data to manage risk and costs,  with major improvements in under writing  and fraud prevention; but that lead has  dissipated. To sustain growth, leaders must  take advantage of new use cases, especially  ones that focus on the customer experi­ ence. Examples include personalized  pricing for payments accounts, analytics that drive retention, and use cases that  improve collections. (See the sidebar  “Collections Needs to Enter the Digital  Age.”) Banks are beginning to combine  behavioral pattern recognition data with  marketing outreach, too—for example, by  using spending data to identify customers  who may be moving to a new house, and  then customizing offers such as free access  to competitor ATMs while customers get  acquainted with their new neighborhoods.  Better use of data would also enable  issuers and acquirers to see both sides of  a transaction, which could significantly  improve authorization rates, particularly  for e­commerce merchants. Recent  mergers such as Fiserv–First Data, FIS– Worldpay, and Global Payments–TSYS,  which combine issuer processing and  merchant acquiring businesses, will help  to improve end­to­end visibility.\n",
      "\n",
      "COLLECTIONS NEEDS TO ENTER THE DIGITAL AGE\n",
      "\n",
      "The economic recovery, which began in  2009, led many card companies to priori- tize growth initiatives over cost leakage. As  a result, many collections functions  received little attention or investment over  the past five to seven years. Now, however,  collections is gaining renewed importance  as evidence grows that digitizing the  collections process can generate significant  returns. Our data indicates that when  clients take a data-centered, personalized  approach to collections, they can lower  their operating costs by 10% or more and  reduce total charge-offs by 3% to 5%. This  has the potential to yield savings of about  $1.8 billion in the US, excluding operating  expenses, given an overall figure of approxi- mately $37 billion per year in charge-offs.\n",
      "\n",
      "Advanced pattern-recognition algorithms  and new sources of data can provide  issuers with predictive insights based on  borrower risk and behavior. Companies  have found that using data and digital  channels can be very effective, particularly  in the first 60 days of delinquency. For  example, they can use predelinquency data  to help determine the channels and timing  to use in outreach. Top players can use  behavioral patterns and other data to  design targeted offers for key segments.  Such optimization can reduce delinquency flow rates— defined as the flow of accounts  from one delinquency bucket (such as 30+  days past due) to another one (such as 60+  days past due)—by 5% to 10%.\n",
      "\n",
      "Experimentation and iteration are also  critical factors. Leaders will continuously  measure and test results and adopt agile  development practices to speed develop- ment and implementation. Omnichannel  delivery will become more important as  customers move away from traditional  telephone and voicemail systems and  engage more with digital channels and  devices. Digital tools such as email, chat,  and interstitials offer broader reach and  easier scale than do traditional channels  such as dialer. \n",
      "\n",
      "Companies should also digitize their  post-charge-off processes. Issuers often use  third-party agencies to assist with recover- ies. But many of these agencies lack  mature digital capabilities, which limits  their effectiveness. By implementing a  robust inventory management system,  issuers can track placements more effec- tively. Robust processing engines will  continually feed performance data into the  inventory management system, allowing  agencies to adjust their outreach and drive  significantly better outcomes.\n",
      "\n",
      "\n",
      "Three Critical Capabilities for  Acquirers\n",
      "Merchant acquiring has been a bright spot  globally, with net acquirer revenue reaching  almost $100 billion and growing at 14% be­ tween 2010 and 2018.2 This space will contin­ ue to expand, but competitive pressure will  reduce revenue growth to a CAGR of 10%  over the next five years. \n",
      "\n",
      "Bank­owned acquirers will feel the pinch  especially sharply. Although they dominate in  transactions with large retailers—the largest  category by volume—that portion of the  market is growing the most slowly. (See  Exhibit 4.) By contrast, nonbank acquirers  dominate the categories with the highest  rates of growth, such as e­commerce, the  small and midsize business (SMB) segment,  and integrated payments. To date, bank­ owned acquirers have struggled to compete  in these faster­growing areas owing to a lack  of investment and focus by the core bank. \n",
      "\n",
      "Unless that changes, nonbanks will probably  continue to make inroads into traditional  acquirer strongholds.\n",
      "\n",
      "We believe that acquiring remains a critical  capability for banks because it acts as a cus­ tomer gateway for an array of wholesale bank  services. To remain a viable contender, how­ ever, banks must consider whether they  should continue to manage their acquiring  business in­house or whether they should  join the M&A wave. Whichever path they  take, several steps will be crucial:\n",
      "\n",
      "• Develop next-generation e-commerce  capabilities. The e­commerce and  omnichannel opportunity accounted for  34% of global acquiring revenues in 2018  and should rise by a CAGR of 12% from  2019 to 2023. BCG research shows that  fintechs such as Adyen, for larger retailers,  and Stripe, for smaller ones, are growing  aggressively in this area. Differentiators  include next­generation gateways that are  designed specifically for e­commerce, agile  capabilities that mesh well with the needs  of technology­based e­commerce retailers,  and faster deployment speeds. However,  incumbent acquirers needn’t cede this space. The best will compete by offering  APIs that permit simple and easy integra­ tions, superior algorithms that improve  authorization rates, and efficient processes  that support the rapid launch of alterna­ tive payment methods and global service  delivery—whether developed in­house or  through partnerships. Omni channel reach  is also becoming increasingly important as  customers push for greater seamlessness  between e­commerce and in­store  transactions.\n",
      "\n",
      "• Enhance SMB offerings. The SMB opportunity accounts for approximately  76% of global net acquiring revenues  (driven by the higher prices that SMBs  pay compared with large corporations).  Square in the US, iZettle in Europe, Stone  in Brazil, PineLabs in India, and other  regional pure­play providers that can offer  micro merchants low­cost terminals and  value­added services, such as payment­  linked lending, are poised to capture  significant growth. To compete, bank­ owned acquirers need to create winnable  industry verticals. Ensuring easy integra­ tion with independent software vendors  (ISVs) and tech­forward merchants will be  especially important. ISV revenues are  growing at approximately twice the rate of  the rest of the acquiring market in the US,  and we expect growth to spread quickly to  other parts of the world over the next  decade. Carefully choosing which industry  verticals to enter is critical, as acquirer  profitability varies significantly by vertical.  Pricing power has begun to shift in favor  of ISVs in some verticals where ISVs have  strength. Industry subverticals such as  childcare and home improvement are  likely to become a new growth avenue.  Bank­owned acquirers that lack strong,  dedicated ISV offerings will be at a  significant disadvantage as players like  Stripe, iZettle, and Global Payments  acquire their own ISV platforms and as  others, such as Worldpay and First Data,  build entrenched relationships with ISVs  in high­growth verticals. \n",
      "\n",
      "• Expand value-added services (VAS). As  compression in merchant acquirer trans­ action fees continues, expanding VAS will  become an increasingly important area  for acquirers. We have seen a wave of  innovation in this space. Payments players  have launched new services that span the  entire life cycle of business operations.  Payments companies can help businesses  get up and running with various services.  For example, Stripe’s Atlas product helps  with incorporation and obtaining bank  accounts. Companies can receive financing  through iZettle’s working capital loans.  Square’s payroll management software  helps companies run their business. And  JetLore (acquired by PayPal) helps  merchants market their business by  personalizing their sales messaging. To  create a competitive VAS portfolio,  acquirers can choose to develop their  in­house capabilities (along the lines of  Square’s approach), buy a fintech or  startup with the relevant skills (as PayPal  did), or build partnerships with fintechs  (an approach that most bank­owned  payments players have taken).\n",
      "\n",
      "\fIN WHOLESALE, SOME PARTS ARE GREATER THAN THE WHOLE\n",
      "\n",
      "Revenue growth in wholesale pay­ments from 2019 to 2028 is likely to  remain at a similar pace to that seen over the  past decade, with a forecasted CAGR of 5.6%.  However, that moderate and steady global  average masks several areas of above­average  growth in products, regions, and sectors. For  example, about 60% of wholesale payments  revenues are related to secondary payments  fees and interest, rather than to direct fees  earned per transaction; however, primary  revenues—particularly those involving cross­border transactions—will grow faster  than secondary payments fees over the next  10 years. (See Exhibit 5.) \n",
      "\n",
      "Corporate credit cards account for more than  20% of the wholesale payments revenue pool,  and they will attract significant attention and  funding as networks expand their foothold in  the B2B payments arena. These cards are  proving to be popular because they reduce  accounting effort, improve cost control, and  help companies analyze and manage busi­ness spending more effectively. That said,  overall global revenue growth in the B2B pay­ ments space has begun to taper off some­ what, and we expect revenue growth from  corporate cards to hover at around 4% annu­ ally through 2028. At the same time, growth is  becoming increasingly concentrated. Over the  next decade, the US and China will account  for 72% of total wholesale credit card reve­ nues, compared with 66% in 2010. \n",
      "\n",
      "Regionally, we see wide variation in growth  prospects. Asia, with its many rapidly emerg­ ing countries, will account for the highest  share of growth in wholesale payments (40%).  The Middle East and North Africa will also  see strong growth, with payments revenues  rising at about twice the global average from  2019 to 2028. But mature markets will have  bright spots, too—notably in Western Europe,  where wholesale payments revenue is on  track to grow by a CAGR of more than 5%  from 2019 to 2028, making it the region with  the second­highest rate of growth after Asia.\n",
      "\n",
      "Steady advances in digital  tools continue to profoundly  shape wholesale payments.\n",
      "\n",
      "Banks will have to work smarter and harder  to maintain their strong competitive position  against such nonbank entrants as enterprise  resource planning (ERP) and treasury  management system (TMS) providers, card  networks, and specialized fintechs that are  competing in the wholesale payments  segment in cash management, e­invoicing,  working capital, and supply chain financing.  The changing landscape will exert pressure  on incumbent banks to improve their product  and service offerings, as well as their digital  and data analytics capabilities. Banks that  can provide their customers with simple,  convenient connections—whether through  the bank’s portal, an ERP system, or a TMS— will put themselves in a position to reap the  largest rewards. To capture that opportunity,  however, they must deliver the simplicity  that customers seek while navigating an  increasingly complex environment. \n",
      "\n",
      "Reckoning With Digital Disruption\n",
      "The wholesale payments category continues  to be profoundly shaped by steady advances  in digital tools and by the fast­maturing capa­ bilities of digital attackers and fintechs. The  following disruptive forces are among the  most significant:\n",
      "\n",
      "• Adoption of Real-Time Payments (RTP)  Systems. With roughly 46 RTP systems  now online globally and 12 more in  development, wholesale players are  beginning to roll out the first use cases  that employ these new rails. We expect  most initial B2B use cases to dispropor­ tionately benefit the SMB segment. Examples include instant loan funding,  digital payments in lieu of cash on delivery  for restaurants and related businesses,  instant insurance payments for health  practitioners, and instant insurance  payouts for all businesses. With business­  to­customer, the leading types of near­term  use cases will be in insurance payouts and  similar disbursements, and in payroll— particularly among gig economy compa­ nies. The rise of RTP use cases will invite  an infrastructure battle between incum­ bent payments systems operators and  card networks that offer their own RTP  capabilities over card rails. Although the  earliest use cases generally focus on speed,  we expect other applications to begin  taking advantage of the enhanced data­  carrying capabilities of most new RTP  systems as the space matures. For that to  happen, banks must overcome legacy  technology barriers, including outdated  payments engines that have prevented  them from processing new data payloads. Banks must also ensure that the payments  architecture and customer support system  that they have in place can serve needs  24/7. Compliance management must  adapt to the more rapid pace as well. \n",
      "\n",
      "• Greater Cross-Border Competition.  Cross­border payments, historically a  high­ margin product for wholesale banks,  are under increasing pressure as competi­ tors introduce cheaper and more conve­ nient innovative solutions. Over the past  several years, fintechs have created  unique systems that can move money across borders at much lower prices than  banks have traditionally charged. Busi­ nesses like TransferWise and Revolut that  began in retail payments are now hoping  to disrupt parts of the wholesale market,  focusing especially on the SMB space,  where companies have traditionally paid  higher cross­border fees. Other businesses,  such as Swift and Ripple, are offering new  engines designed to provide large corpo­ rate customers with increased transparen­ cy and faster transaction speed. \n",
      "\n",
      "To succeed, businesses must  target specific areas that can  deliver above-average growth.\n",
      "\n",
      "• A Growing Number of Touch Points and Connections. The more diversified  payments ecosystem has increased the  number of connections and interdepen­ dencies between corporate and vendor  payments systems. In response, treasurers  from large corporations and smaller  businesses are increasingly turning to non­ bank platforms to reduce the resulting  complexity. To retain strong corporate  relationships, incumbents need to provide  a similar level of convenience, helping  treasurers streamline their wholesale  payments interactions and gain access  more readily to cash management, account  reconciliation, supply chain finance, and  cross­border payments capabilities. Their  service quality needs to improve, too.  Support for technical problems, execution  of urgent payments orders, international  payments tracking, and error identifica­ tion and correction are increasingly  important selection criteria for larger  corporations.\n",
      "\n",
      "Investing to Win\n",
      "Wholesale banks can use their scale, resources,  and other natural advantages to turn disrup­ tion into opportunity. The rapid expansion of  the wholesale payments space over the past  decade has created enormous complexity  within the offering space, the competitive space, and the technological space. For in­ cumbents and newer entrants alike, attacking  complexity and providing simpler solutions  throughout the value chain will yield the  greatest returns. \n",
      "\n",
      "To be successful, wholesale payments busi­ nesses must invest aggressively but selectively,  focusing on a handful of strategic and opera­ tional areas that can deliver above­average  growth. We recommend that banks consider  building opportunities in the following  high­value niches:\n",
      "\n",
      "• Cross-Border Payments. As competition  intensifies, global trade flows and the  global payments standard, SWIFT gpi, will  make processing large international  payments easier, faster, and more trans­ parent. Combined with a flurry of fintech  innovation, this niche is likely to see  especially strong growth in payments  revenues, with a CAGR of 6% forecasted  over the next ten years.\n",
      "\n",
      "• Trade Finance. This growth area compris­ es cross­border documentary trade finance  instruments (including letters of credit or  documentary collection) and open­account  instruments (such as cross­border supply  chain finance or dynamic discounting).  Trade finance accounted for approximately  $50 billion in revenue in 2018, calculated  on the basis of global trade flows of $19  trillion. The base case forecast in our  global Trade Finance Model expects trade  finance revenues to rise by a CAGR of 3%  over the next decade. However, the recent  intensification of global trade tensions  between the US, China, and Europe could  downgrade that forecast. Under a more  bearish scenario, trade revenues would  grow by a CAGR of 0.3% through 2027.  Despite these gray clouds, we see dispro­ portionately large growth in open­account  trade finance, driven by the ongoing  industry shift away from traditional  documentary trade and toward more­  efficient, lower­cost solutions. Leading  banks and nonbanks are investing sub­ stantial sums in digital trade finance  ecosystems and consortia, especially those  supported by blockchain and distributed  ledger technologies. Examples include the Marco Polo Network and the we.trade  initiative. Most of these initiatives are still  at an early stage of development, but we  expect that a number of solutions will be  market ready within the next decade. \n",
      "\n",
      "• Working Capital and Supply Chain Finance. BCG analysis suggests that this  rapidly developing market for SMBs,  which encompasses both domestic and  cross­border instruments, could represent  a $75 billion revenue pool worldwide by  2022. E­invoicing, supply chain finance,  dynamic discounting, and factoring will  give buyers more payments flexibility and  allow sellers to get paid faster. The market  remains wide open, since financial  institutions have generally focused on  custom solutions for large corporate  customers and fintechs have primarily  focused on the long tail. As a result, we see significant revenue growth opportuni­ ties for payments players that commit to  investing in this area. Competition will  certainly intensify. (See the sidebar “Work­ ing Capital and Supply Chain Finance.”)  But despite that, banks have an opportu­ nity to double down in this space and use  supply chain finance as a basis for selling  other products that have better margins,  such as foreign exchange instruments or  cash management. \n",
      "\n",
      "Collectively, these green­shoot opportunities  are likely to prompt a new wave of bank–  fintech partnerships to give banks needed  capa bilities and fintechs needed scale. \n",
      "\n",
      "Besides investing in high­growth product  niches, banks should commit to addressing  several foundational areas within the core  business in order to improve efficiency, ser­vice, and value. We consider the following to  be the most critical imperatives:\n",
      "\n",
      "• Automate more aggressively. Manual  processes drive a significant portion of  wholesale transaction banking costs.  Many midsize banks, in particular, have  hundreds of full­time employees who  handle messaging exceptions and other  routine payments operations. Tools such  as intelligent optical character recognition,  robotic process automation, and machine  learning can help banks redesign and  automate many core transaction opera­ tions (such as guarantee closing) in  documentary trade finance. These im­ provements could shave costs, streamline  service, and free employee capacity. We  estimate that autonomous operations,  which encompass a broad range of  capabilities from basic rule­based auto­ mation to advanced AI, represent a $30  billion to $40 billion cost­saving opportu­ nity worldwide over the next three years.  Those savings could amount to 33% of a  typical wholesale transaction bank’s  operations costs.\n",
      "\n",
      "• Become a data-enhanced organization.  BCG surveys show that treasurers contin­ ue to rate fintechs, treasury management  system providers, ERP system providers,  and their own internal IT organizations  higher than banks at delivering data­  driven insights. Better use of data can help  wholesale banks identify promising leads,  optimize pricing for different customers  and segments, improve credit scoring, and deliver compelling business insights to  clients. For example, to educate clients  and support sales, banks can use working  capital analytics that compare a client’s  balance sheet ratios to those of industry  peers. In order to provide these services,  banks must have good analytical capabili­ ties, access to supply chain infor mation,  and balance sheet information on both  the client and the industry as a whole.\n",
      "\n",
      "• Offer agile-based customer service. Banks in all regions of the world outper­ form ERP providers, technology firms, and  fintechs at building trust with treasurers.  However, the traditional relationship  manager model doesn’t give banks the  scale they need or the coverage breadth  their customers want. Many tech providers  offer customers access to a wide variety of  expertise—from products to technology to  customer service—but most bank rela­ tionship manager models don’t have that  flexibility. Corporate treasurers have been  increasingly vocal in calling for agile  solutions to their challenges. Banks should  heed those calls by deploying the right  cross­functional experts at the right time.\n",
      "\n",
      "Although the paths that global, regional, and  local players take will vary tremendously,  banks that capitalize on green­shoot growth  areas, fast­track digitization, and operational  improvements will reap outsize rewards.\n",
      "\n",
      "\n",
      "WORKING CAPITAL AND SUPPLY CHAIN FINANCE\n",
      "\n",
      "Thanks to globalization and digitization,  supply chains running across industries  and regions have become more extended,  international, and complex. In recent years,  many corporations’ CFOs and treasurers  have made optimizing the procure-to-pay  and order-to-cash cycles a priority, with the  goal of improving how the company deploys  working capital throughout the supply  chain. Among the multiple instruments  they may use are the following: \n",
      "\n",
      "• Buyer-centric working capital solutions  such as supply chain finance and  dynamic discounting \n",
      "\n",
      "• Supplier-centric solutions such as  factoring and invoice discounting\n",
      "\n",
      "• Related, traditional banking products  such as overdraft facilities and credit  lines \n",
      "\n",
      "In this growing market, global and regional  banks typically use existing client relation- ships and trust to make a wide range of  products—including sophisticated supply-  chain finance solutions—available to large, multinational corporations. Local banks  typically lack scale, international reach,  and product expertise, and many offer only  traditional banking products such as credit  lines and overdraft facilities. In recent  years, specialized fintechs and supply chain  management platforms have entered the  market to offer advanced working capital  and supply chain finance solutions not only  to multinationals, but also to the widely  underserved SMB segment. The new  market entrants use a digital platform to  connect buyers with sellers. Their opera- tional excellence enables them to offer  improved e-invoicing options as the basis  for advanced supply-chain finance solu- tions. In addition, many of them can  structure and ramp up complex supply-  chain finance programs in a few weeks or  months and orchestrate the trade finance  ecosystem (including buyers, sellers, and  insurance companies). As the market has  grown, many specialized working capital  and supply chain finance players, such as  Greensill and C2FO, have attracted signifi- cant external investment from strategic  investors, venture capital, and private  equity.\f\n",
      "0: Digital Payments 2020\n",
      "THE MAKING OF A $500 BILLION ECOSYSTEM IN INDIA\n",
      "\n",
      "\fThe Boston Consulting Group (BCG) is a global management consulting firm and the world’s leading advisor on business strategy. We partner with clients from the private, public, and not-for-profit sectors in all regions to identify their highest-value opportunities, address their most critical challenges, and transform their enterprises. Our customized approach combines deep in sight into the dynamics of companies and markets with close collaboration at all levels of the client organization. This ensures that our clients achieve sustainable compet itive advantage, build more capable organizations, and secure lasting results. Founded in 1963, BCG is a private company with 85 offices in 48 countries. For more information, please visit bcg.com.\f\n",
      "\n",
      "EXECUTIVE SUMMARY \n",
      "\n",
      "GLOBAL PAYMENTS GOING DIGITAL Four Seismic Shifts in the Global Landscape Rapid Evolution of Digital Consumer Payments One Size Does Not Fit All A New Strategy for a New World \n",
      "\n",
      "INDIA PAYMENTS ON A SIMILAR DISRUPTION TRAJECTORY Four Mega Trends Transforming India Rise in Adoption of Digital Payments \n",
      "\n",
      "INDIAN CONSUMERS RARING TO RUN UP THE ADOPTION CURVE\n",
      "\n",
      "INDIA DIGITAL PAYMENTS – A $500 BN POT OF GOLD  The Future of Digital Payments in India Digitisation of Payments is a Large Opportunity \n",
      "\n",
      "GRABBING THE OPPORTUNITY – THE WINNING AGENDA Ten Point Agenda for Payment Service Providers  Call to Action for Banks Asks from Regulators and Industry Bodies\n",
      "\n",
      "FOR FURTHER READING\n",
      "\n",
      "NOTE TO THE READER\n",
      "\n",
      "    \fEXECUTIVE SUMMARY \n",
      "\n",
      "The global payments landscape is evolving at a dizzying pace. The last twelve to eighteen months have witnessed heightened  activity with four major shifts being observed in the global landscape.  Firstly, the ongoing digital and technology revolution, led by the  ever-increasing penetration of smartphones and internet on mobile,  has revolutionised digital payments. Second, the payments space has  witnessed the entry of several non-banking institutions offering  payment services and solutions. Third, customers are becoming more  demanding and expect instantaneous and one-touch payment  solutions. Finally, there have been several progressive changes in the  regulatory framework. Over the past few years, the payment land- scape in India, too, has mirrored these developments, with digital  payments displaying an exponential growth. \n",
      "\n",
      "While different markets have seen different types of players and solu- tions becoming successful, some elements of winning models stay  common. These include having a compelling value proposition, access  to a large customer base, conducive infrastructure, supportive regula- tions and leveraging next-gen technology. \n",
      "\n",
      "Primary research brings several interesting insights to the fore and  validates India’s readiness to adopt digital payments. Convenience  emerges to be as important for continual usage as deals, discounts  and cash-backs. Consumers seem open to using digital payment in- struments for newer use-cases, gravitating towards offline points of  sale such as organised retail, food and entertainment. Even so, the  habit to use cash, complexity of digital payment instruments and lim- ited reach pose significant barriers for consumers in adopting digital.   Similarly, while 75 percent merchants believe that adopting digital  payment methods will help grow their business, complexity and limit- ed adoption hinder mass trial.\n",
      "\n",
      "We expect the digital payments space to witness significant disruption  in the days ahead. While the exact form and shape of disruption will  only be unveiled over time, the crystal ball indicates seven trends set  to transform the payments landscape in India over the next five years:\n",
      "\n",
      "• Technology will make digital payments simpler: Smartphone  penetration, ubiquitous connectivity, biometrics, tokenisation, cloud computing and the Internet of Things are a few trends that  will shape the way consumers transact in the future.\n",
      "\n",
      "• Merchant acceptance network to grow 10X by 2020: Mobile based payment solutions and proprietary payment networks will drive merchant acquisition by offering low-investment solutions  that will make economics more attractive for merchants and  acquirers, resulting in over 10 million merchant establishments  that will accept digital / mobile payments.\n",
      "\n",
      "• Payments will drive consumption—and not the other way  around: Payments will provide access to customer transaction  data, enabling payment service providers (PSPs) to offer relevant  deals, offers and coupons to consumers, thereby influencing their  consumption decisions.\n",
      "\n",
      "• Consolidation will drive ubiquity: Customers prefer fewer, ubiquitous payment solutions. Niche or limited use solutions will  be forced to merge to offer near universal solutions.\n",
      "\n",
      "• Modified UPI will be a game changer: Unified Payments Interface (UPI) provides a great platform for seamless interoperability of  PSPs. Modified to overcome current challenges, it can drive large  scale adoption of digital payments.\n",
      "\n",
      "• Digital identity to accelerate customer acquisition: Using Aadhar for online authentication and confirmation of KYC data  will boost growth of digital payment systems.\n",
      "\n",
      "• Cash to non-cash ratio will invert over the next ten years: Digitisation of cash will accelerate over the next few years. Non- cash payment transactions, which today constitute 22 percent of  all consumer payments, will overtake cash transactions by 2023.  Digital payments instruments will drive the growth in non-cash  payments.\n",
      "\n",
      "Digitisation of payments presents a large opportunity in the Indian  context. It is estimated that the total payments conducted via digital  payment instruments will be in the range of USD 500 billion by 2020,  which is approximately 10X of current levels. Person to merchant  (P2M) transactions driven by digital payments at physical point of  sale, followed by business to business (B2B) and peer to peer (P2P)  transactions are expected to be major contributors of growth.\n",
      "\n",
      "While Indian players have tried various business models to monetise  the payments opportunity, few have attained scale or profitability.  The primary focus hitherto has been on customer acquisition and  monetisation models are yet to be fully evolved. We outline a ten- point agenda to accelerate the evolution of a successful and economi- cally viable payments play in India:\n",
      "\n",
      "• Address true customer need: It is critical for PSPs to look for a  way to solve payment problems that customers face every day,  instead of just offering a solution looking for a problem.\n",
      "\n",
      "• “Build for the base” with convenient, intuitive, easy to use and safe products: It is imperative to build solutions that are “as  easy as cash” to use, enable fast transactions, and yet provide  adequate protection to customers’ money.\n",
      "\n",
      "\f• Optimise the network effect by building a ubiquitous network:  The big push for digital payments in India will come from mer- chant payments. Hence, to drive ubiquity, it is imperative to build  a large merchant acceptance network—a combination of both  digitally enabled as well as offline merchants.\n",
      "\n",
      "• Partner, Partner, Partner: Given the tight economic model of  payments businesses, PSPs will need to extensively partner in  order to lower customer acquisition costs, offer a broad spectrum  of solutions and get access to a large distribution network.\n",
      "\n",
      "• Reduce entry barriers for customers—charge merchants and  not customers: PSPs need to find the right pricing model to drive  adoption, wherein transaction charge is either levied on merchants  (like discounting rate) or when money leaves the digital ecosystem. \n",
      "\n",
      "• Mine customer data to build additional revenue streams: PSPs  can carry out analytics on large volumes of transaction data to  offer the most relevant products / services / discounts to the right  consumer at the right time and drive higher consumption.\n",
      "\n",
      "• Look beyond payments—broaden financial services to con- sumption needs: PSPs have an opportunity to expand their  customer relationship by offering a full suite of financial services,  and even other consumption based products, in order to optimally  monetise the relationship.\n",
      "\n",
      "• Develop an ecosystem to accommodate customer needs: PSPs  can develop vertical or ecosystem based offerings that provide an  end-to-end payments solution to customers in these ecosystems. \n",
      "\n",
      "• Exploit next generation technologies to build low cost and scalable solutions: Technology will be critical not only to deliver  solutions that are convenient, simple and secure, but also to  ensure that the costs of customer acquisition, on-boarding and  transactions are minimal.\n",
      "\n",
      "• Scale, Scale, Scale: Attaining scale is critical to make the business  model of payments business viable. PSPs that make bold moves  and build scale have a good opportunity to build a profitable and  valuable business.\n",
      "\n",
      "Finally, in a market like India, where regulations are still evolving, it is  imperative that the Government and regulators take a long-term view  to building a sustainable digital payments market. Regulators need to  emphasise awareness on cost of cash and incentivise the use of non- cash instruments, while the Government needs to shape policy that  simplifies KYC requirements, making digital payment transactions more  user friendly. Government investments in building merchant accep- tance networks, setting up common payments infrastructure and devel- oping a proper framework for grievance redressal are also essential. \n",
      "\n",
      "\fGLOBAL PAYMENTS GOING  DIGITAL\n",
      "\n",
      "The global payments landscape has seen some dramatic changes and  disruptions in recent years, especially with  2015-2016 being considered a watershed  period in the payments industry. Led by the  evolution of digital technologies, payments  are no longer the forte of banks. Evolving  customer behaviours, needs and preferences  have led to new participants entering the  arena at an exponential pace. Non-bank  institutions are capturing the limelight and  setting new consumer expectations (for  example, one click payments), causing a shift  in the value chain. The cumulative effect of  all the above factors has a direct impact on  the competitive advantage and value  proposition of banks. \n",
      "\n",
      "Four Seismic Shifts in the Global  Landscape Globally, the digital payments space is being  driven by four mega-trends that are expected  to dramatically impact the future of this in- dustry. \n",
      "\n",
      "• The ongoing digital / technology revolution \n",
      "\n",
      "• Entry of non traditional players\n",
      "\n",
      "• More demanding customer expectations\n",
      "\n",
      "• “Enabling” regulations \n",
      "\n",
      "The ongoing digital / technology  revolution\n",
      "The use of mobile internet is growing sharply. The number of users accessing internet ser- vices on mobile is expected to reach 3 billion by 2020, covering 65 percent of the world’s  adult population as compared to approxi- mately 1.9 billion in 2015. \n",
      "\n",
      "By then, it is expected that about 80 percent  of all internet users will be accessing the in- ternet through mobile handsets and 58 per- cent of such users will be using smartphones.  Given that smartphone devices are equipped  with powerful processors, substantial memo- ry, high-resolution cameras, barcode scanning,  GPS geocoding, NFC-based technologies, so- cial networks and platforms for deals and of- fers, they now are potent commerce-enablers.\n",
      "\n",
      "The evolution of smartphones is enabling  new payment capabilities. This has revolu- tionised digital payments coupled with inno- vations in payment access and security tech- nologies such as tokenisation of card details  for reducing fraud, biometric-enabled  multi-factor authentication, EMV standards  for user authentication, NFC-capable readers  at merchant stores, hardware-based secure el- ement approaches etc.\n",
      "\n",
      "Entry of non traditional players\n",
      "\n",
      "The payments landscape is now seeing  heightened activity across multiple player categories, ranging from device manufactur- ers (Apple, Samsung), tech firms (Google,  eBay, Alibaba), retailers (Starbucks,  Walmart), telecom companies (Vodafone,  Orange) and startups (Square, Transfer- Wise). More disruption is expected as the  number of FinTech startups has doubled to  1,000 in approximately 5 years with funding  growing 6X to reach USD 11 billion in 2015  (Refer Exhibit 1.1). \n",
      "\n",
      "Payment FinTechs span a broad landscape in- cluding wallets, integrated POS systems, P2P  payments and cross-border transfers, and have  attracted the largest share (35 percent) of the  overall FinTech funding. Some startups Some  startups such as Ant Financial Services Group  (China), First Data, Stripe and Mozido (USA)  and One97 Communications (India), have  grown to over USD 1 billion in valuation. \n",
      "\n",
      "Recent case studies have lent evidence to the  fact that digital payment companies domi- nate in specific-use cases. In proximity pay- ments, we see Starbucks offering in-app pay- ments and Apple Pay offering mobile  wallets. For in-browser payments, Amazon’s card-on-file is a success study, whereas PayP- al and Alipay dominate the online wallet  space. With iDeal being a preferred model  for online bank payments, Zoomit in Bel- gium and BPAY in Australia offer bill pay- ments and still others such as mPESA and  Facebook offer P2P payments.\n",
      "\n",
      "More demanding customer expectations\n",
      "The advent of non-bank tech and retail play- ers in the payments arena has exposed cus- tomers to a superior end-to-end customer ex- perience. Customers’ expectations from  payment solutions have changed with many  features such as biometric authentication  from Apple Pay and integrated rewards from  Starbucks, possibly becoming the new normal.\n",
      "\n",
      "The consumer of today, and even more so, to- morrow, expects the best experience that  companies can deliver, even in financial ser- vices. There is a growing need for an intuitive  and frictionless user interface and design as  provided already by players, along with the  optimum use of smartphones and apps to de- liver on evolving customer needs, both enhancing and increasing customer interactions  and building relationships. \n",
      "\n",
      "“Enabling” regulations  Regulations play a critical role in determining  the nature and success of payment solutions.  With modernisation of the payment infra- structure occurring in most countries, pay- ment service providers can take advantage of  real-time systems to offer cutting-edge pay- ment solutions to customers. \n",
      "\n",
      "For example, the PSD2 (Revised Payment Ser- vices Directive) in Europe, exposes established  banking and payment institutions to increased  attacks that get at the core of their primary  customer relationships such as accounts and  payments. The directive is expected to create  an open environment conducive to greater  customer choice and price transparency. \n",
      "\n",
      "In emerging markets, where cash still domi- nates, governments have been promoting  electronic payments. United Arab Emirates  has implemented a program aimed at achiev- ing a cashless economy which includes the  mandatory use of payroll cards for wages, the  establishment of an electronic payment gate- way for government payments etc. In China,  the Central Bank and the China Banking Reg- ulatory Authority are encouraging the devel- opment of digital payment platforms while  strengthening regulations, anti-money laun- dering initiatives and payment account cate- gory management practices. \n",
      "\n",
      "Rapid Evolution of Digital Consumer Payments\n",
      "We are poised at the beginning of a new era in  payments that is set to welcome innovative  solutions such as third-party wallets, token that  will replace traditional credentials, and the use  of biometrics as an authentication and authori- sation tool. Ubiquitous connectivity, biometrics,  tokenisation, cloud computing, and the Inter- net of Things are just a few of the digital trends  that will affect the way consumers transact and  interact with their payment partners.\n",
      "\n",
      "Digital consumer payments are evolving rap- idly—from the traditional cash / card /  cheque model at the turn of the century to  “online single channel closed models” in the first few years of the century to “mobile multi  channel, open and fragmented models” as we  speak (and over next few years) to the “Inter- net of Things (IoT), multi device, social mod- els” by 2020 and beyond (Refer Exhibit 1.2). \n",
      "\n",
      "Fragmentation will continue and will differ by  channel (POS, e-commerce, m-commerce and  in-app). Most players will vie for domination  at the POS which will see significant activity. \n",
      "\n",
      "Beyond 2020, the rise of connected devices  will fuel strong growth in in-app purchases.  Mobile applications will become increasingly  sophisticated and consumers will be transact- ing via a myriad of new devices (such as  smart watches and connected cars). These dy- namics, moreover, will spur new value propo- sitions that, in turn, will alter the competitive  landscape.\n",
      "\n",
      "Digital payments nearly 20 percent of retail transaction value by 2020\n",
      "The total value of global retail payments  transactions was estimated at USD 16 trillion  in 2015. This is estimated to increase to USD  21 trillion by 2020. The estimation com- prised consumer to merchant transactions  across retail verticals such as food and gro- cery, apparel, consumer durables etc. Digital  payments contributed to 8 percent of the  overall global retail payments market in  2015 and the same is projected to increase to  18-24 percent by 2020. \n",
      "\n",
      "In-app payments and proximity transactions  are expected to be key catalysts driving  growth in the days ahead. Assuming a mo- mentum scenario, where digitisation contin- ues at projected pace, a growth of 18 percent  is likely, with market size scaling USD 3.7 tril- lion. However, in a breakout scenario, given a  possible disruption by convenience, security  and Internet of Things, the growth rate is ex- pected to be 24 percent, prizing the market  opportunity at USD 5.1 trillion.\n",
      "\n",
      "One Size Does Not Fit All\n",
      "Different markets have seen different types  of players and solutions becoming successful.  While there appears to be no singular success  model seen so far, some common elements of  a winning model can be identified, including:\n",
      "\n",
      "\n",
      "• Compelling value proposition (rather  than just a cool technology)—for  example, Starbucks in-app payment\n",
      "\n",
      "• Access to a large captive customer  base—for example, eBay for PayPal,  Alibaba for Alipay\n",
      "\n",
      "• Conducive infrastructure—for example,  NFC-enabled phones in USA for Apple  Pay or a consortium of banks as is the  case for iDeal in Netherlands\n",
      "\n",
      "• Supportive regulations—for example, M-PESA in Kenya\n",
      "\n",
      "• Leveraging NextGen technology — for example, tokenisation for security, biomet- rics for authentication by Apple Pay\n",
      "\n",
      "• Bundling payments and loyalty — for example, Starbucks rewards loyal custom- ers through its payment app\n",
      "\n",
      "USA\n",
      "The issues faced by small e-merchants acquir- ing accounts that permitted credit card acceptance, has enabled PayPal to gain significant  traction. Launched by eBay, PayPal has aided  peer to peer payments online, processing  around USD 280 billion payments with reve- nues of USD 9.3 billion in 2015. However, the  solution is largely restricted to online pay- ments rather than proximity payment, leaving the POS field vacant for other players to  come in.\n",
      "\n",
      "Apple Pay, from device manufacturer behe- moth Apple, has made POS payments conve- nient and quick for consumers. As a multipur- pose wallet, it offers a convenient digital  interface for existing cards and potential links  for coupon use. Apple Pay is based on NFC  technology and depends on customers having  NFC-enabled smart phones.\n",
      "\n",
      "One of the most successful in-app payment  wallet centered on loyalty, is currently offered  by Starbucks. Customers earn rewards for coffee consumption and avail of promotional of- fers on making mobile payments. Starbucks  has been able to process 6 million transac- tions per month, offering high value to customers and having little need for payments cosystem coordination. As of 2015, 21 per- cent of all Starbucks transactions in the US  have occurred through this mobile app.\n",
      "\n",
      "Europe\n",
      "In Netherlands, a group of Dutch banks have come together to offer a platform that facili- tates inter-bank transfers for payments. The  solution known as iDeal, has enabled bank  account based payments for e-commerce and  m-commerce transactions. Launched prior to  the advent of PayPal, iDeal now enables 60  percent of online payments in Netherlands.  This collaboration between banks has em- powered a country-specific solution to assist  online payments, impeding other payment  players such as PayPal from making inroads.\n",
      "\n",
      "China\n",
      "In 2004, Alibaba, China’s largest e-commerce  player, created Alipay as an escrow based  payment system to facilitate online payments.  Alipay helped unleash massive growth in  e-commerce by overcoming major barriers  such as lack of trust between buyers and sell- ers, low credit card penetration etc. With 270  million active users, Alipay is believed to  have processed more than USD 500 billion in  digital payments in 2015, helping Alibaba  capture 50 percent of all online transactions  in the country. \n",
      "\n",
      "Alipay has become a way of life with cool fea- tures such as ‘ask your boyfriend to pay for  shopping’, ‘crowd fund a movie’, etc. Alipay’s  functionality has also been extended to bill  payments, flight bookings and even to POS  payments. It also supports offline payments  at public transport, vending machines, conve- nience stores and more. \n",
      "\n",
      "WeChat Pay, launched as a peer to peer pay- ment solution by Tencent, another technolo- gy firm, tasted quick success, given its integra- tion with WeChat, a messenger app. It allows  users to make purchases without having to  close their chat messenger. WeChat Pay has  experienced aggressive growth in the last  three years and has close to 700 million ac- tive users as of March 2016. \n",
      "\n",
      "In China, non-bank entrants into the pay- ments arena pose a significant threat to in- cumbents. Major e-commerce players such as Alibaba and Tencent, are rapidly expanding  their financial-services portfolio to offer  loans, insurance and wealth management as  part of their future growth strategy.\n",
      "\n",
      "Africa\n",
      "Safaricom’s M-PESA serves the unbanked /  under-banked customers in emerging markets  (20-25 million customers in Kenya or over 60- 70 percent of adult population). Promoted as  a safer way to transact than carrying cash  which posed a security risk, M-PESA is a mo- bile money account designed to work on ba- sic feature phones. \n",
      "\n",
      "Given high mobile penetration, Safaricom has  invested significantly in ATL / BTL activities  to build consumer trust and rolled out a sup- porting M-PESA agent network. M-PESA’s im- mense success in Kenya can be attributed to  its robust design / strategy as well as a benev- olent regulatory environment. Safaricom has  been allowed to operate M-PESA as a pay- ment system outside the provisions of bank- ing law by the Central Bank of Kenya. It was a  strong incumbent with nearly 80 percent mar- ket share and there existed a strong urban ru- ral remittance demand in Kenya. With approx- imately 25 percent of Kenya GDP wired  through this mobile money platform in 2015,  it is difficult to replicate the M-PESA Kenya  model in a different environment. \n",
      "\n",
      "A New Strategy for a New World\n",
      "With exciting times ahead for the payments space, all current and future participants will  have to develop a digitally driven strategy flexible enough to respond dynamically to all  key elements of evolution. Be it banks, telcos, device manufacturers, retailers, tech compa- nies, startups or others, winning models will  need to address real customer needs.\n",
      "\n",
      "A clear value proposition, enabled by next  generation technologies, supported by deep  customer engagement and scaled up through  strong partnerships, is what this industry will  look like in the times to come.\n",
      "\n",
      "\fINDIA PAYMENTS ON A  SIMILAR DISRUPTION  TRAJECTORY\n",
      "\n",
      "Over the past few years, the payment landscape in India has mirrored developments occurring in the global payments  arena, albeit with a time lag. Although the  digitisation of payments in India is a recent  phenomenon, the trend has displayed an  exponential growth in the sub-continent,  with rapid growth being witnessed in digital  payment transactions.\n",
      "\n",
      "India now represents one of the largest mar- ket opportunities for payments. With a popu- lation of over 1.25 billion eager to partake in  rapidly evolving advancements in technology,  India, as well as “Bharat”, is poised to make  the most of digital developments transform- ing the payments space. \n",
      "\n",
      "Four Mega Trends Transforming India\n",
      "The growth of the Indian digital payments  space is expected to be driven by four trends  that are also likely to impact how this indus- try looks in the future.\n",
      "\n",
      "• India going digital\n",
      "\n",
      "• “Favorable” regulatory environment \n",
      "\n",
      "• Emergence of NextGen payment service providers \n",
      "\n",
      "• Enhanced customer experience\n",
      "\n",
      "India going digital\n",
      "India is rapidly evolving into a digital behe- moth. Rising smartphone penetration and in- ternet access have ensured that Indian con- sumers stay constantly connected (Refer  Exhibit 2.1). This is also reflected in the  growth of digital banking transactions.\n",
      "\n",
      "• Mobile trajectory: India currently ranks  #2 in the world with over 1 billion mobile  subscriptions. Of this, approximately 240  million consumers use smartphones and  this base is projected to increase to over  520 million by 2020.\n",
      "\n",
      "• The internet network: With increased  3G and 4G penetration even in the  remotest parts of the country, the Inter- net network in India is rapidly expand- ing. The National Optical Fibre Network  (NOFN) initiative by Digital India is set  to provide broadband connectivity to  cover 250,000 Gram Panchayats across  rural India. While 70 percent of rural  users currently access the Internet from  their mobile handsets, the initiative is  expected to increase the adoption of data  enabled devices in these areas. With  these developments in place, we expect  around 90 percent of all devices to be  internet enabled by 2017 and the num- ber of internet users to double to nearly  650 million by 2020 from the erstwhile  300 million in 2015. \n",
      "\n",
      "\f• Banking on digital growth: Over the last  few years, digital transactions have shown  steady growth of 50 percent Y-o-Y, fol- lowed by ATM transactions growing at 15  percent. Not surprisingly, branch-based  transactions have reduced by almost 7  percent in FY15 as compared to FY14  (Refer Exhibit 2.2).\n",
      "\n",
      "“Favorable” regulatory environment\n",
      "A lot is changing in the payments world. The  Government and concerned regulators have  recognised this and have constantly kept pace  with the rapidly changing environment vis-à- vis technology and customer expectations.  However, this is still the beginning and lots  more needs to be done in this space to make  it conducive for payments businesses to  succeed in the country. \n",
      "\n",
      "Highlighted below are few of the key  regulatory steps that are currently enabling  digital payments in India.\n",
      "\n",
      "• KYC relaxation for small transactions:  As per current RBI guidelines, there is no  requirement for customers to undergo a  KYC process for transactions up to INR  10,000 per month on prepaid instruments.  This guideline makes it convenient for  customers to just download the wallet of  choice and use the same for transactions  without the need for documentation,  photographs etc. that are usually required  to avail traditional banking services.\n",
      "\n",
      "• Exemption from Two-Factor Authentication (2FA): The RBI currently mandates  the inclusion of a two-factor authentica- tion (2FA) for transactions made with  Indian debit / credit cards, irrespective of  transaction value. While this requirement  is necessary for consumer security, it also  tends to be cumbersome, resulting in a  payment process with a lot of friction,  significant number of failed transactions  and transactional drop-offs. A mobile  wallet in comparison requires a customer  to undergo the 2FA process only while  loading funds from other bank instru- ments. Additionally, such wallets have  limits on the value of transactions and  tend to reduce exposure to frauds as they  do not divulge any details of the custom- er’s savings account directly.\n",
      "\n",
      "• Aadhar making KYC easier: The advent  of Aadhar as a national identity instru- ment has made the KYC process extreme- ly easy. By linking a customer’s mobile  number electronically to his / her Aadhar  account, the process is now much simpler  and hassle free. The Jan Dhan Initiative  has seen over 270 million accounts being  opened. This has brought millions under  the ambit of financial inclusion and has  made biometric authentication a reality.\n",
      "\n",
      "• Unified Payments Interface (UPI): The  Unified Payments Interface launched by NPCI is an integrated open architecture  set-up that could fundamentally change  the way customers manage payments.  The UPI set-up proposes to stitch all  services from Immediate Payment  Service (IMPS), Automated Clearing  House (ACH) to RuPay into one common  platform. This would allow for seamless  interoperability and the potential  unlocking of multiple solutions. The  inherent open architecture will provide  access to all payment service providers  (PSPs), be it banks, FinTechs, payment  banks etc. It is also expected to provide  users with the flexibility of accessing  bank accounts through any PSP that is  connected to the UPI set-up. Moreover,  customers will be able to choose a virtual  address in any format (mobile number,  Aadhar ID, email ids etc.). This is expect- ed to improve user experience and  enable PSPs to provide easy and simple  payment solutions. It is also expected to  enable multiple use cases on the UPI  platform—including peer to peer pay- ments, person to merchant payments and  business to business payments.\n",
      "\n",
      "• Bharat Bill Payment System (BBPS): Bill  payments form a major component of  retail payment transactions. Cash and  cheque payments continue to be predomi- nant; particularly at the billers’ own  collection points. Existing systems do not  fully address the needs of the consumers  due to the lack of interoperability as well  as the lack of access to electronic pay- ments. Owned and operated by NPCI,  BBPS is envisioned as an ‘Integrated Bill  Payment System’ that is interoperable,  accessible; cost effective and allowing  multiple payment modes.\n",
      "\n",
      "Emergence of nextgen payment service providers\n",
      "India has witnessed significant payments activity in the last 3-4 years. The competitive  digital payment landscape in India now spans  telcos, banks, wallet companies, e-commerce /  tech firms and, in the near future, payment  banks (Refer Exhibit 2.3).\n",
      "\n",
      "Bank-led: In the past, banks have largely of- fered mobile banking apps with integrated  bill payment solutions. However, customer experiences with mobile wallets have proved  to be far more seamless and quick, leading  to customers preferring wallets for mobile  recharge and bill payments. Thus, banks  have now started offering their own mobile  wallets in addition to the mobile banking  apps. Few examples include Pockets by ICI- CI Bank, Lime by Axis Bank, PayZapp by  HDFC Bank, SBI Buddy by SBI and Ziggit by  IDFC Bank. While most of these apps do not  require a bank account for their use, some of  these do allow existing bank customers to  log in using their internet / mobile banking  credentials. Given that banks already have  an existing captive base of consumers, they  can monetise faster as compared to indepen- dent mWallet firms that will need to spend  on customer acquisition.\n",
      "\n",
      "Telco-led: Large telcos such as Airtel and  Vodafone launched mobile payments solu- tions, Airtel Money and Vodafone M-Pesa re- spectively, targeted at their own customer  base. The solutions were initially USSD- based to ensure even non digital-savvy cus- tomers find it easy to use. The primary use  cases for these solutions were largely mobile recharges and remittances. Idea Money from  Idea Cellular, mRUPEE by TATA and Jio- Money by Reliance are other telco-led pay- ment solutions, launched to help consumers  conduct a variety of financial transactions  conveniently.\n",
      "\n",
      "Prepaid wallets: In 2009-10, the RBI had is- sued 26 prepaid payment instrument licens- es (PPI). PPI issuers could now issue semi- closed wallets that enabled payments  without 2F Authentication. As a result, two  types of PPIs emerged:\n",
      "\n",
      "• Mobile wallets: These are app-based  stored value accounts, funded through  credit / debit cards or via netbanking.  Paytm, MobiKwik, Freecharge and Citrus  Pay are some well-known mobile wallet  examples. These wallets are primarily  used for mobile recharges and bill  payments. \n",
      "\n",
      "Backed by VC funding, these companies  spent heavily on customer acquisition  through marketing initiatives. Soon enough,  they diversified existing business models to monetise on the customer base through ex- pansion of services. These included tie-ups  with radio cabs (Paytm-Uber, Meru-Citrus  Pay), offline use-cases such as POS payment  (Paytm-More tie up), payment at fuel sta- tions and educational institutions etc. \n",
      "\n",
      "In order to reach unbanked or under-banked  customers, wallet companies have now en- abled cash funding of wallets through inno- vative solutions such as MobiKwik’s cash  pickup service and Paytm’s tie-up with ICICI  for cash loading at ICICI branches.\n",
      "\n",
      "• Prepaid cards: Companies such as Oxigen, Itz Cash, Suvidhaa and GI Tech  offer solutions with an agent-assisted  offering to consumers who are not  digitally savvy. Primary usage in such  cases have been remittances and railway  ticket booking. \n",
      "\n",
      "Some of the PPI’s were acquired by tech  firms (e-commerce, radio cabs, entertain- ment booking) to offer in-house wallet solu- tions. For example, Snapdeal acquired  Freecharge, Flipkart acquired FxMart to of- fer Flipkart money and Amazon acquired  Emvantage. While Ola offers Ola Money,  Bookmyshow too has its own wallet app to  service customers. With growing popularity  of such wallets, several other companies  have now applied for such licenses with the  total number of PPI licenses growing to 46  licenses in 2016.\n",
      "\n",
      " • Payment banks: Keeping with RBI’s  stated objective of driving financial  inclusion and enabling high-volume  low-value transactions thereby reducing  the dependence on cash, RBI provided  in-principal approval to eleven entities to  set-up payment banks in 2015. These  entities include telecom players (Airtel,  Vodafone, Uninor, Idea, Reliance Jio),  tech-centric payment players (Paytm),  next-billion focused players (NSDL, Fino,  India Post) and NBFCs (Mahindra  Finance, Cholamandalam). The scope of  activities of a payments bank includes  acceptance of demand deposits up to INR  one lac per customer, issuance of ATM /  debit cards, offering payment and  remittance services, acting as a Business Correspondent (BC) to another bank and  distribution of mutual funds, insurance  services etc. These banks cannot under- take any lending activities or issue credit  cards, accept NRI deposits or become a  “virtual” bank. \n",
      "\n",
      "However, the economic model for payment  banks is challenging, given that they cannot  earn lending revenues or high rates of  interest on floats due to requirement of  investing customer deposits in government  securities. A few of the licensees such as  Cholamandalam, Uninor and Mahindra  Finance have already returned their in- principle approval to RBI. \n",
      "\n",
      "Payment banks are well  placed to capitalise on the  payments opportunity.\n",
      "\n",
      "Enhanced customer experience\n",
      "Indian customers are now used to a superior  experience owing to the popularity of e-com- merce, and are demanding a similar experi- ence from their financial services providers  as well. This includes seamless access to  bank accounts and payments, coupled with  rewards, loyalty and offers.\n",
      "\n",
      "• Superior & seamless customer experi- ence: In the recent past, we saw India  being swept by the online shopping wave  given the arrival of e-commerce entrants  such as Flipkart, Amazon, Snapdeal, etc.  The convenience and ease of buying  almost anything and everything online  while sitting at home proved to be too  good to resist. It is expected that the  popularity of online payments will soon  mirror the popularity of shopping online.  This has been corroborated by the trends  wherein the youth now prefer to use Ola /  Uber rides instead of conventional cabs to  avoid hassles of paying the exact amount  by cash. Paytm’s association with Uber  and Ola Money by Ola have perpetrated  the “get in-get out” phenomenon in the  taxi industry. Thus, payments are now a  background activity while the focus stays on making user experience seamless. In  the bill payment industry, for instance,  payments on mobile banking apps involve  multiple steps i.e. logging into the app,  registering the biller, initiating the pay- ment, two factor authentication and then  final payment. In comparison, in the case  of wallets, the customer has to just enter  her mobile number followed by one-touch  payment. In addition, internet and mobile  banking applications have multiple  security guidelines of logging out after  inactivity etc. resulting in a sub-par  customer experience. \n",
      "\n",
      "• Attracting customers with offers and  discounts: Since the concept of mobile  wallets is still new in India, companies offer  substantial deals, discounts and offers to  woo customers and increase awareness. For  example, in 2015, Paytm offered INR 8,000  as discount on iPhones and iPads, while in  2016, Freecharge offered significant  cash-backs on minimum bill payments. Ola  and Uber offer regular cash-backs of up to  50 percent of previous-ride bill value.  Paytm and MobiKwik are known for their regular discounts on products, offered  either as credit to the wallet or as discount  coupons at partner-merchant outlets. These  offers tend to encourage customer usage of  wallets as a primary mode of payment.\n",
      "\n",
      "Rise in Adoption of Digital Payments\n",
      "India truly seems to be going digital and this  is validated by the exponential growth of its  digital marketplace. The volume of mobile  banking transactions in 2012-13 was similar  to that of mWallet and Prepaid Payment In- struments (PPI) transactions combined (Refer  Exhibit 2.4). \n",
      "\n",
      "Prepaid instruments trans- actions almost 2X of mobile banking transactions.\n",
      "\n",
      "Within the next 4-year span, PPI (mWallet  and prepaid card) transactions have grown much more rapidly to become almost double  of mobile banking transactions in the same  period. In the year 2015-16, around 747 mil- lion transactions occurred through mWallet  and prepaid cards combined, whereas only  390 million transactions happened through  mobile banking. This being said, the majority  of transactions through mWallet are smaller  with an average ticket size of INR 620, while  mobile banking transactions are on an aver- age INR 10,400 per transaction, notching up a  gross annual transaction value of INR 4,000  billion. mWallet is largely preferred for micro  transactions while high value transactions  take place through mobile banking.\n",
      "\n",
      "In terms of how many people use wallets ver- sus how many actively transact through online  banking, the number of unique active wallet  users (80-85 million) has already surpassed  that of online banking users (60 million). \n",
      "\n",
      "Wallet users already more  than mobile banking users  and triple the number of  credit card users.\n",
      "\n",
      "This contribution comes from those users  who do not use net banking but fund their  wallets through credit cards, debit cards or  cash. The number of wallet users is already  3X the number of credit cards issued in the  country (24 million in 2015-16). \n",
      "\fIn the last six years ( July 2010 to Jun 2016), if  we look at the growth in internet search que- ries, we’ll see that queries containing the word  “pay” grew by 18X since July 2010. This has  been taken as a surrogate for the demand for  online payments. Queries regarding remitting,  transferring or sending money grew by 5X in  last 6 years, whereas queries for mobile wallet  brands also grew by 5X since July 2010. Search  queries for “pay / wallet / money transfer”  grew much faster in the last year, at 3X rate, as  compared to search queries for industries like  e-commerce, credit cards and insurance. \n",
      "\n",
      "The digital payment market in India is still  nascent despite concentrated activity over the  past 2-3 years. The landscape is dynamic and  is rapidly evolving given changing use cases,  customer propositions and business models. \n",
      "\n",
      "Supported by a favorable regulatory environ- ment and coupled with a young demography  eager to try and test new digital technologies,  the Indian payment industry is bound to  grow multi-fold in the coming decade.\n",
      "\n",
      "\fINDIAN CONSUMERS RARING TO RUN UP THE ADOPTION CURVE\n",
      "\n",
      "Digital payments in India are not limited to being an urban and affluent phenomenon. Trends show that future  adoption and growth of such services will be  driven by the next set of low income users.  Currently, users of digital payments lie  across a wide spectrum of income, consump- tion profiles, attitudes, pain points and  motivations. While some of these needs  have been addressed with current proposi- tions, the rest present a huge opportunity to  include masses into the envelope of digital  payments users.\n",
      "\n",
      "Multiple-need profiles and user archetypes  lie within and across demographic segments.  For example, digitally and financially savvy  users primarily need a digital payments  solution to simplify their payments. Such us- ers form a majority of the current digital  wallet user base and usually have payments  instruments like credit / debit cards and cer- tain online banking experience. This seg- ment is primarily driven by convenience  (lack of 2FA, for example, Uber payments)  and the appeal of bringing physical-use cas- es like bill payments online. \n",
      "\n",
      "In addition, digital payments also cater to  the segment of digitally unbanked users who  mainly need digitisation of their money. This  potentially large user base, while paid digi- tally, does not use any form of digital bank- ing. They instead prefer to use their debit cards for ATM transactions and cash with- drawals. This segment also includes users  who are paid or funded in cash—ranging  from workers to ‘dependents’ in high-income  households, such as students and house- wives, who need their cash transactions to  be digitised. Lastly, growth in this space is  set to come from migrants and the next bil- lion users, who are yet to be financially in- cluded. Thus, the potential implications of  digital payments in this segment are pro- found and wide-ranging.\n",
      "\n",
      "In order to better comprehend preferences,  behavior and pain points of these varied  user segments towards digital payments,  BCG in association with Google, undertook a  survey conducted by Nielsen aimed at un- derstanding what it will take to build a suc- cessful payments play in India. The survey  spanned 9 cities (metros and non-metros)  and covered approximately 2,500 consumers  and 920 merchants, who were aware of digi- tal payments. Insights from this research,  combined with industry interviews and  knowledge from our existing client work  have helped outline a set of initiatives that  payments players should undertake in order  to successfully unlock the potential of the  Indian digital payments space.\n",
      "\n",
      "The primary research brought several  interesting and crucial insights to the fore.  Contrary to popular belief, convenience emerged to be as important if not more for  continual usage of digital payments vis-à-vis  price sensitivity or huge discounts and cash- backs. Consumers seem open to using digital  payment instruments for new use-cases  gravitating towards offline points of sale  such as organised retail, food and  entertainment. \n",
      "\n",
      "Even so, the habit to use cash, complexity of  digital payment instruments and limited  reach pose significant barriers for consum- ers in adopting digital. Similarly, while 75  percent merchants believe that adopting dig- ital payment methods will help grow their  business, complexity and limited pull hinder  mass trial.\n",
      "\n",
      "Key Insights from the Consumer Research that Indicate India’s  Digital Payments Readiness\n",
      "\n",
      "1. Users of digital payment instruments  prefer these to other non-cash modes \n",
      "\n",
      "2. Convenience is as important as offers in driving digital adoption\n",
      "\n",
      "3. Prepaid mobile recharge and bill payments remain the most popular  use-cases\n",
      "\n",
      "4. Point of sale to form the largest use-case for digital payments in future\n",
      "\n",
      "5. High frequency use cases driving usage of digital payments\n",
      "\n",
      "6. Habit to use cash, complexity and perceived lack of value proposition key  barriers to adoption \n",
      "\n",
      "7. Security, identity theft and fraud are not big barriers in India\n",
      "\n",
      "8. 3 out of 4 merchants believe digital will grow big, accelerating future sales\n",
      "\n",
      "9. No clear benefits over other methods,  proclivity towards cash and complexity  are key barriers for merchant trials \n",
      "\n",
      "10.  Building a transaction ecosystem for merchants is critical\n",
      "\n",
      "Users of digital payment instruments prefer these to other non-cash modes\n",
      "Primary research indicates that 65 percent  of customers aware of digital payments in- struments move to the trial stage. 81 percent  of users of a digital payment instrument pre- fer it to any other non-cash payment meth- od such as credit / debit cards or net-bank- ing, indicating high stickiness. Metros lead  this transition, valuing the immediacy and  24X7 access that digital payments bring.\n",
      "\n",
      "81 percent of users of a digi- tal payment instrument pre- fer it to any other non-cash  payment method\n",
      "\n",
      "Convenience is as important as  offers in driving digital adoption\n",
      "Despite the recent push on cash-backs and  offers, convenience is as important as ‘of- fers’ in driving digital payments adoption.  Convenience encompasses not only ‘one  click’ payments (the single largest reason for  adoption) but also ability to recharge / pay  bills anytime anywhere through mobile  phone, convenience of not carrying cash and  also no hassle of change (Refer Exhibit 3.1).\n",
      "\n",
      "Even as consumers see value in digital pay- ments beyond rewards; discount pricing,  cash-backs and coupons have played a key  role in breaking consumer inertia by incen- tivising non-cash payments. Going forward,  such rewards can be used not just as an op- portunity to catalyse adoption, but also to  define and build customer loyalty. Creative  use of incentive programs along with com- pelling product proposition can help drive  mass adoption and continual engagement.\n",
      "\n",
      "By leveraging rich transaction data and ana- lytics, rewards can be personalised beyond  blanket cash-backs, to co-market with mer- chants and to create loyalty programs. The  creative use of such incentive programs can  also help in driving and sustaining mass  adoption and engagement, in association  with other product propositions.\n",
      "\n",
      "\n",
      "Prepaid mobile recharge and bill pay- ments remain the most popular use-cases\n",
      "The digital payments landscape in India start- ed almost solely on the single use case of pre- paid mobile recharges and this is echoed in our  research as well. Consumers are also using digi- tal payments for bill payments (mobile and  utility bills), e-commerce payments and travel  booking (Refer Exhibit 3.2).\n",
      "\n",
      "• Bill pay shows large potential of tectonic  shifts to digital payments: Bill payments  remain the most inconvenient of use-cases  to fall under the scope of digital payments.  Around 30 billion bills worth USD 103  billion are generated every year, of which,  70 percent are paid in cash. Bill payment is  currently not interoperable and digital  payments players have had to sign up with  individual utility providers to facilitate  payments. The top 10 electricity companies  have just 2,000 cash collections centers in  India. However, with launch of the Bharat  Bill Pay System, a large inflection is expect- ed as massive amounts of bill payments  will get digitised. \n",
      "\n",
      "• E-commerce and travel booking: Cash-on-Delivery is a necessary evil and has  dominated Indian e-commerce payments, in  face of insufficient consumer trust and  inadequate penetration of credit cards or  digitally active banking services. Most  e-commerce players accept payments in  cash, despite delayed payment receipts,  logistical problems, higher supply chain  costs, less control and high pilferage in cash  handling. Of late, e-commerce websites have  integrated with wallet players for seamless  payments, and are beginning to see traction.  Even online travel booking sites have  started offering digital payments. However,  20 percent of online purchase transactions  fail at checkout owing to customer aban- donment, patchy networks and glitches in  digital payment. Improved products that  ease final conversion display a high poten- tial in targeting online merchants.\n",
      "\n",
      "• Remittance / fund transfer: Peer to peer  transfers or remittances will continue to be  an important use-case for digital payment  instruments. Digital payment instruments  like wallets and assisted payment service providers (Itz Cash, Oxigen, Suvidhaa etc.)  help urban migrants send money home  without the need for queues etc. as com- pared to banks. Thus, the adoption of  digital payment instruments for fund  transfers is expected to grow exponentially.\n",
      "\n",
      "Currently there is limited usage of digital pay- ment instruments when it comes to physical  point of sale payments. This is because of limit- ed reach and acceptance of such instruments  at merchant outlets. However, this is likely to  gain traction and become an important use- case for digital payments in the days ahead.\n",
      "\n",
      "Point of sale to form the largest use- case for digital payments in future\n",
      "The digital payments landscape in India has  long been in search of a “killer” use-case in  its chase for ubiquity of acceptance. Until  now, digital payment instruments and wallets  have been popular for online transactions.  However, the real growth in the usage of digi- tal payments is expected to come from usage  at physical points of sale. Point of sale P2M  payments will form one of the largest use-cas- es for digital payments. \n",
      "\n",
      "According to the study on potential use-cases,  consumers have shown high willingness to  adopt digital payment instruments for offline /  physical payments, with food and entertain- ment and organised retail forming the top 2 po- tential use-cases (Refer Exhibit 3.3). Profession- al services, transport and unorgainsed retail are  other potential use-cases for digital payments.\n",
      "\n",
      "Consumers would like to use  digital payments for physical  point of sale purchases in  future\n",
      "\n",
      "As use-cases expand, the focus needs to be on being universal and providing services across  multiple use-cases in order to earn maximum  revenue per customer.\n",
      "\n",
      "High frequency use cases driving us- age of digital payments\n",
      "Consumers have hitherto been used to paying in cash. For digital payment instruments to achieve adoption and scale, they need to  almost become a habit. Hence, frequency of  using the instrument becomes very import- ant. Much like cash, a digital payments in- strument should be usable for multiple, high  frequency everyday transactions. These may  by very nature be small in amount. For ex- ample, online mobile recharge has been a  predominant use case for digital payment in- struments —small in value (so the new, un- evolved consumer could trust), frequent (95  percent of telecom users have prepaid con- nections which they recharge 2-3 times a  month), and a commodity product (no quali- ty variations with location of purchase).  Quite a few digital payment instruments got  initial traction through online mobile re- charge. Since then, the list of use cases of  digital wallets has expanded to cover other  frequent payment transactions like utility  bills, e-commerce and local transportation.\n",
      "\n",
      "An average user of digital payment instru- ment today uses the instrument across stays  three different use cases, and typically uses  the instrument 7-8 times in a month (Refer  Exhibit 3.4).\n",
      "\n",
      "Habit to use cash, complexity and  perceived lack of value proposition key  barriers to adoption\n",
      "While consumers have exhibited an enthusi- astic response towards digital payments, they  have also voiced several concerns that act as  impediments preventing their shift to and be- lief in digital payment methods.\n",
      "\n",
      "• Habit to use cash: A large percentage of the Indian population is still habituated to  cash even when making online purchases  with 68 percent of the surveyed consum- ers admitting to using cash as a means of  payment (Refer Exhibit 3.5). This has led  all leading national and international  players in the e-commerce arena to  include cash on delivery as an option to  suit Indian consumers. Consumers also  feel that spending money in cash aids in  budget management and keeps spending  patterns in check. Although they acknowl- edge that handling cash is inconvenient,  they are satisfied with the way it works  and are not enthusiastic about changing  how they handle money very easily as it is  so ingrained in their day-to-day life.\n",
      "\n",
      "• Complexity of usage: Product complexity  is considered to be one of the biggest  reasons behind non-usage of digital  payments. 1 in every 2 non-users do not  use digital payments because they find it  ‘too complicated’ to understand. (Refer  Exhibit 3.5). In fact, 1 in 3 non-users admit  to not knowing how to use the product  while 1 in 5 think it to be too complicated  to try. As digital payments target heteroge- neous user and merchant segments across  the value chain product design needs to  ensure that the solution is built for the  base and communicated appropriately.  This is critical for universal acceptance. In  comparison, cash is still the most preferred  instrument of payment, simply because of  its absolute ease of understanding even  though it is not the most convenient  option. Payment innovations have to  ensure increasing simplicity of the prod- uct. A large range of value propositions,  standards and technologies are likely  creating confusion and excluding unev- olved users, unless they are communicated  clearly and built for the base.\n",
      "\n",
      "• A Perceived lack of compelling value proposition: About half of the users who  had never tried a digital payment instru- ment, said that the reason they haven’t  used it is because they could not fully  comprehend the benefits or value. It is  evidenced in the fact that they have not  heard a lot of people use or talk about  digital payments. This does not give them a  very strong motivation to alter behavior or  adopt digital payments.\n",
      "\n",
      "For non-users, the chief barriers to trial are  habit of using cash, complexity, and lack of a  compelling value proposition offered by a digi- tal payment method. In order to acquire cus- tomers onto a digital payment instrument, cer- tain key points need to be addressed by the  payment service providers. The offering can be  made more appealing through incentives and  offers to enable adoption. In addition, the user  interface needs to be intuitive and simple to  ensure a seamless customer experience. To  drive mass adoption by consumers, expanding  merchant acceptance is critical. Providers can  also look to educate customers and communi- cate the benefits clearly.\n",
      "\n",
      "Inconvenience, low reach and possibility of  making mistake arresting usage\n",
      "Consumers who have tried using digital pay- ments but have now shifted to other modes  such as cash, card, online banking etc., say that  inconvenience of remembering login creden- tials, insufficient acceptance, possibility of a  technical or human mistake during a transac- tion and frequently running out of balance are  the top reasons for lapsing (Refer Exhibit 3.6).\n",
      "\n",
      "To win back churned consumers payment ser- vice providers need to address critical pain  points. For example, introducing biometric au- thentication would eliminate the need of mul- tiple user names and passwords. Furthermore,  acquisition and integration of merchants under  the system would increase the use cases and  thereby increase acceptance of digital pay- ments. High frequency transactions must be  brought under the ambit of digital payments to  urge consumers’ movement in that direction.  Auto-sweep features can aid in addressing low  account balances and the maintenance of req- uisite minimum balances in the digital pay- ment account. \n",
      "\n",
      "Security, identity theft and fraud are not big barriers in India\n",
      "Primary research data indicates that fraud and  hidden fees do not emerge as top reasons hin- dering digital payment instruments. In fact, 2  in 3 consumers who have never used any digi- tal payments instrument, have no fear of fraud  / hidden charges (Refer Exhibit 3.5). Even for  those customers who tried and quit, the likeli- hood of fraud, identity theft and hidden  charges did not feature as prominent pain  points (Refer Exhibit 3.6).  \n",
      "\n",
      "Unlike global markets, security, privacy and fraud are  not top of mind concerns\n",
      "\n",
      "3 out of 4 merchants believe digital  will grow big, accelerating future sales\n",
      "According to 84 percent merchants partici- pating in the survey, the most important  driver for digital payment usage amongst merchants, who are aware of digital pay- ments, is convenience over cash. The re- search also highlights the fact that most mer- chants struggle with small change, with  some literally paying money to obtain the  requisite change to manage their day. Mer- chants value the avoidance of this struggle  for change, the convenience of not having to  store and manage cash, and the added bene- fit of being able to account for and track  transactions. \n",
      "\n",
      "75 percent of merchants  believe that using digital  payments would accelerate  future sales.\n",
      "\n",
      "The possibility of additional sales is another  primary motivation that draws merchants to  digital payments. 75 percent of merchants be- lieve that the acceptance of digital payment  instruments would accelerate future sales  (Refer Exhibit 3.7).\n",
      "\n",
      "No clear benefits, proclivity towards cash and complexity are key barriers for merchant trials 87 percent merchants who have never tried  digital payments state that digital payment  instruments do not offer significant advan- tages / value benefits over existing methods  such as cards. They are used to dealing in  cards and believe that other methods pro- vide better incentives and given many other  options, there does not exist a catalyst to  drive adoption of digital payments (Refer  Exhibit 3.8).\n",
      "\n",
      "Transactional speed is critical while compet- ing with cash. Even though time saved in  managing large bills in cash, finding change,  or engaging in daily cash counts and bank  trips is acknowledged, the loss of time in  peak hours due to time consuming transac- tions and falling quality of customer experi- ence given delays in accepting digital pay- ments are perceived to be serious challenges.  78 percent merchants prefer cash. \n",
      "\n",
      "The complexity of use presents a problem  for merchants—some merchants who don’t accept payments by wallets, are unclear of  how it works or find it very complicated.  They also feel that there is not enough pull  from customers as not many customers cur- rently ask to pay using digital payment in- struments.\n",
      "\n",
      "Proclivity towards cash,  complexity and perceived  lack of value proposition are  barriers for trials\n",
      "\n",
      "A real problem that is also presented by digi- tal payments is the perception of inferior  technology and poor supporting infrastruc- ture. 48 percent merchants do not want to  try digital payments as they are wary of  technical issues during the transaction lead- ing to them being stuck between the pay- ment service provider and customer. Mer- chants would also prefer having a physical  access point for managing disputes or for  query resolution.\n",
      "\n",
      "Education, in-store demonstration or work- shops etc. would be crucial in on-boarding of  merchants. Providing resources to merchants  in seeking assistance and information on  platform usage or queries would encourage  merchants to invest in a good internet net- work, leading to seamless transaction speed  and quality. It will help in retaining higher  number of merchants in the digital system. \n",
      "\n",
      "Building a transaction ecosystem for  merchants is critical\n",
      "Cash is deeply embedded in the ecosystem  that small merchants operate in. Customers  rarely ask to pay digitally and the upstream  supply chain also demands payments in cash.  To ensure universal acceptance is built, digi- tal payments players need to ensure a gradu- al transition into customers and merchant  transaction ecosystems (Refer Exhibit 3.9).\n",
      "\n",
      "• Linear adoption: Increase awareness and presence and offer better support.\n",
      "\n",
      "The digital payments instrument must  generate merchant demand by driving tri- als and adoption, as well as through a simple and convenient merchant acquisition  process. Both the on-boarding and the fee  structure need to be kept highly simple,  especially for the unorganised retailer.  Further, payment service providers must  ensure requisite support is provided in the  form of call center / agent support, toll  free numbers, and transparent processes  (for example in case of disputes, refunds  etc.). This will provide the required confi- dence to merchants to come on to the dig- ital payments platform. \n",
      "\n",
      "• Incremental adoption: Address need gaps and pain points.\n",
      "\n",
      "In order to drive merchant adoption of  digital payments, it is imperative for pay- ment service providers to improve the  products offered—with easier processes,  reporting, reconciliation etc. Digital pay- ments should be faster—for example,  touch based. Merchants are worried  about long queues if that transaction  takes time to complete. This has to be giv- en disproportionate importance to drive  large scale offtake. Further, digital pay- ments players will need to develop more  use-cases where digital clearly beats cash,  to ensure momentum of changed user  habits to carry through in situations  where benefits of digital payments are  not that differentiated.\n",
      "\n",
      "• Disruptive potential: Establishing the transaction ecosystem.\n",
      "\n",
      "The acceptance of money in digital pay- ments for merchants is directly linked to  their ability to pay their distributors and  vendors through the same instrument. Es- tablishing this transaction ecosystem help- ing merchants manage their inbound and  outbound transactions will be critical to  drive universal acceptance.\n",
      "\n",
      "Finally, while cost savings and convenience  will establish value with merchants, globally  the single most important reason which has  driven traction with merchants is getting  more sales, through co-marketing campaigns,  rewards or incentives programs and leverag- ing the network and data of the payments  player. Further, in primary research merchants have shown great interest in value  added services such as integrating with pay- ments platform to provide customer features,  like order ahead, pre book etc.—providing  value both to customers and merchants.\n",
      "\n",
      "The digital payment offering of the future  needs to combine the simplicity and univer- sality of cash, with the security and conve- nience offered by digital payments. Intuitive  consumer interface with option of vernacular  languages and biometric authentication will  drive mass adoption while complimenting it  with greater coverage and acceptance at  physical point of sale will lead to its sus- tained usage. The payments players would  also need to ensure that unlike the present  wallet, a completely fungible and interopera- ble system is created between the digital pay- ment instrument and the customer’s bank  accounts. Not just would this provide added  convenience to customers but would also  lead to systematic tracking of money flows,  better planning and even limits and alerts on  money movement. In terms of monetary  benefits, the amount stored in current wal- lets does not earn any interest whereas mak- ing wallets interoperable and fungible with  bank accounts will make wallets a potential  candidate for earning interest income. Not  just this, instead of paying a fee for cashing  out to bank account, merchants can utilise  the data and insights from usage pattern to  market customised offerings and grow their  business (Refer Exhibit 3.10).\n",
      "\n",
      "In summary, digital payments in India is in a  unique position—given the nature of the  product, ubiquity of acceptance is a must,  and hence mass appeal which can harness  the power of network effect and push the  product universally is a pre-condition to suc- cess. At the same time, there is intense het- erogeneity of the user, use cases, motivations,  attitudes and barriers towards digital pay- ments. The right product thus has to cater to  both these seemingly conflicting needs—have  mass appeal, and yet be able to cater to all  these varying needs in a customised manner.\n",
      "\n",
      "\fINDIA DIGITAL PAYMENTS – A $500 BN POT OF GOLD \n",
      "\n",
      "Increasing smart phone penetration, greater access to the Internet, rise in consumption and the rapid development of  payments infrastructure is set to drive the  penetration of digital payments in India. We  expect the digital payments space to witness  significant disruption in the days ahead.\n",
      "\n",
      "The Future of Digital Payments in India\n",
      "While the exact form and shape of disruption  will only be unveiled over time, the crystal ball  indicates seven trends set to transform the pay- ments landscape over the next five years:\n",
      "\n",
      "1. Technology will make digital payments simpler\n",
      "\n",
      "2. Merchant acceptance network to grow 10X by 2020\n",
      "\n",
      "3. Payments will drive consumption — and not the other way around\n",
      "\n",
      "4. Consolidation will drive ubiquity\n",
      "\n",
      "5. Modified UPI will be a game changer\n",
      "\n",
      "6. Digital identity will accelerate customer acquisition \n",
      "\n",
      "7. Cash to non-cash ratio will invert over the  next ten years\n",
      "\n",
      "Technology will make digital payments simpler\n",
      "Widespread adoption of digital payments will  require such transactions to be just as conve- nient and safe, if not more, as cash. This is  only possible with new solutions being devel- oped to make digital payments easier for cus- tomers as well as merchants. Smartphones  are expected to displace cards, ATMs and POS  as an issuing and acquiring device. Ubiqui- tous connectivity, biometrics, tokenisation,  cloud computing and the Internet of Things  are just a few of the trends that will affect the  way consumers transact and interact with  payment service providers in the future. \n",
      "\n",
      "Some payment innovations that could be rel- evant in the Indian context are:\n",
      "\n",
      "• Contact-less payments: Near-Field Communication (NFC) has not been very  successful in the Indian context on  account of the high costs associated with  embedding it in smartphones as well as  merchant terminals. However, other forms  of contact-less payments that have worked  in emerging markets like China may be  more appropriate. For example, the use of  QR code technology can make point-of- sale mobile payments convenient. Cus- tomers will just need to flash the mobile  app with the QR code at check-out, which  can be read by the cashier and according- ly the amount can be debited from the customer’s wallet / account. Customers  authorise the transaction using a simple  4-digit pin or biometric scanners.\n",
      "\n",
      "• Reduced dependence on mobile internet: Even though penetration and  usage of the internet on mobiles is  continuously increasing, mobile data  networks in the country are still unreli- able and expensive for certain customer  segments. Technologies that require only  one of the two transacting parties to have  access to mobile data can significantly  drive up transaction success rates and  further adoption of mobile payments.\n",
      "\n",
      "• Internet of Things: We expect that the Internet of Things will fuel online transac- tions in the next few years. Automation  and connectivity of gadgets and devices  will become seamless. Customers will be  able to initiate a purchase and / or  payment from any electronic gadget at  their home or office. For example, con- sumers could use an internet connected  refrigerator at home to order groceries  and pay for it real-time using a digital  payments instrument.\n",
      "\n",
      "• Block chain: Technologies like block  chain could be used to create digital  currency (like bitcoin) making peer-to- peer digital payments seamless and  secure. \n",
      "\n",
      "• Voice based payments: Banks and payments service providers could offer  solutions that enable customers to log in  and pay through voice-based authentica- tion. This would mean that customers no  longer need to enter a PIN or a password  while shopping as the app can compare  stored voice recordings to verify each  transaction through a simple voice phrase.  This will allow aged and illiterate users to  easily access such services and drive  acceptance / penetration further.\n",
      "\n",
      "• Biometric / Iris authentication through  mobiles: NTT Docomo has launched  smartphones with iris recognition capabil- ity. This makes transaction facility on the  phone accessible only to the primary user  of the device. The cost of adding this feature to the phone is less than INR 500  and costs are expected to further de- crease. In the future, a significant propor- tion of phones could be iris enabled,  making online authentication simpler. \n",
      "\n",
      "In summary, while the exact uptake and pen- etration of different technologies is unclear, it  is obvious that technology will be a key dis- ruptor and further developments will make  digital payments simpler, more convenient  and easier to use.\n",
      "\n",
      "Merchant acceptance network to grow 10X by 2020\n",
      "The merchant acceptance network for cards  in India has by and large been stagnant for  the last several years. With approximately  one million POS terminals accepting card  payments at an estimated 700,000-800,000  merchant outlets, it is one of the most under- penetrated in the world (Refer exhibit 4.1).  The potential of this segment is estimated to  be nearly 15 million establishments including  unorganised retail and small “mom and pop”  stores.\n",
      "\n",
      "One of the key reasons for this low penetra- tion has been the high cost of “terminalising”  merchants. Despite the cost of EDC machines  coming down significantly over the last sever- al years, a certain minimum threshold of  transactions is still required to recover cost of  deployment and maintenance. Further, the  current economics of the merchant acquisi- tion business make it unviable for acquirers. \n",
      "\n",
      "We believe that mobile based payment solu- tions will significantly drive merchant acqui- sition. The use of technology will create solu- tions that require nil or minimal additional  investment on point-of-sale hardware. Use of  proprietary or mobile based payment net- works is expected to make economics more  attractive for both merchants and acquirers.  Primary research indicates that merchants  believe accepting digital payments could help  boost their sales, and are open to accepting  payments through mobile provided fast and  convenient solutions are available. \n",
      "\n",
      "Offline is an indispensable channel to attain  scale of digital payments. It also provides ex- tensive richness of consumer profiles by being able to merge offline and online be- haviour. An offline strategy should involve  analysis of customer lifecycles for use-cases  to identify points of value addition for cus- tomers and merchants. We believe that of- fline should, and will be a priority, for all pay- ment service providers.\n",
      "\n",
      "Take the example of China. Both Alipay and  Tencent are leveraging offline, albeit in dif- ferent manners, basis their strengths. Alipay  is using its massive scale to challenge Union  Pay (credit and debit cards) by signing up  more Points of Sale (POS), partnering with  large retailers (7-Eleven, In Time Retail), us- ing strong promotional schemes (offering  discounts offline of up to 50 percent at  restaurants and supermarkets) and offering  international shopping offers to high-end  customers. WeChat (Tencent’s instant mes- saging service) on the other hand, is using its  chat platform to deeply integrate with user  behaviour. Peer-to-Peer (P2P) transfers are  encouraged through WeChat messenger,  adding value to merchants with WeChat ser- vice accounts. Merchants can also engage  with customers on WeChat, for food orders,  store location services, reservations, custom- er service etc. \n",
      "\n",
      "In light of all of the above point, we estimate  that 10 million plus merchant establishments  will accept digital and mobile based payments by 2020. This will be a key factor in  driving the penetration of digital payments in  the country. This 10 million is expected to  come from the current 15 million universe,  plus the potential use with “mobile mer- chants”, for example, newspaper vendors,  milkmen, cable TV providers, insurance  agents etc.\n",
      "\n",
      "Merchant acceptance net- work likely to grow 10X over  next 5 years\n",
      "\n",
      "Payments will drive consumption — and not the other way round\n",
      "Digital payments will enable payment service  providers to get access to customer transac- tion data, and will soon become a ubiquitous  ecosystem comprising marketing, transactions  and payments. Customer will be offered digi- tised valuables such as offers, coupons, loyal- ty points, rewards, etc. from multiple brands  while enabling payment transactions through  the use of data and analytics. It will work par- allel to merchants’ apps complementing them  and engaging with users, thereby providing a  seamless shopping experience and giving  merchants a presence on customer’s mobile  device. Digital payments will pivot into an experience influencing consumption going be- yond payments.\n",
      "\n",
      "Consolidation will drive ubiquity\n",
      "The last few years have witnessed the entry  of several participants in the payments space,  with many of these being non-bank entities  such as PPI’s, telcos etc. Some of these play- ers have focused on providing niche or limit- ed solutions. Most of these players have been  subscale and have not been able to acquire  critical mass with some even shutting down  operations. \n",
      "\n",
      "Primary research indicates that customers  prefer ubiquitous solutions to using different  payment instruments for different use-cases.  Smartphones shipped to India are often  stripped down versions, and have less memory, limiting the number of apps that can be  downloaded and stored therein. Given all  this, customers would prefer to have fewer  wallets / apps with multiple uses than several  single-use apps.\n",
      "\n",
      "This will drive consolidation in the payments  industry. Niche or single use case solutions /  apps will get acquired by larger players, in  the quest to develop universal and ubiquitous  solutions. This is also likely to increase  throughput or velocity of transactions hap- pening through digital payment instruments.\n",
      "\n",
      "Modified unified payments interface  (upi) will be a game changer\n",
      "NPCI’s Unified Payments Interface is aimed  at enabling interoperability between finan- cial instruments using a mobile interface. As  outlined earlier, UPI is an open architecture  system, wherein any payment service provider connected to UPI will be able to provide  payment and payment management solutions to users registered on UPI. This would  enable multiple use-cases on the UPI platform—including peer to peer payments, person-to-merchant payments and busi- ness-to-business payments. Furthermore,  users will not have to remember cumbersome details like MMID numbers, branch  IFSC codes etc. to make payments with only  the UPI ID sufficing to carry out transac- tions. UPI will also have a two-factor authentication process to ensure security of financial transactions. \n",
      "\n",
      "UPI is currently in very early stages, and  hence, a few challenges are yet to be over- come. Firstly, NPCI needs to ensure the inte- gration of leading banks, PPIs and other fi- nancial institutions on this platform. This is  expected to be difficult and time consuming.  Secondly, providing a seamless and consistent  experience to customers across mobile bank- ing platforms of varied banks will not be  easy. Finally, ensuring that all users are able  to generate UPI virtual IDs on their own, will  be significant to the success of this initiative,  especially for merchant transactions.\n",
      "\n",
      "Despite these challenges, UPI holds the prom- ise of being a game changer for the digital  payments world. If suitably modified to over- come challenges, it can drive large scale  adoption of digital payments in the country,  in times to come.\n",
      "\n",
      "Digital identity will accelerate  customer acquisition\n",
      "Using Aadhar, for online authentication and  confirmation of KYC data, will boost growth  of digital payment systems. Payment service  providers will be able to acquire customers  digitally, significantly bringing down custom- er acquisition costs and improving economics  of the digital payments business. This will  also transform customer experience as cus- tomers will be seamlessly on-boarded on to  the digital payments platforms.\n",
      "\n",
      "Cash to non-cash ratio will invert  over the next ten years\n",
      "Traditionally, India has been a cash economy.  Cash lends itself to certain characteristics of  universal acceptance, with no language barrier,  simplicity of use and speed of payment due to  which Indian customers have largely preferred  dealing in cash. Currency in circulation in India  accounts for 18 percent of the GDP versus 3.5- 8.0 percent in mature markets such as UK,  USA etc. India lags behind mature markets as  well as key emerging markets such as Brazil  and China in the move towards a cashless  economy. In 2015, cash contributed to just 20- 25 percent of overall consumer payments in  developed nations, for example, US, UK,  France and Germany as compared to 78 per- cent in India. Of the remaining 22 percent, 13  percent comprises digital (including NEFT,  RTGS, internet banking and mobile banking), 7 percent are cards, and 2 percent are paper  (cheques) (Refer Exhibit 4.2).\n",
      "\n",
      "While India has traditionally been a cash-cen- tric economy, the contribution of cash for  transactions has seen a decline at a rapid rate.  In 2015, 78 percent of all consumer payments  were made in cash, down from 89 percent in  2010 and 92 percent in 2005 respectively. Over  a 5-year period from 2005-2010, the rate of de- cline in cash contribution was 0.8 percent  whereas from 2010-2015, this same metric was  at 2.6 percent, indicating a rapid increase in  adoption of non-cash instruments such as  cards and digital payments (electronic / ECH  payments, mobile wallets etc). \n",
      "\n",
      "“Digitisation of cash” will accelerate over the next five years with non-cash transactions overtaking cash by 2023. We expect the trend of  increasing penetration of non-cash payments  to continue at a faster pace (Refer Exhibit 4.3)  The increase in the contribution of non-cash  payments would, inter alia, be significantly and  substantially aided by the penetration of  digital payment instruments. This “digitisation  of cash” would be supported by several macroeconomic and demographic factors in  India, along with the new developments  expected in the digital payments space. \n",
      "\n",
      "Proportion of non-cash  transactions will overtake  cash transactions by 2023\n",
      "\n",
      "The non-cash contribution for payment trans- actions is estimated to increase from 22 per- cent today to 40 percent by 2020 and 59 per- cent by 2025. Within the pool of non-cash  payments, digital payments are expected to  contribute to an extent of 26 percent by 2020  and 37 percent by 2025 (Refer Exhibit 4.4). By  2025, cash contribution in India is expected to  match current cash levels of emerging markets  at 40-45 percent. \n",
      "\n",
      "Alternate digital payments instruments will  drive the growth in non-cash payments.\n",
      "Alternate digital payments have grown exponentially in the past few years. Stored value instruments like mobile wallets (Paytm,  MobiKwik, Freecharge), store credits, prepaid  and gift cards etc. have made payments  through internet devices convenient and easy.  These instruments can be recharged with  required value through cash, money transfers from bank accounts or even by debit or credit  cards. The prepaid amount can then be used  as per customer requirement. \n",
      "\n",
      "Digital payment instruments can also store  information such as the credentials of an existing payments instrument, making the pay- ment process at the point of purchase sim- pler. NPCI’s Unified Payments Interface  (UPI) is also expected to support interopera- bility in stored information as well as stored  value instruments.\n",
      "\n",
      "Digitisation of Payments is a Large Opportunity\n",
      "The large spectrum of payment use-cases in In- dia can be illustrated using two axes, one being  the source or origin of payment transactions,  and the other being the destination of the  transaction. We have considered three types of  entities—individuals (or Persons), business entities (or Merchants) and the Government and  correspondingly classified payment use-cases  into nine categories (Refer Exhibit 4.5).\n",
      "\n",
      "Large size of prize in India Volume: It is our estimate that approximately  30 billion payment transactions happen in India every month across these use-cases. This  translates into almost 1 billion transactions  per day. Of these, “person-to-merchant” or  P2M transactions are the largest, contributing to about 16 billion transactions per month  (nearly  530 million transactions per day).  P2M transactions include food and grocery  payments—both organised and unorganised,  bill payments, mobile recharges, unorganised  transport, organised transport (radio cabs, air  and train travel), e-commerce, modern trade,  entertainment etc.\n",
      "\n",
      "User Base: If we look at the number of users  in the digital payments instrument segment,  estimates indicate that customer base is set to  increase from 60-80 million users currently to  300 million by 2020. Digital payments users  will comprise 50 percent of all internet users  by 2020. While multiple heterogeneous cus- tomer segments such as urban affluent, mass  aspirers, migrants and rural next billion exist  today; the top 100 million internet users will  drive more than 70 percent of value of trans- actions through digital payments instruments.\n",
      "\n",
      "Value: Digital payments instruments can be  used across the full spectrum of payments  use-cases. We estimate the total payments  on digital payments instruments to be in the  range of USD 500 billion by 2020, up from current estimates of approximately USD 40- 50 billion. The largest contributors to this  growth would be P2M (USD 200 billion),  B2B (USD 150 billion) and P2P (USD 45 bil- lion). On the other hand, we believe that  G2B and G2G transactions will not utilise al- ternate digital payment methods significant- ly (Refer Exhibit 4.6). With a transaction fee  on these transactions in the range of 0.50- 0.75 percent (for B2B) and 2 percent (for  P2P), the Indian digital payments industry  could be worth approximately USD 5 billion  in revenues by 2020. \n",
      "\n",
      "USD 500 billion will flow  through digital payments in  India by 2020\n",
      "\n",
      "Merchant Payments (P2M) will be the  largest use-case of digital payments We estimate Person-to-Merchant (P2M) payments to constitute around 40 percent of total payments done through digital payment instruments. The universe for these payments is very large and even with moderate  adoption estimates, this would translate to  being the single largest use case for digital  payments. Unorganised retail, rent and professional service payments (payments to doctors, school fees) and financial services payments (insurance premiums etc.) are  expected to drive the growth in this segment.  The remaining contribution in the P2M segment will comprise other use cases such as  bill payments, organised healthcare, restau- rants, modern trade shops, travel and e-commerce (Refer Exhibit 4.7). \n",
      "\n",
      "Merchant payments will  constitute 40 percent of  digital payments\n",
      "\n",
      "Micro-transactions (small ticket size of INR  100, high frequency transactions) are expect- ed to form 50 percent of the total transaction  value on digital payments instruments within P2M payments by 2020. A critical criterion for  digital payments’ success is for them to translate into customer habits. Frequency of using  the instrument, therefore, assumes great significance. Constraints of memory space in  smartphones shipped to India cause any app  that is not frequently used to be deleted.  Therefore, much like cash, a wallet needs to  be usable in multiple, high-frequency, everyday transactions to have relevance and conse- quence as these transactions by nature are  small in amount. While there is large propen- sity for micro transactions to move to digital  payments, a non-prohibitive fee structure will  be important to render this into reality. \n",
      "\n",
      "Business to Business (B2B) payments will gain traction\n",
      "Another potential use-case of digital pay- ments is the exchange of payments between  small businesses and SMEs. Currently, these  payments are largely made in cash or through  bank cheques. As digital payment instruments  gain prominence, we expect payment service  providers to create customised solutions that  cater to small businesses specifically. These  could include supply chain payments, retailer to distributor payments, dealer and vendor payments etc. \n",
      "\n",
      "The digitisation of supply chain payments  could also play a key role in supporting the  digitisation of P2M payments as retailers  would be more comfortable accepting pay- ments from consumers in digital currency.  This would also enable them, in turn, to be  able to pay their suppliers or distributors in a  similar currency. We thus, expect B2B pay- ments to become the second largest use-case  for digital payments by 2020. \n",
      "\n",
      "Digital Peer to Peer (P2P) payments to double by 2020\n",
      "Remittances or Peer to Peer (P2P) payments  through digital payment instruments have  seen good adoption and growth over the past  few years. We expect this trend to continue  and estimate the penetration of digital pay- ments instruments for P2P payments to grow  from 15 percent currently to 30 percent by  2020. However, primary research indicates  that there are certain challenges to overcome  in order to make the digital remittance value  proposition stronger.\n",
      "\n",
      "\fA comparative analysis of prevailing modes  of money remittances indicates that while  traditional modes like banks, money orders  and cash constitute top 3 modes, mobile wal- lets are the next preferred method. (Refer Ex- hibit 4.8). Digital payments offer conve- nience and 24x7 access to overcome issues  related to timing, security and restricted us- age synonymous with traditional methods.  However, the fee incurred and limits on  transaction amounts remitted via digital in- struments act as deterrents to usage. Post of- fices, banks and cash remittances were per- ceived to be cheaper, though less convenient,  while digital instruments, private companies  and agents are perceived to be similar on  charges.\n",
      "\n",
      "For existing remittance users, pain points in- clude being habituated to cash, lack of prod- uct clarity and narrow reach leading to churn.  In addition, concerns of not being able to ac- cess money in case of limited mobile network  coverage or not being able to transfer money  to bank accounts add to reasons why many  customers have never tried a digital payment  instrument for money transfers. \n",
      "\n",
      "Payments service providers looking to acquire customers should invest in promoting  the product and in educating the customer,  equally. \n",
      "\n",
      "Research also shows that the primary reason  for needing such assistance is lack of prod- uct know-how and usage awareness as well  as lack of understanding of English—both  facets being progressively worse in non-met- ros. As digital payment service providers tar- get users and sellers, the importance of cus- tomer education and regional languages is  only set to grow. \n",
      "\n",
      "In summary, the opportunity for digital pay- ments in India is nascent yet quite sizable  with trends being positive over the last two  to three years. The seven key trends identi- fied, we believe, will disrupt the payments  space in India making it more digital over  the next five years. This will include inver- sion of the cash / non-cash ratio for payment  transactions over the next five to seven  years. The erstwhile value of digital pay- ment transactions could increase 10X by  2020 from current levels. \n",
      "\n",
      "\fGRABBING THE  OPPORTUNITY – THE  WINNING AGENDA\n",
      "\n",
      "Globally, we have witnessed the entry of several payments players over the past few years. However, only a few of them have  really been successful. There are several  success factors that we stand to infer from  such successes and failures from addressing  real customer needs or offering compelling  customer value propositions, to leveraging  next generation technology to deeper customer engagement. \n",
      "\n",
      "Ten Point Agenda for Payment  Service Providers\n",
      "The past couple of years have witnessed many  new entrants in the Indian payments space— though few have achieved economic scale or  profitability. Players have experimented with  various business models to monetise the pay- ments opportunity. But the primary focus hith- erto, has been on customer acquisition, remi- niscent of the land grab models of the Wild  West. Most PSPs are funded by PE money and  currently focus on driving trials and usage— aided by deals and offers, promotions and ze- ro-fee models. Hence monetisation models are  not fully evolved in India. \n",
      "\n",
      "The challenge faced by most is how best to  clearly define an economically viable and  sustainable model. Payments service provid- ers need to take an end-to-end view of the  payments opportunity in order to build a sus- tainable business model. In India, where digital payments compete with cash, which has  no “visible cost” to the user, creative ways of monetisation will be required to make busi- nesses viable. \n",
      "\n",
      "We outline a ten point agenda to create a suc- cessful and sustainable payments play in India:\n",
      "\n",
      "1. Address true customer needs\n",
      "\n",
      "2. “Build for the base” with convenient, intuitive, easy to use and safe products \n",
      "\n",
      "3. Optimise the network effect by building a ubiquitous network\n",
      "\n",
      "4. Partner, Partner, Partner\n",
      "\n",
      "5. Reduce entry barriers for customers:  Charge merchants and not customers\n",
      "\n",
      "6. Mine customer data to build additional revenue streams\n",
      "\n",
      "7. Look beyond—from payments to broader  financial services needs to consumption\n",
      "\n",
      "8. Develop ecosystems to envelop customer needs\n",
      "\n",
      "9. Exploit next generation technologies to  build low cost and scalable solutions\n",
      "\n",
      "10. Scale, Scale, Scale\n",
      "\n",
      "\fAddress true customer needs\n",
      "Often, digital payments instruments have  been akin to solutions looking for a problem,  rather than a way to resolve existing prob- lems faced by customers on a day-to-day ba- sis. It is critical for payments service provid- ers to identify pain points for specific user  segments and address them.\n",
      "\n",
      "There is no one customer segment for digital  payments. Each segment and user archetype  has different payment needs, different pain  points, and different drivers of adoption.  Hence, it is imperative that payment service  providers must, first of all, be clear about the  customer segment(s) that they are targeting.  Moreover, it is critical to understand the spe- cific need-gaps and pain points of such target- ed customer segment(s) in order to resolve  them and articulate value propositions to cus- tomers accurately. Generic solutions or solu- tions targeted at wrong customer segments  have failed to work. For example, a remittance  solution pitched to an urban, smart-phone  savvy young customer by a leading telco did  not gain critical mass, as it was not a relevant  solution for the segment being targeted. \n",
      "\n",
      "“Build for the base” with convenient,  intuitive, easy to use and safe  products\n",
      "In a country like India that has largely been a  cash economy, digital payment solutions are  in constant competition with cash transac- tions. Hence, it is imperative to build solu- tions that are as easy as cash to use across all  target user segments. This would entail selec- tion of the right form factor, interface and  user experience. We have seen some complex  USSD based payment solutions that did not  really succeed, as most customers found them  too complicated to use. \n",
      "\n",
      "Global experience indicates that pull-based  solutions, where merchants “pull” the trans- action from customers, are more likely to be  accepted than “push” based solutions that re- quire the customer to key in large strings of  data on to their mobile phones. \n",
      "\n",
      "From the merchants’ perspective too, digital  payments solutions should be designed such  that the time taken to complete a transaction  does not significantly increase as compared to current payment methods (cash and cards).  This presents a major cause of concern for  merchants who are apprehensive that the ac- ceptance of these solutions could lead to cus- tomer queues at establishments. \n",
      "\n",
      "It is imperative to build  solutions that are as easy to   use as cash\n",
      "\n",
      "Finally, convenience should not come at the  cost of safety or security. Primary research indicates that while trust and security do not  pose serious impediments to the adoption of  digital payment instruments like mobile wal- lets, they are still significant factors to reckon  with. Certain reports indicate that instances  of fraud on mobile wallets are significantly  higher compared to other e-commerce plat- forms. Banks and payment service providers  need to strike the right balance between  ease-of-use and safety of customer funds. \n",
      "\n",
      "Optimise the network effect by building a ubiquitous network\n",
      "The digital payments business in India is still  nascent with customers trying out multiple  wallets and other payments instruments.  However, primary research indicates that cus- tomers would like to consolidate transactions  on as few instruments as possible akin to  bank accounts. Global experience also high- lights the need for “aggregator wallets”, as  customers want universal solutions. \n",
      "\n",
      "Ubiquitous payments comprise three key elements—a) a broad set of use-cases, b) wide- spread merchant acceptance network, c) large number of cash-in, cash-out points.\n",
      "\n",
      "Customers have varied use-cases, ranging  from daily routine spends (for example, food,  travel, groceries etc.), monthly utility payments, some annual spends to ad hoc transactions. Payment instruments that cater to  varied use-cases or a large proportion of cus- tomer transactions are more likely to win.\n",
      "\n",
      "The big push for digital payments in India  will come from merchant payments. Person-to-Merchant (P2M) payments will be the  largest transaction pool by 2020. Hence, to  drive ubiquity, it is imperative to build a large  merchant acceptance network. Customers  tend to prefer payment instruments that are  accepted at a large number of outlets—both  online and offline. Therefore, on-boarding of  merchants is as critical for payment service  providers as acquisition and on-boarding of  customers. This would necessitate an organi- sation to acquire and on-board merchants, as  well as to service them. \n",
      "\n",
      "Prima facie, primary research indicates that  merchants have specifically talked about the  need for handholding as well as support, for  example, through a call centre. As highlighted  earlier, technology is expected to reduce costs  of merchant acquisition and servicing, as ded- icated EDC machines or POS terminals may  no longer be required. \n",
      "\n",
      "Further, success in digital payments will re- quire players to build “hybrid” networks that  optimally combine digital solutions and phys- ical networks. This will provide last-mile con- nectivity to a larger universe of users, while  keeping transaction costs low through a digi- tal framework. This will also support physical  cash-ins and cash-outs, thereby enabling even  those who do not get paid digitally to partici- pate in digital payments. \n",
      "\n",
      "In the short to medium term, an extensive net- work of cash-in and cash-out points will be im- perative for digital payments to be absolutely  fungible. This network has to be created in a  cost effective way, with no conflict of interest  and clear retailer incentives and benefits. \n",
      "\n",
      "Partner, partner, partner\n",
      "Payments business economics will be tight.  Combined with the fact that PSPs will need to  offer a wide range of services, it is obvious that  one cannot do it all. Partnerships will also be  critical for the success of payment banks.\n",
      "\n",
      "Partnerships may help payments service pro- viders with one or more of the following:\n",
      "\n",
      "• Lowering customer acquisition costs by  leveraging partner customer base:  Partnerships can enable payment service  providers to acquire a large base of customers at a relatively lower acquisition  cost. For example, a new payments service  provider may forge a partnership with an  e-commerce player, an organised retailer,  or an organised transport service provider  (including public transport utilities like a  metro or monorail network) to provide a  payments solution on their platform. This  would give the PSPs access to an existing  customer base. Payment service providers,  including banks can partner with corpo- rates and merchants to create customised  payment solutions for specific use cases.\n",
      "\n",
      "• Offering a broad spectrum of solutions:  Independent payment service providers  will need to partner with banks, asset  management companies, insurance  companies and retailers to name a few, in  order to offer the full spectrum of pay- ments, savings, investment and protection  solutions to acquired customers. This will  be relevant for payment banks, given they  can only offer payment and deposit  products on their own. \n",
      "\n",
      "• Access to a large distribution network:  Providers can also partner with entities  that have large distribution networks like  telcos, retailers and business correspon- dents to have last-mile presence for  enhanced customer convenience.\n",
      "\n",
      "While these enumerate some partnership ex- amples, several options exist. The challenge  and the opportunity lie in creating a viable  operating model that successfully creates value for both parties.\n",
      "\n",
      "Reduce entry barriers for customers: charge merchants and not customers\n",
      "The transaction charge for payment transac- tions, especially for Person-to-Merchant  (P2M) transactions should be levied on the  merchant and not on consumers. Currently,  merchants are generally used to paying Merchant Discount Rates (MDR) on card transactions. Moreover, 75 percent of the merchants  covered in the primary research, believe that  acceptance of digital payment instruments  like wallets will increase sales. Hence, it is  likely that a marginal transaction charge for  use of a digital payment instrument may be  acceptable. \n",
      "\n",
      "\fAll merchants, including large and organised  businesses, need to realise and acknowledge  the cost of doing business in cash. It is surprising that if one were to go to a railway  booking office, airline ticketing office, or  even a movie theatre, and pay in cash, there  is no extra cost. In comparison, if one were  to use a non-cash instrument like a debit or  credit card, especially when transacting online, one is charged a “surcharge” or convenience fee. This implies that merchants are  happy to accept cash, completely ignoring  the costs of cash handling and cash manage- ment. It is imperative for banks and other  payments service providers to drive awareness and educate merchants about the cost  of cash and ask them to view the transaction  charge for accepting a digital payment instrument in light of the same. Payment service providers can also offer value-added  services to make the entire proposition more  economical for merchants and to improve  merchant acceptability of digital payments  instruments.\n",
      "\n",
      "Also, payments service providers can explore  the possibility of charging users only when  money leaves the digital ecosystem. For example, the current Peer-to-Peer (P2P) wallets  and other payment service offerings are  seen as expensive and hence, have not  gained traction despite prevalent potential.  An alternative model could be to levy trans- action charges for P2P transfers or remit- tances only when the recipient “cashes out”  instead of at the point of transfer. Similarly,  merchants should be charged only when  they take the money out from the account  and not when they receive it. This will drive  a multiplier effect in usage, promoting the  use of digital money for a larger number of  transactions. Of course, this would need a  large number of online and offline avenues  to be created where recipients of money can  spend it so that payment service providers  earn revenue as transaction fees on such  spends.\n",
      "\n",
      "Mine customer data to build additional revenue streams\n",
      "Banks and payments service providers must  look at alternate means to creatively mone- tise large volumes of customer and transac- tion data that they possess. BCG studies indicate that on an average 80 percent of the  data created / generated by banks and insur- ers is not currently used. Payment service  providers need to look at how to carry out  analytics so as to offer right products / ser- vices to the right consumer at the right time  by leveraging data to drive the transition  from consumption driving payments to a sce- nario where payments drive consumption. \n",
      "\n",
      "mBank in Poland runs a digital discount pro- gram utilising the bank’s transactional data  with automated redemption. The Bank anal- yses transaction data of customers on several  dimensions like zip code, category, store,  spend / trips etc. to create targeted offers  that are then customised for the consumer.  The offer is displayed on the bank’s online  statement, below a relevant purchase. The  consumer can just click to activate the offer,  and use a mBank payment instrument (credit  / debit / prepaid card) at the point of sale to  avail the offer. High relevance of offers and  hassle-free redemption are reasons why con- sumers love the experience. \n",
      "\n",
      "Urgent credit service could be another spe- cific example. Enabled by an instant pay- ment system and coupled with advanced un- derwriting, this can be done basis the  customer and transaction data which the  bank / payment service provider already has.  For example, when a customer making a pur- chase on an e-commerce marketplace checks  out using a digital payments instrument, he  can be prompted to upgrade his purchase or  insure the product. The incremental amount  can be funded through an instant line of  credit provided by the bank or payment ser- vice provider. Alibaba’s MyBank is an exam- ple of one such offering. As an online bank  with registered capital of 4 billion yuan, My- Bank gives out loans to small businesses, en- trepreneurs and consumers in China. It oper- ates on cloud computing platform and uses  data to calculate loan amounts. \n",
      "\n",
      "Payment companies can drive more impulse  purchases by adding a credit payment fea- ture to their offerings. The idea is to trans- form the mobile phone into a credit card mi- nus the payment strip. A customer could just  tap, shop, pay and walk. Obviously KYC  norms and credit risks will have to be factored into the thinking and development pro- cess. Payment service providers should also  leverage analytics to better understand cus- tomer trends and preferences in order to pro- vide customised experience to customers.  This could include personalisation of services  and interface, targeted offers etc.\n",
      "\n",
      "Look beyond — from payments to broader financial services needs to consumption\n",
      "Payments form the core of all customer transactions. Banks as well as payment ser- vice providers offering payment services,  have a great opportunity to expand customer  relationships by offering a full suite of finan- cial services to customers. These may include  savings and checking accounts, loans and  credit cards, investment products like mutual  funds, insurance products and other banking  services. While banks can offer most of these  products and services directly to their cus- tomers, independent payments service pro- viders like telcos, PPIs or even payment  banks, need to forge the right partnerships to  be able to offer comprehensive financial  products to consumers (Refer Exhibit 5.1).\n",
      "\n",
      "Furthermore, banks and payment service  providers have an opportunity to deepen re- lationships with customers by leveraging the  platform for other revenue streams. They can  move beyond financial services to include  consumption based products and services in  order to monetise the relationship. Having  access to customer data on payments, banks  and payment service providers are well posi- tioned to assess and identify customers’  needs and behaviours in order to offer the  right products and solutions best suited for  different life stages. \n",
      "\n",
      "If a bank or payments service provider is  able to set up such new lines of business in  order to expand customer relationships into  additional revenue streams, it gives them fur- ther access to customers’ consumption data.  This in turn, can be leveraged to assess the  customers’ financial consumption need and  potential, enabling banks / PSPs to offer  them relevant financial service solutions.  This would complete the circle of end-to-end  customer ownership by leveraging the com- prehensive potential of monetising customer  relationships. \n",
      "\n",
      "\n",
      "Ping An in China is one such case in point.  From being a traditional financial services  player offering insurance, banking and investment products for almost two decades,  Ping An is now pursuing an “Integrated Finance + Internet” strategy. Ping An has ex- panded its offerings to provide consumption  related services including health, food, hous- ing, travel and entertainment. By focusing on  everyday needs of users, Ping An can access  large amounts of active client consumption  data, which in turn, provide insights into con- sumption needs, behaviours, and customer  potential. This enables Ping An to carry out  precise and targeted marketing of its core fi- nancial services products to customers (Refer  Exhibit 5.2).\n",
      "\n",
      "Finally, banks and payment service providers  can also explore offering relevant value-add- ed services to customers and merchants on  the network, which in turn can be charge- able. For example, for merchants “acquired”  by a bank or payments bank for accepting  digital payments, the bank may also offer  cash management solutions at a small fee.  These value-added services will add to the overall revenue pool and increase profitabili- ty of payments service providers.\n",
      "\n",
      "Develop ecosystems to envelop customer needs\n",
      "Developing vertical or ecosystem based offerings that provide end-to-end payments solution to customers in these ecosystems presents an opportunity for payments service  providers. These could include ecosystem-centric, community-based or hyperlocal  offerings that are easily scalable. \n",
      "\n",
      "One such example could be a hyper-local pay- ments system built around the city transport  system. This would translate into a payments  solution accepted by the central transport net- work in a city, for example, metro and / or  bus, as well as feeder networks i.e., taxis and  auto-rickshaws. This can further be expanded  to cover merchant establishments in and  around metro stations, utility providers (water,  electricity, education, telephone, and internet)  as well as local vendors and service providers. \n",
      "\n",
      "The objective should be to provide a ubiqui- tous payments solution to customers with easy cash-in and cash-out points. This would  present the payments service provider with  an opportunity to on-board a large number  of customers in a contained geography while  offering a compelling proposition to mer- chants and service providers on the network—timely payments, cash management /  handling and incremental business. \n",
      "\n",
      "Building an agricultural payments ecosystem  could be another example. Solutions offered  should not, merely be a platform facilitating  payment transactions, but should connect to  all parts of the agriculture ecosystem seamlessly. It should perform as an end-to-end ag- ricultural payments ecosystem providing information, enabling end-to-end transactions,  MIS and tracking (for example, inventory  management), while bringing buyers and  suppliers together (Refer Exhibit 5.3). \n",
      "\n",
      "The solution need not be restricted to pay- ment transactions, it can also lend support  to a wide spectrum of stakeholders including  farmers, dealers, traders, distributors, fertilisers company, seeds companies, insurers  etc. by bringing all of them on the same platform. The solution can also be used to provide information on prevalent prices, weath- er conditions, technical services, inventory  management tools and other value-added  solutions. \n",
      "\n",
      "Exploit next generation technologies to build low cost and scalable  solutions\n",
      "Successful digital payments solutions need  cutting edge technology platforms. Technology is critical, not only to deliver solutions  that are convenient, simple and secure, but  to also ensure that costs of customer acquisi- tion, on-boarding and transactions are minimal. For example, while contact-less pay- ment systems may be useful in expanding  merchant acceptance networks, Near-Field  Communication (NFC) based proximity ini- tiatives may prove to an expensive proposition for India. Low cost technology solutions  like app-to-app QR-codes or barcode readers  may need to be developed and tested. Payment apps catering to lowest quality smartphones, weighing less in size and able to  work on EDGE networks (or on no network  at all!) may need to be designed. \n",
      "\n",
      "\fIn addition to being super advanced, technology needs to adjust to evolving market re- quirements. For example, we need products  that can work despite poor infrastructure  and prevalent connectivity conditions in In- dia. Apps need to work in no network areas—for example, basement parking, in  planes for in-flight purchases etc. Such sce- narios are causing players to explore and experiment with “show code” or OTP options  that enable transactions even when both  parties are offline. \n",
      "\n",
      "Scale, scale, scale\n",
      "Lastly, but most significantly, scale is critical  to make the business model viable for pay- ments. Building a world-class payments business requires significant investment in tech- nology, infrastructure and partnerships with  wafer thin margins. Hence, the model re- quires high volumes to be sustainable. Participating players must look to build sizable  scale over the next few years so as to recover  costs. As outlined earlier, the opportunity is  potentially huge with the requisite scale  translating to tens of millions of customers.  Those who make bold moves and build  scale, have a good opportunity to build a  profitable and valuable business.\n",
      "\n",
      "Those who make bold  moves and build scale have  a good chance to win\n",
      "\n",
      "Looking ahead, it is clear that all payment  service providers, including payment banks,  will need to identity and adopt sustainable  models of monetising customers acquired by  them, by offering innovative and differentiat- ed payment solutions. Providers will need to  take a broader view of the opportunity and  think holistically to ensure economic viabili- ty of their businesses.\n",
      "\n",
      "Call to Action for Banks In order to maintain or defend their position  as key payment providers and related value  added services, banks need to take proactive  action spanning several dimensions. \n",
      "\n",
      "Payments are critical for banks as they help  in multiple ways:\n",
      "\n",
      "• Payments determine the primary bank for customers\n",
      "\n",
      "• Cross-sell other products via access to spend patterns\n",
      "\n",
      "• Drive lower cost to serve\n",
      "\n",
      "• Access “new to bank” customers\n",
      "\n",
      "Payments determine the primary  bank for customers\n",
      "Customers tend to keep more balances in ac- counts or payments instrument used for pay- ments. If banks can fulfil all payments needs  of existing account holders, they will be able  to retain and grow their Current Account /  Savings Account (CASA) balances. Else, they  stand to lose these balances to independent  payment service providers.\n",
      "\n",
      "Cross-sell other products via access  to spend patterns\n",
      "Payment transactions give banks access to  their customers’ transaction and spending  patterns. Banks can then use analytics to  cross-sell or up-sell relevant products to cus- tomers.\n",
      "\n",
      "Drive lower cost to serve\n",
      "Migrating payments transactions to digital  and mobile based platforms will reduce  transaction costs for banks and bring down  operating costs.\n",
      "\n",
      "Access “new to bank” customers\n",
      "Banks that take leadership position in  offering digital / alternate payments, will be  able to attract new customers—who are  either unbanked or banking with other  financial institutions. With new payment  service providers / challengers acquiring the  existing payment services customer bases,  traditionally the bastion for banks, this  could pose a threat and potential loss of  customer relationships and possibly affect  the CASA balance.\n",
      "\n",
      "In the new world of payments, it is challeng- ing for incumbent banks to create a compel- ling proposition for digital consumers. Banks are constrained by regulations and a conser- vative risk-averse mindset and often find it  challenging to develop customer-centric of- ferings that require a start-up like approach. \n",
      "\n",
      "Our experience with banks suggest five addi- tional areas that banks may need to work  on, in order to keep pace with the digital  payments opportunity:\n",
      "\n",
      "• Create a “digital organisation”\n",
      "\n",
      "• Understand customers—cannibalise pain points\n",
      "\n",
      "• Build a two-speed IT capability\n",
      "\n",
      "• Be innovative in partnerships\n",
      "\n",
      "• Go creative in communications\n",
      "\n",
      "Create a “digital organisation”\n",
      "Banks need to build a digital payments  friendly organisation, integrating flexibility,  agility and innovation. Banks need to think  like start-ups to develop payment solutions  which are intuitive and customer friendly,  allowing for easy KYC, simple on-boarding  and hassle free transactions. \n",
      "\n",
      "Understand customers—cannibalise pain points\n",
      "It is critical that banks invest in understand- ing their existing customer base including  needs, gaps and pain points in order to pro- vide innovative solutions. Banks should also  identify opportunities to provide relevant val- ue-added services to customers to deepen cus- tomer relationships and build switching costs.\n",
      "\n",
      "Build a two-speed it capability\n",
      "Banks are typically disadvantaged by their IT solutions legacy—these do not support  cutting edge or agile digital payment solutions. There is a need to invest in the creation of a two-speed IT world, enabling them to run and manage core banking solutions while allowing them to offer technologically agile solutions that are customer friendly and intuitive.\n",
      "\n",
      "Be innovative and partnerships Partnerships are critical, both for banks and in- dependent payments service providers. Banks should explore a wide spectrum of partner- ships, be it with large merchants to serve as an  anchor use-case for payment solutions, or with  fin-tech start-ups to provide cutting edge capa- bilities in security, authentication etc.\n",
      "\n",
      "Go creative in communications\n",
      "Given that traditional channels such as  branches etc. are not available to digital  propositions for customer acquisition, banks  need to ensure creativity in their marketing  initiatives in addition to increasing spends.\n",
      "\n",
      "Asks from Regulators and  Industry Bodies\n",
      "One of the consistent themes seen across  successful payments case studies, is the  pro-activeness and vision displayed by regulators and industry bodies in the respective  markets. In a market like India, where the  regulations are still to evolve, it is impera- tive that the Government and regulators  take a long-term view to building a sustain- able digital payments market. \n",
      "\n",
      "Over the past few years, we have seen several progressive and forward-looking regulations  that promote the proliferation of digital payments—prepaid payments instrument guide- lines and payment bank licenses to name a  few. However, these are initial steps and a lot  more needs to be done on an ongoing basis. A  few specific areas where Government and regulatory intervention can go a long way in en- suring sustainability of the digital payments in- dustry, are listed below:\n",
      "\n",
      "• Build awareness about cost of cash\n",
      "\n",
      "• Incentivise use of non-cash instruments\n",
      "\n",
      "• Policy for electronic transactions with government agencies\n",
      "\n",
      "• Simplifying KYC requirements\n",
      "\n",
      "• Making digital transactions simpler\n",
      "\n",
      "• Invest in building acceptance networks\n",
      "\n",
      "• Set-up common infrastructure\n",
      "\n",
      "• Framework for grievance redressal\n",
      "\n",
      "\fBuild awareness about cost of cash\n",
      "Cash poses huge cost implications for the econ- omy both in terms of direct costs (printing /  transporting notes, weeding out soiled notes,  combating counterfeiting by several means in- cluding periodically introducing new series of  currency notes and withdrawing existing ones,  etc.) and indirect costs (loss of tax revenue, cre- ation / prevalence of black money, etc.). Even  so, cash still remains the only payment method  that is not disincentivised. There is no visible  cost of cash to merchants or consumers in com- parison to all other payment methods. \n",
      "\n",
      "Government / regulators / relevant industry  bodies should lead the charge in creating a  “cost-of-cash”, which could include a “sur- charge” to be levied on cash transactions  above a certain threshold. \n",
      "\n",
      "Incentivise use of non-cash  instruments \n",
      "Merchant Discount Rate (MDR) should be  relative to the true cost of the payments in- strument. The true cost of cash to the user  (including government / RBI / banks / ser- vice providers / merchants / customers) has  to be appropriately reflected in order to ar- rive at the correct merchant discount rate or  MDR. Any situation that makes cash appear  artificially cheaper should be corrected  through regulatory means.\n",
      "\n",
      "In addition, the RBI should ensure that MDR  incentives are communicated adequately to  stakeholders. For example, even though the  RBI has capped MDR on debit card transac- tions in 2012 to promote usage in lieu of cash,  most merchants are still unaware of the differ- ence in MDR between debit and credit cards.\n",
      "\n",
      "Tax benefits could also be provided to mer- chants, especially in cases wherein a certain  minimum proportion of the merchant’s  transactions are carried out through digital  payment instruments. \n",
      "\n",
      "Policy for electronic transactions  with government agencies\n",
      "Certain government departments, PSUs and  other organisations currently levy a conve- nience fee or surcharge on electronic or digi- tal payments for essential commodities, utility  services, petrol pumps, gas agencies, IRCTC etc. The feasibility of removing this charge  should be considered by the Government. \n",
      "\n",
      "Simplifying KYC requirements\n",
      "Easy sign-up and on-boarding of customers  is critical for electronic or digital payments  to acquire scale. Regulators should continue  supporting enablement of electronic KYC  norms on a widespread basis—including rel- evant regulatory clarity where required. This  may include using biometric or iris-based  recognition on customer smartphones en- abling Aadhar-based KYC for existing and  new customers. Similarly, appropriate regu- latory frameworks may be put in place for  Aadhar or other identity-based eKYC for  merchant use.\n",
      "\n",
      "Making digital transactions simpler\n",
      "As highlighted earlier, a large proportion of  transactions conducted via digital payment  instruments are expected to be micro in na- ture (less than INR 100). The regulator may  consider waiving off the need for two-factor  authentication process for transactions be- low a minimum threshold, say INR 500. This  would increase convenience and further pen- etration of digital payment instrument usage. \n",
      "\n",
      "Invest in building acceptance  networks\n",
      "One of key impediments hindering the rise of  digital payments is the acceptance network.  Customers expect universality of payment in- struments and merchants will need suitable  incentives to adopt acceptance of electronic  payments. Once merchants realise the inher- ent advantages of electronic payments, they  are likely to continue. The proposed accep- tance development fund (ADF) should be op- erationalised soon and provided adequate  capital to ensure that the merchant accep- tance network, especially for electronic pay- ments, can be expanded manifold.\n",
      "\n",
      "Set-up common infrastructure\n",
      "The Government should encourage public  sector institutions and other industry bodies  like NPCI to deploy common payments infra- structure that can be leveraged by payment  service providers. The Instant Money Pay- ment System (IPS), Bharat Bill Pay System  (BBPS) and Unified Payments Interface (UPI)  are great examples of such infrastructure, which in turn, can revolutionise electronic  payments in India. IMPS has already seen  good success and the Government should  continue to encourage and incentivise the  build-out of such common infrastructure. \n",
      "\n",
      "Framework for grievance redressal\n",
      "The government and RBI should put requi- site framework and policy in place, for cus- tomer protection and grievance redressal.  For example, appropriate and customer  friendly guidelines to deal with fraudulent  transactions will boost customer confidence  and promote usage of digital payment in- struments. \n",
      "\fIn summary, for digital payments to succeed  in India, it is imperative that enabling policy  frameworks and infrastructure be put in  place. While there have been several devel- opments in the right direction over the past  few years, the trend needs to continue and  efforts need to be stepped up so as to pro- vide a conducive and sustainable business  environment for payment service providers.\f\n"
     ]
    }
   ],
   "source": [
    "for i in range(5):\n",
    "    print(f\"{topics[i]}: {df['content'][i]}\")"
   ]
  },
  {
   "cell_type": "code",
   "execution_count": 28,
   "metadata": {},
   "outputs": [
    {
     "data": {
      "text/html": [
       "<div>\n",
       "<style scoped>\n",
       "    .dataframe tbody tr th:only-of-type {\n",
       "        vertical-align: middle;\n",
       "    }\n",
       "\n",
       "    .dataframe tbody tr th {\n",
       "        vertical-align: top;\n",
       "    }\n",
       "\n",
       "    .dataframe thead th {\n",
       "        text-align: right;\n",
       "    }\n",
       "</style>\n",
       "<table border=\"1\" class=\"dataframe\">\n",
       "  <thead>\n",
       "    <tr style=\"text-align: right;\">\n",
       "      <th></th>\n",
       "      <th>Topic</th>\n",
       "      <th>Count</th>\n",
       "      <th>Name</th>\n",
       "      <th>CustomName</th>\n",
       "      <th>Representation</th>\n",
       "      <th>Representative_Docs</th>\n",
       "    </tr>\n",
       "  </thead>\n",
       "  <tbody>\n",
       "    <tr>\n",
       "      <th>0</th>\n",
       "      <td>-1</td>\n",
       "      <td>9</td>\n",
       "      <td>-1_global_percent_skill_digit</td>\n",
       "      <td>global - percent - skill</td>\n",
       "      <td>[global, percent, skill, digit, flow, job, mck...</td>\n",
       "      <td>[h e f u u r e f w r k n e r c p e p l e n p l...</td>\n",
       "    </tr>\n",
       "    <tr>\n",
       "      <th>1</th>\n",
       "      <td>0</td>\n",
       "      <td>101</td>\n",
       "      <td>0_payment_bank_custom_servic</td>\n",
       "      <td>payment - bank - custom</td>\n",
       "      <td>[payment, bank, custom, servic, market, transa...</td>\n",
       "      <td>[world payment report tabl content prefac sect...</td>\n",
       "    </tr>\n",
       "    <tr>\n",
       "      <th>2</th>\n",
       "      <td>1</td>\n",
       "      <td>14</td>\n",
       "      <td>1_mobil_payment_servic_bank</td>\n",
       "      <td>mobil - payment - servic</td>\n",
       "      <td>[mobil, payment, servic, bank, custom, market,...</td>\n",
       "      <td>[road mobil payment servic road mobil payment ...</td>\n",
       "    </tr>\n",
       "  </tbody>\n",
       "</table>\n",
       "</div>"
      ],
      "text/plain": [
       "   Topic  Count                           Name                CustomName  \\\n",
       "0     -1      9  -1_global_percent_skill_digit  global - percent - skill   \n",
       "1      0    101   0_payment_bank_custom_servic   payment - bank - custom   \n",
       "2      1     14    1_mobil_payment_servic_bank  mobil - payment - servic   \n",
       "\n",
       "                                      Representation  \\\n",
       "0  [global, percent, skill, digit, flow, job, mck...   \n",
       "1  [payment, bank, custom, servic, market, transa...   \n",
       "2  [mobil, payment, servic, bank, custom, market,...   \n",
       "\n",
       "                                 Representative_Docs  \n",
       "0  [h e f u u r e f w r k n e r c p e p l e n p l...  \n",
       "1  [world payment report tabl content prefac sect...  \n",
       "2  [road mobil payment servic road mobil payment ...  "
      ]
     },
     "execution_count": 28,
     "metadata": {},
     "output_type": "execute_result"
    }
   ],
   "source": [
    "# Generate Labels\n",
    "topic_labels = topic_model.generate_topic_labels(nr_words=3, topic_prefix=False, word_length=15, separator=\" - \")\n",
    "topic_model.set_topic_labels(topic_labels)\n",
    "\n",
    "# Create own Labels\n",
    "#topic_model.set_topic_labels({0: \"Reinforcement Learning\", 8: \"Transformer models\"})\n",
    "topic_model.get_topic_info().head(10)"
   ]
  },
  {
   "cell_type": "code",
   "execution_count": null,
   "metadata": {},
   "outputs": [],
   "source": [
    "# Change n-grams without re-fitting our entire model\n",
    "topic_model.update_topics(texts, n_gran_range=(1,3))\n",
    "\n",
    "# Merge specific topics\n",
    "topic_model.merge_topics(texts, topics_to_merge=[1, 8, 12])\n",
    "\n",
    "# Reduce the number of topics by iteratively merging them\n",
    "topic_model.reduce_topics(texts, nr_topics=100)\n",
    "\n",
    "# Find specific topics\n",
    "topic_model.find_topics(\"digital payment\", top_n=1)"
   ]
  },
  {
   "cell_type": "code",
   "execution_count": 8,
   "metadata": {},
   "outputs": [
    {
     "data": {
      "application/vnd.plotly.v1+json": {
       "config": {
        "plotlyServerURL": "https://plot.ly"
       },
       "data": [
        {
         "marker": {
          "color": "#D55E00"
         },
         "orientation": "h",
         "type": "bar",
         "x": [
          0.013126625983809204,
          0.013978389837422198,
          0.016141025876154395,
          0.01631524443137628,
          0.01672737860865197,
          0.01675395425147481,
          0.020597210586172744,
          0.0209790915782756,
          0.04551686731334978,
          0.045999598707913744
         ],
         "xaxis": "x",
         "y": [
          "busi  ",
          "new  ",
          "data  ",
          "digit  ",
          "market  ",
          "transact  ",
          "servic  ",
          "custom  ",
          "bank  ",
          "payment  "
         ],
         "yaxis": "y"
        },
        {
         "marker": {
          "color": "#0072B2"
         },
         "orientation": "h",
         "type": "bar",
         "x": [
          0.013699642475486561,
          0.016553897942778277,
          0.017097515223247053,
          0.017388758060347634,
          0.020452873339285867,
          0.02167116904329944,
          0.022224920968492184,
          0.02598448829831174,
          0.037119355748378866,
          0.0485965738590473
         ],
         "xaxis": "x2",
         "y": [
          "servic  ",
          "market  ",
          "thi  ",
          "transact  ",
          "global  ",
          "growth  ",
          "percent  ",
          "revenu  ",
          "bank  ",
          "payment  "
         ],
         "yaxis": "y2"
        },
        {
         "marker": {
          "color": "#CC79A7"
         },
         "orientation": "h",
         "type": "bar",
         "x": [
          0.022622586057681453,
          0.022889575497957008,
          0.023003459028436868,
          0.02360506412589354,
          0.025019609305996955,
          0.025678090041504443,
          0.02651941598360025,
          0.028295319013379942,
          0.04706903945003848,
          0.0743440535997112
         ],
         "xaxis": "x3",
         "y": [
          "use  ",
          "bank  ",
          "mobil money  ",
          "market  ",
          "servic  ",
          "provid  ",
          "mobil payment  ",
          "consum  ",
          "payment  ",
          "mobil  "
         ],
         "yaxis": "y3"
        }
       ],
       "layout": {
        "annotations": [
         {
          "font": {
           "size": 16
          },
          "showarrow": false,
          "text": "Topic 0",
          "x": 0.0875,
          "xanchor": "center",
          "xref": "paper",
          "y": 1,
          "yanchor": "bottom",
          "yref": "paper"
         },
         {
          "font": {
           "size": 16
          },
          "showarrow": false,
          "text": "Topic 1",
          "x": 0.36250000000000004,
          "xanchor": "center",
          "xref": "paper",
          "y": 1,
          "yanchor": "bottom",
          "yref": "paper"
         },
         {
          "font": {
           "size": 16
          },
          "showarrow": false,
          "text": "Topic 2",
          "x": 0.6375000000000001,
          "xanchor": "center",
          "xref": "paper",
          "y": 1,
          "yanchor": "bottom",
          "yref": "paper"
         }
        ],
        "height": 429,
        "hoverlabel": {
         "bgcolor": "white",
         "font": {
          "family": "Rockwell",
          "size": 16
         }
        },
        "showlegend": false,
        "template": {
         "data": {
          "bar": [
           {
            "error_x": {
             "color": "#2a3f5f"
            },
            "error_y": {
             "color": "#2a3f5f"
            },
            "marker": {
             "line": {
              "color": "white",
              "width": 0.5
             },
             "pattern": {
              "fillmode": "overlay",
              "size": 10,
              "solidity": 0.2
             }
            },
            "type": "bar"
           }
          ],
          "barpolar": [
           {
            "marker": {
             "line": {
              "color": "white",
              "width": 0.5
             },
             "pattern": {
              "fillmode": "overlay",
              "size": 10,
              "solidity": 0.2
             }
            },
            "type": "barpolar"
           }
          ],
          "carpet": [
           {
            "aaxis": {
             "endlinecolor": "#2a3f5f",
             "gridcolor": "#C8D4E3",
             "linecolor": "#C8D4E3",
             "minorgridcolor": "#C8D4E3",
             "startlinecolor": "#2a3f5f"
            },
            "baxis": {
             "endlinecolor": "#2a3f5f",
             "gridcolor": "#C8D4E3",
             "linecolor": "#C8D4E3",
             "minorgridcolor": "#C8D4E3",
             "startlinecolor": "#2a3f5f"
            },
            "type": "carpet"
           }
          ],
          "choropleth": [
           {
            "colorbar": {
             "outlinewidth": 0,
             "ticks": ""
            },
            "type": "choropleth"
           }
          ],
          "contour": [
           {
            "colorbar": {
             "outlinewidth": 0,
             "ticks": ""
            },
            "colorscale": [
             [
              0,
              "#0d0887"
             ],
             [
              0.1111111111111111,
              "#46039f"
             ],
             [
              0.2222222222222222,
              "#7201a8"
             ],
             [
              0.3333333333333333,
              "#9c179e"
             ],
             [
              0.4444444444444444,
              "#bd3786"
             ],
             [
              0.5555555555555556,
              "#d8576b"
             ],
             [
              0.6666666666666666,
              "#ed7953"
             ],
             [
              0.7777777777777778,
              "#fb9f3a"
             ],
             [
              0.8888888888888888,
              "#fdca26"
             ],
             [
              1,
              "#f0f921"
             ]
            ],
            "type": "contour"
           }
          ],
          "contourcarpet": [
           {
            "colorbar": {
             "outlinewidth": 0,
             "ticks": ""
            },
            "type": "contourcarpet"
           }
          ],
          "heatmap": [
           {
            "colorbar": {
             "outlinewidth": 0,
             "ticks": ""
            },
            "colorscale": [
             [
              0,
              "#0d0887"
             ],
             [
              0.1111111111111111,
              "#46039f"
             ],
             [
              0.2222222222222222,
              "#7201a8"
             ],
             [
              0.3333333333333333,
              "#9c179e"
             ],
             [
              0.4444444444444444,
              "#bd3786"
             ],
             [
              0.5555555555555556,
              "#d8576b"
             ],
             [
              0.6666666666666666,
              "#ed7953"
             ],
             [
              0.7777777777777778,
              "#fb9f3a"
             ],
             [
              0.8888888888888888,
              "#fdca26"
             ],
             [
              1,
              "#f0f921"
             ]
            ],
            "type": "heatmap"
           }
          ],
          "heatmapgl": [
           {
            "colorbar": {
             "outlinewidth": 0,
             "ticks": ""
            },
            "colorscale": [
             [
              0,
              "#0d0887"
             ],
             [
              0.1111111111111111,
              "#46039f"
             ],
             [
              0.2222222222222222,
              "#7201a8"
             ],
             [
              0.3333333333333333,
              "#9c179e"
             ],
             [
              0.4444444444444444,
              "#bd3786"
             ],
             [
              0.5555555555555556,
              "#d8576b"
             ],
             [
              0.6666666666666666,
              "#ed7953"
             ],
             [
              0.7777777777777778,
              "#fb9f3a"
             ],
             [
              0.8888888888888888,
              "#fdca26"
             ],
             [
              1,
              "#f0f921"
             ]
            ],
            "type": "heatmapgl"
           }
          ],
          "histogram": [
           {
            "marker": {
             "pattern": {
              "fillmode": "overlay",
              "size": 10,
              "solidity": 0.2
             }
            },
            "type": "histogram"
           }
          ],
          "histogram2d": [
           {
            "colorbar": {
             "outlinewidth": 0,
             "ticks": ""
            },
            "colorscale": [
             [
              0,
              "#0d0887"
             ],
             [
              0.1111111111111111,
              "#46039f"
             ],
             [
              0.2222222222222222,
              "#7201a8"
             ],
             [
              0.3333333333333333,
              "#9c179e"
             ],
             [
              0.4444444444444444,
              "#bd3786"
             ],
             [
              0.5555555555555556,
              "#d8576b"
             ],
             [
              0.6666666666666666,
              "#ed7953"
             ],
             [
              0.7777777777777778,
              "#fb9f3a"
             ],
             [
              0.8888888888888888,
              "#fdca26"
             ],
             [
              1,
              "#f0f921"
             ]
            ],
            "type": "histogram2d"
           }
          ],
          "histogram2dcontour": [
           {
            "colorbar": {
             "outlinewidth": 0,
             "ticks": ""
            },
            "colorscale": [
             [
              0,
              "#0d0887"
             ],
             [
              0.1111111111111111,
              "#46039f"
             ],
             [
              0.2222222222222222,
              "#7201a8"
             ],
             [
              0.3333333333333333,
              "#9c179e"
             ],
             [
              0.4444444444444444,
              "#bd3786"
             ],
             [
              0.5555555555555556,
              "#d8576b"
             ],
             [
              0.6666666666666666,
              "#ed7953"
             ],
             [
              0.7777777777777778,
              "#fb9f3a"
             ],
             [
              0.8888888888888888,
              "#fdca26"
             ],
             [
              1,
              "#f0f921"
             ]
            ],
            "type": "histogram2dcontour"
           }
          ],
          "mesh3d": [
           {
            "colorbar": {
             "outlinewidth": 0,
             "ticks": ""
            },
            "type": "mesh3d"
           }
          ],
          "parcoords": [
           {
            "line": {
             "colorbar": {
              "outlinewidth": 0,
              "ticks": ""
             }
            },
            "type": "parcoords"
           }
          ],
          "pie": [
           {
            "automargin": true,
            "type": "pie"
           }
          ],
          "scatter": [
           {
            "fillpattern": {
             "fillmode": "overlay",
             "size": 10,
             "solidity": 0.2
            },
            "type": "scatter"
           }
          ],
          "scatter3d": [
           {
            "line": {
             "colorbar": {
              "outlinewidth": 0,
              "ticks": ""
             }
            },
            "marker": {
             "colorbar": {
              "outlinewidth": 0,
              "ticks": ""
             }
            },
            "type": "scatter3d"
           }
          ],
          "scattercarpet": [
           {
            "marker": {
             "colorbar": {
              "outlinewidth": 0,
              "ticks": ""
             }
            },
            "type": "scattercarpet"
           }
          ],
          "scattergeo": [
           {
            "marker": {
             "colorbar": {
              "outlinewidth": 0,
              "ticks": ""
             }
            },
            "type": "scattergeo"
           }
          ],
          "scattergl": [
           {
            "marker": {
             "colorbar": {
              "outlinewidth": 0,
              "ticks": ""
             }
            },
            "type": "scattergl"
           }
          ],
          "scattermapbox": [
           {
            "marker": {
             "colorbar": {
              "outlinewidth": 0,
              "ticks": ""
             }
            },
            "type": "scattermapbox"
           }
          ],
          "scatterpolar": [
           {
            "marker": {
             "colorbar": {
              "outlinewidth": 0,
              "ticks": ""
             }
            },
            "type": "scatterpolar"
           }
          ],
          "scatterpolargl": [
           {
            "marker": {
             "colorbar": {
              "outlinewidth": 0,
              "ticks": ""
             }
            },
            "type": "scatterpolargl"
           }
          ],
          "scatterternary": [
           {
            "marker": {
             "colorbar": {
              "outlinewidth": 0,
              "ticks": ""
             }
            },
            "type": "scatterternary"
           }
          ],
          "surface": [
           {
            "colorbar": {
             "outlinewidth": 0,
             "ticks": ""
            },
            "colorscale": [
             [
              0,
              "#0d0887"
             ],
             [
              0.1111111111111111,
              "#46039f"
             ],
             [
              0.2222222222222222,
              "#7201a8"
             ],
             [
              0.3333333333333333,
              "#9c179e"
             ],
             [
              0.4444444444444444,
              "#bd3786"
             ],
             [
              0.5555555555555556,
              "#d8576b"
             ],
             [
              0.6666666666666666,
              "#ed7953"
             ],
             [
              0.7777777777777778,
              "#fb9f3a"
             ],
             [
              0.8888888888888888,
              "#fdca26"
             ],
             [
              1,
              "#f0f921"
             ]
            ],
            "type": "surface"
           }
          ],
          "table": [
           {
            "cells": {
             "fill": {
              "color": "#EBF0F8"
             },
             "line": {
              "color": "white"
             }
            },
            "header": {
             "fill": {
              "color": "#C8D4E3"
             },
             "line": {
              "color": "white"
             }
            },
            "type": "table"
           }
          ]
         },
         "layout": {
          "annotationdefaults": {
           "arrowcolor": "#2a3f5f",
           "arrowhead": 0,
           "arrowwidth": 1
          },
          "autotypenumbers": "strict",
          "coloraxis": {
           "colorbar": {
            "outlinewidth": 0,
            "ticks": ""
           }
          },
          "colorscale": {
           "diverging": [
            [
             0,
             "#8e0152"
            ],
            [
             0.1,
             "#c51b7d"
            ],
            [
             0.2,
             "#de77ae"
            ],
            [
             0.3,
             "#f1b6da"
            ],
            [
             0.4,
             "#fde0ef"
            ],
            [
             0.5,
             "#f7f7f7"
            ],
            [
             0.6,
             "#e6f5d0"
            ],
            [
             0.7,
             "#b8e186"
            ],
            [
             0.8,
             "#7fbc41"
            ],
            [
             0.9,
             "#4d9221"
            ],
            [
             1,
             "#276419"
            ]
           ],
           "sequential": [
            [
             0,
             "#0d0887"
            ],
            [
             0.1111111111111111,
             "#46039f"
            ],
            [
             0.2222222222222222,
             "#7201a8"
            ],
            [
             0.3333333333333333,
             "#9c179e"
            ],
            [
             0.4444444444444444,
             "#bd3786"
            ],
            [
             0.5555555555555556,
             "#d8576b"
            ],
            [
             0.6666666666666666,
             "#ed7953"
            ],
            [
             0.7777777777777778,
             "#fb9f3a"
            ],
            [
             0.8888888888888888,
             "#fdca26"
            ],
            [
             1,
             "#f0f921"
            ]
           ],
           "sequentialminus": [
            [
             0,
             "#0d0887"
            ],
            [
             0.1111111111111111,
             "#46039f"
            ],
            [
             0.2222222222222222,
             "#7201a8"
            ],
            [
             0.3333333333333333,
             "#9c179e"
            ],
            [
             0.4444444444444444,
             "#bd3786"
            ],
            [
             0.5555555555555556,
             "#d8576b"
            ],
            [
             0.6666666666666666,
             "#ed7953"
            ],
            [
             0.7777777777777778,
             "#fb9f3a"
            ],
            [
             0.8888888888888888,
             "#fdca26"
            ],
            [
             1,
             "#f0f921"
            ]
           ]
          },
          "colorway": [
           "#636efa",
           "#EF553B",
           "#00cc96",
           "#ab63fa",
           "#FFA15A",
           "#19d3f3",
           "#FF6692",
           "#B6E880",
           "#FF97FF",
           "#FECB52"
          ],
          "font": {
           "color": "#2a3f5f"
          },
          "geo": {
           "bgcolor": "white",
           "lakecolor": "white",
           "landcolor": "white",
           "showlakes": true,
           "showland": true,
           "subunitcolor": "#C8D4E3"
          },
          "hoverlabel": {
           "align": "left"
          },
          "hovermode": "closest",
          "mapbox": {
           "style": "light"
          },
          "paper_bgcolor": "white",
          "plot_bgcolor": "white",
          "polar": {
           "angularaxis": {
            "gridcolor": "#EBF0F8",
            "linecolor": "#EBF0F8",
            "ticks": ""
           },
           "bgcolor": "white",
           "radialaxis": {
            "gridcolor": "#EBF0F8",
            "linecolor": "#EBF0F8",
            "ticks": ""
           }
          },
          "scene": {
           "xaxis": {
            "backgroundcolor": "white",
            "gridcolor": "#DFE8F3",
            "gridwidth": 2,
            "linecolor": "#EBF0F8",
            "showbackground": true,
            "ticks": "",
            "zerolinecolor": "#EBF0F8"
           },
           "yaxis": {
            "backgroundcolor": "white",
            "gridcolor": "#DFE8F3",
            "gridwidth": 2,
            "linecolor": "#EBF0F8",
            "showbackground": true,
            "ticks": "",
            "zerolinecolor": "#EBF0F8"
           },
           "zaxis": {
            "backgroundcolor": "white",
            "gridcolor": "#DFE8F3",
            "gridwidth": 2,
            "linecolor": "#EBF0F8",
            "showbackground": true,
            "ticks": "",
            "zerolinecolor": "#EBF0F8"
           }
          },
          "shapedefaults": {
           "line": {
            "color": "#2a3f5f"
           }
          },
          "ternary": {
           "aaxis": {
            "gridcolor": "#DFE8F3",
            "linecolor": "#A2B1C6",
            "ticks": ""
           },
           "baxis": {
            "gridcolor": "#DFE8F3",
            "linecolor": "#A2B1C6",
            "ticks": ""
           },
           "bgcolor": "white",
           "caxis": {
            "gridcolor": "#DFE8F3",
            "linecolor": "#A2B1C6",
            "ticks": ""
           }
          },
          "title": {
           "x": 0.05
          },
          "xaxis": {
           "automargin": true,
           "gridcolor": "#EBF0F8",
           "linecolor": "#EBF0F8",
           "ticks": "",
           "title": {
            "standoff": 15
           },
           "zerolinecolor": "#EBF0F8",
           "zerolinewidth": 2
          },
          "yaxis": {
           "automargin": true,
           "gridcolor": "#EBF0F8",
           "linecolor": "#EBF0F8",
           "ticks": "",
           "title": {
            "standoff": 15
           },
           "zerolinecolor": "#EBF0F8",
           "zerolinewidth": 2
          }
         }
        },
        "title": {
         "font": {
          "color": "Black",
          "size": 22
         },
         "text": "Topic Word Scores",
         "x": 0.5,
         "xanchor": "center",
         "yanchor": "top"
        },
        "width": 800,
        "xaxis": {
         "anchor": "y",
         "domain": [
          0,
          0.175
         ],
         "showgrid": true
        },
        "xaxis2": {
         "anchor": "y2",
         "domain": [
          0.275,
          0.45
         ],
         "showgrid": true
        },
        "xaxis3": {
         "anchor": "y3",
         "domain": [
          0.55,
          0.7250000000000001
         ],
         "showgrid": true
        },
        "xaxis4": {
         "anchor": "y4",
         "domain": [
          0.825,
          1
         ],
         "showgrid": true
        },
        "yaxis": {
         "anchor": "x",
         "domain": [
          0,
          1
         ],
         "showgrid": true
        },
        "yaxis2": {
         "anchor": "x2",
         "domain": [
          0,
          1
         ],
         "showgrid": true
        },
        "yaxis3": {
         "anchor": "x3",
         "domain": [
          0,
          1
         ],
         "showgrid": true
        },
        "yaxis4": {
         "anchor": "x4",
         "domain": [
          0,
          1
         ],
         "showgrid": true
        }
       }
      }
     },
     "metadata": {},
     "output_type": "display_data"
    }
   ],
   "source": [
    "topic_model.visualize_barchart(width=200, height=330, top_n_topics=4, n_words=10)"
   ]
  },
  {
   "cell_type": "code",
   "execution_count": 10,
   "metadata": {},
   "outputs": [
    {
     "data": {
      "application/vnd.plotly.v1+json": {
       "config": {
        "plotlyServerURL": "https://plot.ly"
       },
       "data": [
        {
         "coloraxis": "coloraxis",
         "hovertemplate": "x: %{x}<br>y: %{y}<br>Similarity Score: %{z}<extra></extra>",
         "name": "0",
         "type": "heatmap",
         "x": [
          "0_payment_bank_custom",
          "1_payment_bank_revenu",
          "2_mobil_payment_consum"
         ],
         "xaxis": "x",
         "y": [
          "0_payment_bank_custom",
          "1_payment_bank_revenu",
          "2_mobil_payment_consum"
         ],
         "yaxis": "y",
         "z": [
          [
           1,
           0.8904064297676086,
           0.8752425909042358
          ],
          [
           0.8904064297676086,
           1.000000238418579,
           0.754420280456543
          ],
          [
           0.8752425909042358,
           0.754420280456543,
           1
          ]
         ]
        }
       ],
       "layout": {
        "coloraxis": {
         "colorbar": {
          "title": {
           "text": "Similarity Score"
          }
         },
         "colorscale": [
          [
           0,
           "rgb(247,252,240)"
          ],
          [
           0.125,
           "rgb(224,243,219)"
          ],
          [
           0.25,
           "rgb(204,235,197)"
          ],
          [
           0.375,
           "rgb(168,221,181)"
          ],
          [
           0.5,
           "rgb(123,204,196)"
          ],
          [
           0.625,
           "rgb(78,179,211)"
          ],
          [
           0.75,
           "rgb(43,140,190)"
          ],
          [
           0.875,
           "rgb(8,104,172)"
          ],
          [
           1,
           "rgb(8,64,129)"
          ]
         ]
        },
        "height": 800,
        "hoverlabel": {
         "bgcolor": "white",
         "font": {
          "family": "Rockwell",
          "size": 16
         }
        },
        "legend": {
         "title": {
          "text": "Trend"
         }
        },
        "margin": {
         "t": 60
        },
        "showlegend": true,
        "template": {
         "data": {
          "bar": [
           {
            "error_x": {
             "color": "#2a3f5f"
            },
            "error_y": {
             "color": "#2a3f5f"
            },
            "marker": {
             "line": {
              "color": "#E5ECF6",
              "width": 0.5
             },
             "pattern": {
              "fillmode": "overlay",
              "size": 10,
              "solidity": 0.2
             }
            },
            "type": "bar"
           }
          ],
          "barpolar": [
           {
            "marker": {
             "line": {
              "color": "#E5ECF6",
              "width": 0.5
             },
             "pattern": {
              "fillmode": "overlay",
              "size": 10,
              "solidity": 0.2
             }
            },
            "type": "barpolar"
           }
          ],
          "carpet": [
           {
            "aaxis": {
             "endlinecolor": "#2a3f5f",
             "gridcolor": "white",
             "linecolor": "white",
             "minorgridcolor": "white",
             "startlinecolor": "#2a3f5f"
            },
            "baxis": {
             "endlinecolor": "#2a3f5f",
             "gridcolor": "white",
             "linecolor": "white",
             "minorgridcolor": "white",
             "startlinecolor": "#2a3f5f"
            },
            "type": "carpet"
           }
          ],
          "choropleth": [
           {
            "colorbar": {
             "outlinewidth": 0,
             "ticks": ""
            },
            "type": "choropleth"
           }
          ],
          "contour": [
           {
            "colorbar": {
             "outlinewidth": 0,
             "ticks": ""
            },
            "colorscale": [
             [
              0,
              "#0d0887"
             ],
             [
              0.1111111111111111,
              "#46039f"
             ],
             [
              0.2222222222222222,
              "#7201a8"
             ],
             [
              0.3333333333333333,
              "#9c179e"
             ],
             [
              0.4444444444444444,
              "#bd3786"
             ],
             [
              0.5555555555555556,
              "#d8576b"
             ],
             [
              0.6666666666666666,
              "#ed7953"
             ],
             [
              0.7777777777777778,
              "#fb9f3a"
             ],
             [
              0.8888888888888888,
              "#fdca26"
             ],
             [
              1,
              "#f0f921"
             ]
            ],
            "type": "contour"
           }
          ],
          "contourcarpet": [
           {
            "colorbar": {
             "outlinewidth": 0,
             "ticks": ""
            },
            "type": "contourcarpet"
           }
          ],
          "heatmap": [
           {
            "colorbar": {
             "outlinewidth": 0,
             "ticks": ""
            },
            "colorscale": [
             [
              0,
              "#0d0887"
             ],
             [
              0.1111111111111111,
              "#46039f"
             ],
             [
              0.2222222222222222,
              "#7201a8"
             ],
             [
              0.3333333333333333,
              "#9c179e"
             ],
             [
              0.4444444444444444,
              "#bd3786"
             ],
             [
              0.5555555555555556,
              "#d8576b"
             ],
             [
              0.6666666666666666,
              "#ed7953"
             ],
             [
              0.7777777777777778,
              "#fb9f3a"
             ],
             [
              0.8888888888888888,
              "#fdca26"
             ],
             [
              1,
              "#f0f921"
             ]
            ],
            "type": "heatmap"
           }
          ],
          "heatmapgl": [
           {
            "colorbar": {
             "outlinewidth": 0,
             "ticks": ""
            },
            "colorscale": [
             [
              0,
              "#0d0887"
             ],
             [
              0.1111111111111111,
              "#46039f"
             ],
             [
              0.2222222222222222,
              "#7201a8"
             ],
             [
              0.3333333333333333,
              "#9c179e"
             ],
             [
              0.4444444444444444,
              "#bd3786"
             ],
             [
              0.5555555555555556,
              "#d8576b"
             ],
             [
              0.6666666666666666,
              "#ed7953"
             ],
             [
              0.7777777777777778,
              "#fb9f3a"
             ],
             [
              0.8888888888888888,
              "#fdca26"
             ],
             [
              1,
              "#f0f921"
             ]
            ],
            "type": "heatmapgl"
           }
          ],
          "histogram": [
           {
            "marker": {
             "pattern": {
              "fillmode": "overlay",
              "size": 10,
              "solidity": 0.2
             }
            },
            "type": "histogram"
           }
          ],
          "histogram2d": [
           {
            "colorbar": {
             "outlinewidth": 0,
             "ticks": ""
            },
            "colorscale": [
             [
              0,
              "#0d0887"
             ],
             [
              0.1111111111111111,
              "#46039f"
             ],
             [
              0.2222222222222222,
              "#7201a8"
             ],
             [
              0.3333333333333333,
              "#9c179e"
             ],
             [
              0.4444444444444444,
              "#bd3786"
             ],
             [
              0.5555555555555556,
              "#d8576b"
             ],
             [
              0.6666666666666666,
              "#ed7953"
             ],
             [
              0.7777777777777778,
              "#fb9f3a"
             ],
             [
              0.8888888888888888,
              "#fdca26"
             ],
             [
              1,
              "#f0f921"
             ]
            ],
            "type": "histogram2d"
           }
          ],
          "histogram2dcontour": [
           {
            "colorbar": {
             "outlinewidth": 0,
             "ticks": ""
            },
            "colorscale": [
             [
              0,
              "#0d0887"
             ],
             [
              0.1111111111111111,
              "#46039f"
             ],
             [
              0.2222222222222222,
              "#7201a8"
             ],
             [
              0.3333333333333333,
              "#9c179e"
             ],
             [
              0.4444444444444444,
              "#bd3786"
             ],
             [
              0.5555555555555556,
              "#d8576b"
             ],
             [
              0.6666666666666666,
              "#ed7953"
             ],
             [
              0.7777777777777778,
              "#fb9f3a"
             ],
             [
              0.8888888888888888,
              "#fdca26"
             ],
             [
              1,
              "#f0f921"
             ]
            ],
            "type": "histogram2dcontour"
           }
          ],
          "mesh3d": [
           {
            "colorbar": {
             "outlinewidth": 0,
             "ticks": ""
            },
            "type": "mesh3d"
           }
          ],
          "parcoords": [
           {
            "line": {
             "colorbar": {
              "outlinewidth": 0,
              "ticks": ""
             }
            },
            "type": "parcoords"
           }
          ],
          "pie": [
           {
            "automargin": true,
            "type": "pie"
           }
          ],
          "scatter": [
           {
            "fillpattern": {
             "fillmode": "overlay",
             "size": 10,
             "solidity": 0.2
            },
            "type": "scatter"
           }
          ],
          "scatter3d": [
           {
            "line": {
             "colorbar": {
              "outlinewidth": 0,
              "ticks": ""
             }
            },
            "marker": {
             "colorbar": {
              "outlinewidth": 0,
              "ticks": ""
             }
            },
            "type": "scatter3d"
           }
          ],
          "scattercarpet": [
           {
            "marker": {
             "colorbar": {
              "outlinewidth": 0,
              "ticks": ""
             }
            },
            "type": "scattercarpet"
           }
          ],
          "scattergeo": [
           {
            "marker": {
             "colorbar": {
              "outlinewidth": 0,
              "ticks": ""
             }
            },
            "type": "scattergeo"
           }
          ],
          "scattergl": [
           {
            "marker": {
             "colorbar": {
              "outlinewidth": 0,
              "ticks": ""
             }
            },
            "type": "scattergl"
           }
          ],
          "scattermapbox": [
           {
            "marker": {
             "colorbar": {
              "outlinewidth": 0,
              "ticks": ""
             }
            },
            "type": "scattermapbox"
           }
          ],
          "scatterpolar": [
           {
            "marker": {
             "colorbar": {
              "outlinewidth": 0,
              "ticks": ""
             }
            },
            "type": "scatterpolar"
           }
          ],
          "scatterpolargl": [
           {
            "marker": {
             "colorbar": {
              "outlinewidth": 0,
              "ticks": ""
             }
            },
            "type": "scatterpolargl"
           }
          ],
          "scatterternary": [
           {
            "marker": {
             "colorbar": {
              "outlinewidth": 0,
              "ticks": ""
             }
            },
            "type": "scatterternary"
           }
          ],
          "surface": [
           {
            "colorbar": {
             "outlinewidth": 0,
             "ticks": ""
            },
            "colorscale": [
             [
              0,
              "#0d0887"
             ],
             [
              0.1111111111111111,
              "#46039f"
             ],
             [
              0.2222222222222222,
              "#7201a8"
             ],
             [
              0.3333333333333333,
              "#9c179e"
             ],
             [
              0.4444444444444444,
              "#bd3786"
             ],
             [
              0.5555555555555556,
              "#d8576b"
             ],
             [
              0.6666666666666666,
              "#ed7953"
             ],
             [
              0.7777777777777778,
              "#fb9f3a"
             ],
             [
              0.8888888888888888,
              "#fdca26"
             ],
             [
              1,
              "#f0f921"
             ]
            ],
            "type": "surface"
           }
          ],
          "table": [
           {
            "cells": {
             "fill": {
              "color": "#EBF0F8"
             },
             "line": {
              "color": "white"
             }
            },
            "header": {
             "fill": {
              "color": "#C8D4E3"
             },
             "line": {
              "color": "white"
             }
            },
            "type": "table"
           }
          ]
         },
         "layout": {
          "annotationdefaults": {
           "arrowcolor": "#2a3f5f",
           "arrowhead": 0,
           "arrowwidth": 1
          },
          "autotypenumbers": "strict",
          "coloraxis": {
           "colorbar": {
            "outlinewidth": 0,
            "ticks": ""
           }
          },
          "colorscale": {
           "diverging": [
            [
             0,
             "#8e0152"
            ],
            [
             0.1,
             "#c51b7d"
            ],
            [
             0.2,
             "#de77ae"
            ],
            [
             0.3,
             "#f1b6da"
            ],
            [
             0.4,
             "#fde0ef"
            ],
            [
             0.5,
             "#f7f7f7"
            ],
            [
             0.6,
             "#e6f5d0"
            ],
            [
             0.7,
             "#b8e186"
            ],
            [
             0.8,
             "#7fbc41"
            ],
            [
             0.9,
             "#4d9221"
            ],
            [
             1,
             "#276419"
            ]
           ],
           "sequential": [
            [
             0,
             "#0d0887"
            ],
            [
             0.1111111111111111,
             "#46039f"
            ],
            [
             0.2222222222222222,
             "#7201a8"
            ],
            [
             0.3333333333333333,
             "#9c179e"
            ],
            [
             0.4444444444444444,
             "#bd3786"
            ],
            [
             0.5555555555555556,
             "#d8576b"
            ],
            [
             0.6666666666666666,
             "#ed7953"
            ],
            [
             0.7777777777777778,
             "#fb9f3a"
            ],
            [
             0.8888888888888888,
             "#fdca26"
            ],
            [
             1,
             "#f0f921"
            ]
           ],
           "sequentialminus": [
            [
             0,
             "#0d0887"
            ],
            [
             0.1111111111111111,
             "#46039f"
            ],
            [
             0.2222222222222222,
             "#7201a8"
            ],
            [
             0.3333333333333333,
             "#9c179e"
            ],
            [
             0.4444444444444444,
             "#bd3786"
            ],
            [
             0.5555555555555556,
             "#d8576b"
            ],
            [
             0.6666666666666666,
             "#ed7953"
            ],
            [
             0.7777777777777778,
             "#fb9f3a"
            ],
            [
             0.8888888888888888,
             "#fdca26"
            ],
            [
             1,
             "#f0f921"
            ]
           ]
          },
          "colorway": [
           "#636efa",
           "#EF553B",
           "#00cc96",
           "#ab63fa",
           "#FFA15A",
           "#19d3f3",
           "#FF6692",
           "#B6E880",
           "#FF97FF",
           "#FECB52"
          ],
          "font": {
           "color": "#2a3f5f"
          },
          "geo": {
           "bgcolor": "white",
           "lakecolor": "white",
           "landcolor": "#E5ECF6",
           "showlakes": true,
           "showland": true,
           "subunitcolor": "white"
          },
          "hoverlabel": {
           "align": "left"
          },
          "hovermode": "closest",
          "mapbox": {
           "style": "light"
          },
          "paper_bgcolor": "white",
          "plot_bgcolor": "#E5ECF6",
          "polar": {
           "angularaxis": {
            "gridcolor": "white",
            "linecolor": "white",
            "ticks": ""
           },
           "bgcolor": "#E5ECF6",
           "radialaxis": {
            "gridcolor": "white",
            "linecolor": "white",
            "ticks": ""
           }
          },
          "scene": {
           "xaxis": {
            "backgroundcolor": "#E5ECF6",
            "gridcolor": "white",
            "gridwidth": 2,
            "linecolor": "white",
            "showbackground": true,
            "ticks": "",
            "zerolinecolor": "white"
           },
           "yaxis": {
            "backgroundcolor": "#E5ECF6",
            "gridcolor": "white",
            "gridwidth": 2,
            "linecolor": "white",
            "showbackground": true,
            "ticks": "",
            "zerolinecolor": "white"
           },
           "zaxis": {
            "backgroundcolor": "#E5ECF6",
            "gridcolor": "white",
            "gridwidth": 2,
            "linecolor": "white",
            "showbackground": true,
            "ticks": "",
            "zerolinecolor": "white"
           }
          },
          "shapedefaults": {
           "line": {
            "color": "#2a3f5f"
           }
          },
          "ternary": {
           "aaxis": {
            "gridcolor": "white",
            "linecolor": "white",
            "ticks": ""
           },
           "baxis": {
            "gridcolor": "white",
            "linecolor": "white",
            "ticks": ""
           },
           "bgcolor": "#E5ECF6",
           "caxis": {
            "gridcolor": "white",
            "linecolor": "white",
            "ticks": ""
           }
          },
          "title": {
           "x": 0.05
          },
          "xaxis": {
           "automargin": true,
           "gridcolor": "white",
           "linecolor": "white",
           "ticks": "",
           "title": {
            "standoff": 15
           },
           "zerolinecolor": "white",
           "zerolinewidth": 2
          },
          "yaxis": {
           "automargin": true,
           "gridcolor": "white",
           "linecolor": "white",
           "ticks": "",
           "title": {
            "standoff": 15
           },
           "zerolinecolor": "white",
           "zerolinewidth": 2
          }
         }
        },
        "title": {
         "font": {
          "color": "Black",
          "size": 22
         },
         "text": "<b>Similarity Matrix</b>",
         "x": 0.55,
         "xanchor": "center",
         "y": 0.95,
         "yanchor": "top"
        },
        "width": 800,
        "xaxis": {
         "anchor": "y",
         "constrain": "domain",
         "domain": [
          0,
          1
         ],
         "scaleanchor": "y"
        },
        "yaxis": {
         "anchor": "x",
         "autorange": "reversed",
         "constrain": "domain",
         "domain": [
          0,
          1
         ]
        }
       }
      }
     },
     "metadata": {},
     "output_type": "display_data"
    }
   ],
   "source": [
    "topic_model.visualize_heatmap(n_clusters=2)"
   ]
  },
  {
   "cell_type": "code",
   "execution_count": 15,
   "metadata": {},
   "outputs": [
    {
     "ename": "ValueError",
     "evalue": "zero-size array to reduction operation maximum which has no identity",
     "output_type": "error",
     "traceback": [
      "\u001b[1;31m---------------------------------------------------------------------------\u001b[0m",
      "\u001b[1;31mValueError\u001b[0m                                Traceback (most recent call last)",
      "\u001b[1;32mc:\\Users\\simon\\OneDrive\\Dokumente\\UNILU\\3 - HS24\\1 MA\\business-reports-nlp\\scripts\\topic-modelling\\bertopic.ipynb Cell 11\u001b[0m line \u001b[0;36m1\n\u001b[1;32m----> <a href='vscode-notebook-cell:/c%3A/Users/simon/OneDrive/Dokumente/UNILU/3%20-%20HS24/1%20MA/business-reports-nlp/scripts/topic-modelling/bertopic.ipynb#X12sZmlsZQ%3D%3D?line=0'>1</a>\u001b[0m topic_model\u001b[39m.\u001b[39;49mvisualize_topics(top_n_topics\u001b[39m=\u001b[39;49m\u001b[39m2\u001b[39;49m)\n",
      "File \u001b[1;32m~\\AppData\\Local\\Packages\\PythonSoftwareFoundation.Python.3.10_qbz5n2kfra8p0\\LocalCache\\local-packages\\Python310\\site-packages\\bertopic\\_bertopic.py:2193\u001b[0m, in \u001b[0;36mBERTopic.visualize_topics\u001b[1;34m(self, topics, top_n_topics, custom_labels, title, width, height)\u001b[0m\n\u001b[0;32m   2163\u001b[0m \u001b[39m\u001b[39m\u001b[39m\"\"\" Visualize topics, their sizes, and their corresponding words\u001b[39;00m\n\u001b[0;32m   2164\u001b[0m \n\u001b[0;32m   2165\u001b[0m \u001b[39mThis visualization is highly inspired by LDAvis, a great visualization\u001b[39;00m\n\u001b[1;32m   (...)\u001b[0m\n\u001b[0;32m   2190\u001b[0m \u001b[39m```\u001b[39;00m\n\u001b[0;32m   2191\u001b[0m \u001b[39m\"\"\"\u001b[39;00m\n\u001b[0;32m   2192\u001b[0m check_is_fitted(\u001b[39mself\u001b[39m)\n\u001b[1;32m-> 2193\u001b[0m \u001b[39mreturn\u001b[39;00m plotting\u001b[39m.\u001b[39;49mvisualize_topics(\u001b[39mself\u001b[39;49m,\n\u001b[0;32m   2194\u001b[0m                                  topics\u001b[39m=\u001b[39;49mtopics,\n\u001b[0;32m   2195\u001b[0m                                  top_n_topics\u001b[39m=\u001b[39;49mtop_n_topics,\n\u001b[0;32m   2196\u001b[0m                                  custom_labels\u001b[39m=\u001b[39;49mcustom_labels,\n\u001b[0;32m   2197\u001b[0m                                  title\u001b[39m=\u001b[39;49mtitle,\n\u001b[0;32m   2198\u001b[0m                                  width\u001b[39m=\u001b[39;49mwidth,\n\u001b[0;32m   2199\u001b[0m                                  height\u001b[39m=\u001b[39;49mheight)\n",
      "File \u001b[1;32m~\\AppData\\Local\\Packages\\PythonSoftwareFoundation.Python.3.10_qbz5n2kfra8p0\\LocalCache\\local-packages\\Python310\\site-packages\\bertopic\\plotting\\_topics.py:79\u001b[0m, in \u001b[0;36mvisualize_topics\u001b[1;34m(topic_model, topics, top_n_topics, custom_labels, title, width, height)\u001b[0m\n\u001b[0;32m     77\u001b[0m \u001b[39mif\u001b[39;00m topic_model\u001b[39m.\u001b[39mtopic_embeddings_ \u001b[39mis\u001b[39;00m \u001b[39mnot\u001b[39;00m \u001b[39mNone\u001b[39;00m:\n\u001b[0;32m     78\u001b[0m     embeddings \u001b[39m=\u001b[39m topic_model\u001b[39m.\u001b[39mtopic_embeddings_[indices]\n\u001b[1;32m---> 79\u001b[0m     embeddings \u001b[39m=\u001b[39m UMAP(n_neighbors\u001b[39m=\u001b[39;49m\u001b[39m2\u001b[39;49m, n_components\u001b[39m=\u001b[39;49m\u001b[39m2\u001b[39;49m, metric\u001b[39m=\u001b[39;49m\u001b[39m'\u001b[39;49m\u001b[39mcosine\u001b[39;49m\u001b[39m'\u001b[39;49m, random_state\u001b[39m=\u001b[39;49m\u001b[39m42\u001b[39;49m)\u001b[39m.\u001b[39;49mfit_transform(embeddings)\n\u001b[0;32m     80\u001b[0m \u001b[39melse\u001b[39;00m:\n\u001b[0;32m     81\u001b[0m     embeddings \u001b[39m=\u001b[39m topic_model\u001b[39m.\u001b[39mc_tf_idf_\u001b[39m.\u001b[39mtoarray()[indices]\n",
      "File \u001b[1;32m~\\AppData\\Local\\Packages\\PythonSoftwareFoundation.Python.3.10_qbz5n2kfra8p0\\LocalCache\\local-packages\\Python310\\site-packages\\umap\\umap_.py:2772\u001b[0m, in \u001b[0;36mUMAP.fit_transform\u001b[1;34m(self, X, y)\u001b[0m\n\u001b[0;32m   2742\u001b[0m \u001b[39mdef\u001b[39;00m \u001b[39mfit_transform\u001b[39m(\u001b[39mself\u001b[39m, X, y\u001b[39m=\u001b[39m\u001b[39mNone\u001b[39;00m):\n\u001b[0;32m   2743\u001b[0m \u001b[39m    \u001b[39m\u001b[39m\"\"\"Fit X into an embedded space and return that transformed\u001b[39;00m\n\u001b[0;32m   2744\u001b[0m \u001b[39m    output.\u001b[39;00m\n\u001b[0;32m   2745\u001b[0m \n\u001b[1;32m   (...)\u001b[0m\n\u001b[0;32m   2770\u001b[0m \u001b[39m        Local radii of data points in the embedding (log-transformed).\u001b[39;00m\n\u001b[0;32m   2771\u001b[0m \u001b[39m    \"\"\"\u001b[39;00m\n\u001b[1;32m-> 2772\u001b[0m     \u001b[39mself\u001b[39;49m\u001b[39m.\u001b[39;49mfit(X, y)\n\u001b[0;32m   2773\u001b[0m     \u001b[39mif\u001b[39;00m \u001b[39mself\u001b[39m\u001b[39m.\u001b[39mtransform_mode \u001b[39m==\u001b[39m \u001b[39m\"\u001b[39m\u001b[39membedding\u001b[39m\u001b[39m\"\u001b[39m:\n\u001b[0;32m   2774\u001b[0m         \u001b[39mif\u001b[39;00m \u001b[39mself\u001b[39m\u001b[39m.\u001b[39moutput_dens:\n",
      "File \u001b[1;32m~\\AppData\\Local\\Packages\\PythonSoftwareFoundation.Python.3.10_qbz5n2kfra8p0\\LocalCache\\local-packages\\Python310\\site-packages\\umap\\umap_.py:2684\u001b[0m, in \u001b[0;36mUMAP.fit\u001b[1;34m(self, X, y)\u001b[0m\n\u001b[0;32m   2681\u001b[0m     \u001b[39mprint\u001b[39m(ts(), \u001b[39m\"\u001b[39m\u001b[39mConstruct embedding\u001b[39m\u001b[39m\"\u001b[39m)\n\u001b[0;32m   2683\u001b[0m \u001b[39mif\u001b[39;00m \u001b[39mself\u001b[39m\u001b[39m.\u001b[39mtransform_mode \u001b[39m==\u001b[39m \u001b[39m\"\u001b[39m\u001b[39membedding\u001b[39m\u001b[39m\"\u001b[39m:\n\u001b[1;32m-> 2684\u001b[0m     \u001b[39mself\u001b[39m\u001b[39m.\u001b[39membedding_, aux_data \u001b[39m=\u001b[39m \u001b[39mself\u001b[39;49m\u001b[39m.\u001b[39;49m_fit_embed_data(\n\u001b[0;32m   2685\u001b[0m         \u001b[39mself\u001b[39;49m\u001b[39m.\u001b[39;49m_raw_data[index],\n\u001b[0;32m   2686\u001b[0m         \u001b[39mself\u001b[39;49m\u001b[39m.\u001b[39;49mn_epochs,\n\u001b[0;32m   2687\u001b[0m         init,\n\u001b[0;32m   2688\u001b[0m         random_state,  \u001b[39m# JH why raw data?\u001b[39;49;00m\n\u001b[0;32m   2689\u001b[0m     )\n\u001b[0;32m   2690\u001b[0m     \u001b[39m# Assign any points that are fully disconnected from our manifold(s) to have embedding\u001b[39;00m\n\u001b[0;32m   2691\u001b[0m     \u001b[39m# coordinates of np.nan.  These will be filtered by our plotting functions automatically.\u001b[39;00m\n\u001b[0;32m   2692\u001b[0m     \u001b[39m# They also prevent users from being deceived a distance query to one of these points.\u001b[39;00m\n\u001b[0;32m   2693\u001b[0m     \u001b[39m# Might be worth moving this into simplicial_set_embedding or _fit_embed_data\u001b[39;00m\n\u001b[0;32m   2694\u001b[0m     disconnected_vertices \u001b[39m=\u001b[39m np\u001b[39m.\u001b[39marray(\u001b[39mself\u001b[39m\u001b[39m.\u001b[39mgraph_\u001b[39m.\u001b[39msum(axis\u001b[39m=\u001b[39m\u001b[39m1\u001b[39m))\u001b[39m.\u001b[39mflatten() \u001b[39m==\u001b[39m \u001b[39m0\u001b[39m\n",
      "File \u001b[1;32m~\\AppData\\Local\\Packages\\PythonSoftwareFoundation.Python.3.10_qbz5n2kfra8p0\\LocalCache\\local-packages\\Python310\\site-packages\\umap\\umap_.py:2717\u001b[0m, in \u001b[0;36mUMAP._fit_embed_data\u001b[1;34m(self, X, n_epochs, init, random_state)\u001b[0m\n\u001b[0;32m   2713\u001b[0m \u001b[39mdef\u001b[39;00m \u001b[39m_fit_embed_data\u001b[39m(\u001b[39mself\u001b[39m, X, n_epochs, init, random_state):\n\u001b[0;32m   2714\u001b[0m \u001b[39m    \u001b[39m\u001b[39m\"\"\"A method wrapper for simplicial_set_embedding that can be\u001b[39;00m\n\u001b[0;32m   2715\u001b[0m \u001b[39m    replaced by subclasses.\u001b[39;00m\n\u001b[0;32m   2716\u001b[0m \u001b[39m    \"\"\"\u001b[39;00m\n\u001b[1;32m-> 2717\u001b[0m     \u001b[39mreturn\u001b[39;00m simplicial_set_embedding(\n\u001b[0;32m   2718\u001b[0m         X,\n\u001b[0;32m   2719\u001b[0m         \u001b[39mself\u001b[39;49m\u001b[39m.\u001b[39;49mgraph_,\n\u001b[0;32m   2720\u001b[0m         \u001b[39mself\u001b[39;49m\u001b[39m.\u001b[39;49mn_components,\n\u001b[0;32m   2721\u001b[0m         \u001b[39mself\u001b[39;49m\u001b[39m.\u001b[39;49m_initial_alpha,\n\u001b[0;32m   2722\u001b[0m         \u001b[39mself\u001b[39;49m\u001b[39m.\u001b[39;49m_a,\n\u001b[0;32m   2723\u001b[0m         \u001b[39mself\u001b[39;49m\u001b[39m.\u001b[39;49m_b,\n\u001b[0;32m   2724\u001b[0m         \u001b[39mself\u001b[39;49m\u001b[39m.\u001b[39;49mrepulsion_strength,\n\u001b[0;32m   2725\u001b[0m         \u001b[39mself\u001b[39;49m\u001b[39m.\u001b[39;49mnegative_sample_rate,\n\u001b[0;32m   2726\u001b[0m         n_epochs,\n\u001b[0;32m   2727\u001b[0m         init,\n\u001b[0;32m   2728\u001b[0m         random_state,\n\u001b[0;32m   2729\u001b[0m         \u001b[39mself\u001b[39;49m\u001b[39m.\u001b[39;49m_input_distance_func,\n\u001b[0;32m   2730\u001b[0m         \u001b[39mself\u001b[39;49m\u001b[39m.\u001b[39;49m_metric_kwds,\n\u001b[0;32m   2731\u001b[0m         \u001b[39mself\u001b[39;49m\u001b[39m.\u001b[39;49mdensmap,\n\u001b[0;32m   2732\u001b[0m         \u001b[39mself\u001b[39;49m\u001b[39m.\u001b[39;49m_densmap_kwds,\n\u001b[0;32m   2733\u001b[0m         \u001b[39mself\u001b[39;49m\u001b[39m.\u001b[39;49moutput_dens,\n\u001b[0;32m   2734\u001b[0m         \u001b[39mself\u001b[39;49m\u001b[39m.\u001b[39;49m_output_distance_func,\n\u001b[0;32m   2735\u001b[0m         \u001b[39mself\u001b[39;49m\u001b[39m.\u001b[39;49m_output_metric_kwds,\n\u001b[0;32m   2736\u001b[0m         \u001b[39mself\u001b[39;49m\u001b[39m.\u001b[39;49moutput_metric \u001b[39min\u001b[39;49;00m (\u001b[39m\"\u001b[39;49m\u001b[39meuclidean\u001b[39;49m\u001b[39m\"\u001b[39;49m, \u001b[39m\"\u001b[39;49m\u001b[39ml2\u001b[39;49m\u001b[39m\"\u001b[39;49m),\n\u001b[0;32m   2737\u001b[0m         \u001b[39mself\u001b[39;49m\u001b[39m.\u001b[39;49mrandom_state \u001b[39mis\u001b[39;49;00m \u001b[39mNone\u001b[39;49;00m,\n\u001b[0;32m   2738\u001b[0m         \u001b[39mself\u001b[39;49m\u001b[39m.\u001b[39;49mverbose,\n\u001b[0;32m   2739\u001b[0m         tqdm_kwds\u001b[39m=\u001b[39;49m\u001b[39mself\u001b[39;49m\u001b[39m.\u001b[39;49mtqdm_kwds,\n\u001b[0;32m   2740\u001b[0m     )\n",
      "File \u001b[1;32m~\\AppData\\Local\\Packages\\PythonSoftwareFoundation.Python.3.10_qbz5n2kfra8p0\\LocalCache\\local-packages\\Python310\\site-packages\\umap\\umap_.py:1066\u001b[0m, in \u001b[0;36msimplicial_set_embedding\u001b[1;34m(data, graph, n_components, initial_alpha, a, b, gamma, negative_sample_rate, n_epochs, init, random_state, metric, metric_kwds, densmap, densmap_kwds, output_dens, output_metric, output_metric_kwds, euclidean_output, parallel, verbose, tqdm_kwds)\u001b[0m\n\u001b[0;32m   1063\u001b[0m     n_epochs \u001b[39m=\u001b[39m default_epochs\n\u001b[0;32m   1065\u001b[0m \u001b[39mif\u001b[39;00m n_epochs \u001b[39m>\u001b[39m \u001b[39m10\u001b[39m:\n\u001b[1;32m-> 1066\u001b[0m     graph\u001b[39m.\u001b[39mdata[graph\u001b[39m.\u001b[39mdata \u001b[39m<\u001b[39m (graph\u001b[39m.\u001b[39;49mdata\u001b[39m.\u001b[39;49mmax() \u001b[39m/\u001b[39m \u001b[39mfloat\u001b[39m(n_epochs))] \u001b[39m=\u001b[39m \u001b[39m0.0\u001b[39m\n\u001b[0;32m   1067\u001b[0m \u001b[39melse\u001b[39;00m:\n\u001b[0;32m   1068\u001b[0m     graph\u001b[39m.\u001b[39mdata[graph\u001b[39m.\u001b[39mdata \u001b[39m<\u001b[39m (graph\u001b[39m.\u001b[39mdata\u001b[39m.\u001b[39mmax() \u001b[39m/\u001b[39m \u001b[39mfloat\u001b[39m(default_epochs))] \u001b[39m=\u001b[39m \u001b[39m0.0\u001b[39m\n",
      "File \u001b[1;32m~\\AppData\\Local\\Packages\\PythonSoftwareFoundation.Python.3.10_qbz5n2kfra8p0\\LocalCache\\local-packages\\Python310\\site-packages\\numpy\\core\\_methods.py:41\u001b[0m, in \u001b[0;36m_amax\u001b[1;34m(a, axis, out, keepdims, initial, where)\u001b[0m\n\u001b[0;32m     39\u001b[0m \u001b[39mdef\u001b[39;00m \u001b[39m_amax\u001b[39m(a, axis\u001b[39m=\u001b[39m\u001b[39mNone\u001b[39;00m, out\u001b[39m=\u001b[39m\u001b[39mNone\u001b[39;00m, keepdims\u001b[39m=\u001b[39m\u001b[39mFalse\u001b[39;00m,\n\u001b[0;32m     40\u001b[0m           initial\u001b[39m=\u001b[39m_NoValue, where\u001b[39m=\u001b[39m\u001b[39mTrue\u001b[39;00m):\n\u001b[1;32m---> 41\u001b[0m     \u001b[39mreturn\u001b[39;00m umr_maximum(a, axis, \u001b[39mNone\u001b[39;49;00m, out, keepdims, initial, where)\n",
      "\u001b[1;31mValueError\u001b[0m: zero-size array to reduction operation maximum which has no identity"
     ]
    }
   ],
   "source": [
    "topic_model.visualize_topics()"
   ]
  }
 ],
 "metadata": {
  "kernelspec": {
   "display_name": "Python 3",
   "language": "python",
   "name": "python3"
  },
  "language_info": {
   "codemirror_mode": {
    "name": "ipython",
    "version": 3
   },
   "file_extension": ".py",
   "mimetype": "text/x-python",
   "name": "python",
   "nbconvert_exporter": "python",
   "pygments_lexer": "ipython3",
   "version": "3.10.11"
  },
  "orig_nbformat": 4
 },
 "nbformat": 4,
 "nbformat_minor": 2
}
