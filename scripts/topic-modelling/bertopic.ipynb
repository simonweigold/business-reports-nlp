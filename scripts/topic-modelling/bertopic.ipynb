{
 "cells": [
  {
   "cell_type": "code",
   "execution_count": 18,
   "metadata": {},
   "outputs": [],
   "source": [
    "from bertopic import BERTopic\n",
    "import json\n",
    "import pandas as pd\n",
    "import os\n",
    "import re"
   ]
  },
  {
   "cell_type": "code",
   "execution_count": 16,
   "metadata": {},
   "outputs": [],
   "source": [
    "os. chdir(\"c:\\\\Users\\\\simon\\\\OneDrive\\\\Dokumente\\\\UNILU\\\\3 - HS24\\\\1 MA\\\\business-reports-nlp\")\n",
    "\n",
    "def read_text_files_in_folder(folder_path):\n",
    "    data = []\n",
    "    for root, dirs, files in os.walk(folder_path):\n",
    "        for file in files:\n",
    "            if file.endswith(\".txt\"):\n",
    "                full_path = os.path.join(root, file)\n",
    "                with open(full_path, 'r', encoding='utf-8') as f:\n",
    "                    content = f.read()\n",
    "                data.append({\n",
    "                    'file_name': file,\n",
    "                    'file_path': full_path,\n",
    "                    'content': content\n",
    "                })\n",
    "                \n",
    "    return pd.DataFrame(data)\n",
    "\n",
    "# Example usage\n",
    "folder_path = \"examples\"\n",
    "df = read_text_files_in_folder(folder_path)\n"
   ]
  },
  {
   "cell_type": "code",
   "execution_count": 19,
   "metadata": {},
   "outputs": [],
   "source": [
    "def clean_text(text):\n",
    "    # Replace multiple spaces with a single space\n",
    "    text = re.sub(' +', ' ', text)\n",
    "    \n",
    "    # Ensure there is exactly one space after each punctuation mark\n",
    "    text = re.sub(r'(?<=[!?.;,:])(?=[^\\s])', ' ', text)\n",
    "    \n",
    "    return text\n",
    "\n",
    "# Apply text cleaning to 'content' column\n",
    "df['content'] = df['content'].apply(clean_text)"
   ]
  },
  {
   "cell_type": "code",
   "execution_count": 24,
   "metadata": {},
   "outputs": [],
   "source": [
    "topic_model = BERTopic(embedding_model=\"all-MiniLM-L6-v2\")\n",
    "topics, probs = topic_model.fit_transform(df['content'])\n",
    "#topic_model = BERTopic.load(\"arxiv_bertopic\")"
   ]
  },
  {
   "cell_type": "code",
   "execution_count": 25,
   "metadata": {},
   "outputs": [
    {
     "data": {
      "text/html": [
       "<div>\n",
       "<style scoped>\n",
       "    .dataframe tbody tr th:only-of-type {\n",
       "        vertical-align: middle;\n",
       "    }\n",
       "\n",
       "    .dataframe tbody tr th {\n",
       "        vertical-align: top;\n",
       "    }\n",
       "\n",
       "    .dataframe thead th {\n",
       "        text-align: right;\n",
       "    }\n",
       "</style>\n",
       "<table border=\"1\" class=\"dataframe\">\n",
       "  <thead>\n",
       "    <tr style=\"text-align: right;\">\n",
       "      <th></th>\n",
       "      <th>Topic</th>\n",
       "      <th>Count</th>\n",
       "      <th>Name</th>\n",
       "      <th>Representation</th>\n",
       "      <th>Representative_Docs</th>\n",
       "    </tr>\n",
       "  </thead>\n",
       "  <tbody>\n",
       "    <tr>\n",
       "      <th>0</th>\n",
       "      <td>-1</td>\n",
       "      <td>14</td>\n",
       "      <td>-1_the_to_and_of</td>\n",
       "      <td>[the, to, and, of, in, payments, for, as, is, ...</td>\n",
       "      <td>[Top 10 Trends in Payments – 2017\\n\\nWhat You ...</td>\n",
       "    </tr>\n",
       "  </tbody>\n",
       "</table>\n",
       "</div>"
      ],
      "text/plain": [
       "   Topic  Count              Name  \\\n",
       "0     -1     14  -1_the_to_and_of   \n",
       "\n",
       "                                      Representation  \\\n",
       "0  [the, to, and, of, in, payments, for, as, is, ...   \n",
       "\n",
       "                                 Representative_Docs  \n",
       "0  [Top 10 Trends in Payments – 2017\\n\\nWhat You ...  "
      ]
     },
     "execution_count": 25,
     "metadata": {},
     "output_type": "execute_result"
    }
   ],
   "source": [
    "topic_model.get_topic_info()"
   ]
  }
 ],
 "metadata": {
  "kernelspec": {
   "display_name": "Python 3",
   "language": "python",
   "name": "python3"
  },
  "language_info": {
   "codemirror_mode": {
    "name": "ipython",
    "version": 3
   },
   "file_extension": ".py",
   "mimetype": "text/x-python",
   "name": "python",
   "nbconvert_exporter": "python",
   "pygments_lexer": "ipython3",
   "version": "3.10.11"
  },
  "orig_nbformat": 4
 },
 "nbformat": 4,
 "nbformat_minor": 2
}
