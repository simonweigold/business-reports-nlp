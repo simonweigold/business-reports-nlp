{
 "cells": [
  {
   "cell_type": "markdown",
   "metadata": {},
   "source": [
    "# 1. Preparing the data"
   ]
  },
  {
   "cell_type": "code",
   "execution_count": 2,
   "metadata": {},
   "outputs": [],
   "source": [
    "import os\n",
    "os. chdir(\"c:\\\\Users\\\\simon\\\\OneDrive\\\\Dokumente\\\\UNILU\\\\3 - HS24\\\\1 MA\\\\business-reports-nlp\")"
   ]
  },
  {
   "cell_type": "markdown",
   "metadata": {},
   "source": [
    "Set up conversion and convert training data."
   ]
  },
  {
   "cell_type": "code",
   "execution_count": 7,
   "metadata": {},
   "outputs": [],
   "source": [
    "import json\n",
    "import pandas as pd\n",
    "\n",
    "system_message = \"You are a text classifier and your task is to classifiy a given text into the following categories: ['Data Monetization', 'Growth of Digital Payments', 'Delivering the Payment Experience', 'Interactions between Payments Players', 'Sustainability', 'Other']. You should directly output the predicted label only. Your answer should be either one of ['Data Monetization', 'Growth of Digital Payments', 'Delivering the Payment Experience', 'Interactions between Payments Players', 'Sustainability', 'Other']. Do not output a sentence.\"\n",
    "#additional_knowledge = \"You will learn the definition of every category from the following list: . Following the knowledge from these definitions and according to your fine-tuning you will label the new data.\"\n",
    "\n",
    "#df = pd.read_excel(\"data/fine-tuning v1/training.xlsx\")\n",
    "df = pd.read_csv(\"data/fine-tuning v1/training.csv\")\n",
    "df = df.sample(frac=1).reset_index(drop=True)\n",
    "path = \"data/fine-tuning v1/train.jsonl\"\n",
    "\n",
    "# Function to convert DataFrame to JSONL format\n",
    "def convert_to_jsonl(df, system_message=\"You are a text classification machine\"):\n",
    "    with open(path, 'w') as file:\n",
    "        for index, row in df.iterrows():\n",
    "            entry = {\n",
    "                \"messages\": [\n",
    "                    {\"role\": \"system\", \"content\": system_message}, # + additional_knowledge},\n",
    "                    {\"role\": \"user\", \"content\": row['content']},\n",
    "                    {\"role\": \"assistant\", \"content\": row['classification']}\n",
    "                ]\n",
    "            }\n",
    "            json_line = json.dumps(entry)\n",
    "            file.write(json_line + '\\n')\n",
    "\n",
    "# Call the function\n",
    "path = \"data/fine-tuning v1/train.jsonl\"\n",
    "convert_to_jsonl(df)"
   ]
  },
  {
   "cell_type": "markdown",
   "metadata": {},
   "source": [
    "Convert validation data."
   ]
  },
  {
   "cell_type": "code",
   "execution_count": 10,
   "metadata": {},
   "outputs": [],
   "source": [
    "#df = pd.read_excel(\"data/fine-tuning v1/validation.xlsx\")\n",
    "df = pd.read_csv(\"data/fine-tuning v1/validation.csv\")\n",
    "df = df.rename({'corrected': 'classification'}, axis=1)\n",
    "path = \"data/fine-tuning v1/test.jsonl\"\n",
    "convert_to_jsonl(df)"
   ]
  },
  {
   "cell_type": "markdown",
   "metadata": {},
   "source": [
    "# 2. Uploading the data"
   ]
  },
  {
   "cell_type": "markdown",
   "metadata": {},
   "source": [
    "Note that this was achieved directly in the OpenAI platform."
   ]
  },
  {
   "cell_type": "code",
   "execution_count": null,
   "metadata": {},
   "outputs": [],
   "source": [
    "# import openai\n",
    "\n",
    "# response = openai.File.create(\n",
    "#     file=open(\"data/train.jsonl\", \"rb\")\n",
    "#     purpose='fine-tune'\n",
    "# )\n",
    "\n",
    "# print(response)"
   ]
  },
  {
   "cell_type": "markdown",
   "metadata": {},
   "source": [
    "# 3. Training the model"
   ]
  },
  {
   "cell_type": "markdown",
   "metadata": {},
   "source": [
    "Note that this was achieved directly in the OpenAI platform."
   ]
  },
  {
   "cell_type": "code",
   "execution_count": null,
   "metadata": {},
   "outputs": [],
   "source": [
    "# import os\n",
    "# import openai\n",
    "# openai.api_key = os.getenv(\"OPENAI_API_KEY\")\n",
    "# file_id = \"\"\n",
    "# response = openai.FineTuningJob.create(traning_file=file_id, model=\"gpt-3.5 turbe\")\n",
    "\n",
    "# print(response)"
   ]
  },
  {
   "cell_type": "markdown",
   "metadata": {},
   "source": [
    "# 4. Using the model"
   ]
  },
  {
   "cell_type": "code",
   "execution_count": 2,
   "metadata": {},
   "outputs": [],
   "source": [
    "import pandas as pd\n",
    "\n",
    "#df = pd.read_excel(\"data/test.xlsx\", engine='openpyxl')\n",
    "df = pd.read_csv(\"data/fine-tuning v1/validation.csv\")"
   ]
  },
  {
   "cell_type": "code",
   "execution_count": 3,
   "metadata": {},
   "outputs": [],
   "source": [
    "from openai import OpenAI\n",
    "import pandas as pd\n",
    "\n",
    "with open('OPENAI_API_KEY.txt') as f:\n",
    "    openai_api = f.readlines()\n",
    "openai_api = openai_api[0]\n",
    "client = OpenAI(\n",
    "    api_key=openai_api\n",
    ")\n",
    "\n",
    "system_message = \"You are a text classifier and your task is to classifiy a given text into the following categories: ['Data Monetization', 'Growth of Digital Payments', 'Delivering the Payment Experience', 'Interactions between Payments Players', 'Sustainability', 'Other']. You should directly output the predicted label only. Your answer should be either one of ['Data Monetization', 'Growth of Digital Payments', 'Delivering the Payment Experience', 'Interactions between Payments Players', 'Sustainability', 'Other']. Do not output a sentence.\"\n",
    "\n",
    "def classify_texts(df, system_message):\n",
    "    classifications = []\n",
    "\n",
    "    for text in df['content']:\n",
    "        response = client.chat.completions.create(\n",
    "                model='ft:gpt-3.5-turbo-1106:personal::8cEJm6ed',\n",
    "                messages=[\n",
    "                    {\"role\": \"system\", \"content\": system_message},\n",
    "                    {\"role\": \"user\", \"content\": text},\n",
    "                ]\n",
    "        )\n",
    "        # Extract content from response and append to list\n",
    "        classifications.append(response.choices[0].message.content)\n",
    "    \n",
    "    # Add classifications as new column to df\n",
    "    df['240101_preds'] = classifications\n",
    "\n",
    "# Initiate classification\n",
    "classify_texts(df, system_message)"
   ]
  },
  {
   "cell_type": "code",
   "execution_count": 4,
   "metadata": {},
   "outputs": [],
   "source": [
    "# Save the DataFrame with prompts and responses to a new CSV file\n",
    "df.to_csv('data/fine-tuning v1/240101_validation_results.csv', index=False)"
   ]
  },
  {
   "cell_type": "markdown",
   "metadata": {},
   "source": [
    "## Fine-tuning metrics"
   ]
  },
  {
   "cell_type": "code",
   "execution_count": 15,
   "metadata": {},
   "outputs": [],
   "source": [
    "import pandas as pd\n",
    "\n",
    "ft_metrics = pd.read_excel('data/fine-tuning v1/fine-tuning-metrics.xlsx')"
   ]
  },
  {
   "cell_type": "code",
   "execution_count": 30,
   "metadata": {},
   "outputs": [
    {
     "data": {
      "image/png": "[encoded data removed]",
      "text/plain": [
       "<Figure size 1000x600 with 1 Axes>"
      ]
     },
     "metadata": {},
     "output_type": "display_data"
    }
   ],
   "source": [
    "import matplotlib.pyplot as plt\n",
    "import pandas as pd\n",
    "import numpy as np\n",
    "\n",
    "# Line plot\n",
    "plt.figure(figsize=(10, 6))\n",
    "plt.plot(ft_metrics['Step'], ft_metrics['Validation loss'], label='Validation Loss', color='Lightblue')\n",
    "plt.plot(ft_metrics['Step'], ft_metrics['Training loss'], label='Training Loss', color='Royalblue')\n",
    "\n",
    "# Set x-axis ticks\n",
    "plt.xticks(np.arange(1, 421, 100))\n",
    "plt.yticks(np.arange(0, 15, 5))\n",
    "\n",
    "# Labeling the plot\n",
    "plt.xlabel('Step')\n",
    "plt.ylabel('Loss')\n",
    "plt.legend()\n",
    "\n",
    "plt.grid(True)\n",
    "plt.savefig('figs/automated_content_analysis/ft_metrics.png', dpi=1200, bbox_inches='tight')\n",
    "plt.show()"
   ]
  },
  {
   "cell_type": "markdown",
   "metadata": {},
   "source": [
    "# Evaluating the results"
   ]
  },
  {
   "cell_type": "code",
   "execution_count": 31,
   "metadata": {},
   "outputs": [],
   "source": [
    "import pandas as pd\n",
    "\n",
    "df = pd.read_csv('data/fine-tuning v1/240101_validation_results.csv')"
   ]
  },
  {
   "cell_type": "code",
   "execution_count": 32,
   "metadata": {},
   "outputs": [],
   "source": [
    "df['predictions'] = df['predictions'].replace(\"Interactions between Payments Players\", \"Interactions Between Payments Players\")\n",
    "df['240101_preds'] = df['240101_preds'].replace(\"Interactions between Payments Players\", \"Interactions Between Payments Players\")\n",
    "df['240101_preds'] = df['240101_preds'].replace(\"Interactions between Payment Players\", \"Interactions Between Payments Players\")\n",
    "df['classification'] = df['classification'].replace(\"Interactions between Payments Players\", \"Interactions Between Payments Players\")"
   ]
  },
  {
   "cell_type": "code",
   "execution_count": 33,
   "metadata": {},
   "outputs": [
    {
     "name": "stdout",
     "output_type": "stream",
     "text": [
      "Percentage of matching entries: 65.20%\n"
     ]
    }
   ],
   "source": [
    "# Calculate the percentage of matching entries\n",
    "matches = df['classification'] == df['240101_preds']\n",
    "match_percentage = matches.sum() / len(df) * 100\n",
    "\n",
    "print(f\"Percentage of matching entries: {match_percentage:.2f}%\")"
   ]
  },
  {
   "cell_type": "code",
   "execution_count": 34,
   "metadata": {},
   "outputs": [
    {
     "data": {
      "image/png": "[encoded data removed]",
      "text/plain": [
       "<Figure size 640x480 with 1 Axes>"
      ]
     },
     "metadata": {},
     "output_type": "display_data"
    }
   ],
   "source": [
    "import matplotlib.pyplot as plt\n",
    "plt.style.use(\"default\")\n",
    "import matplotlib as mpl\n",
    "mpl.rcParams['font.family'] = 'Times New Roman'\n",
    "mpl.rcParams['font.size'] = 12\n",
    "import numpy as np\n",
    "\n",
    "# Count the occurrences for each column\n",
    "classification_counts = df['classification'].value_counts()\n",
    "predictions_counts = df['240101_preds'].value_counts()\n",
    "\n",
    "categories =  ['Growth of Digital Payments', 'Interactions Between Payments Players', 'Data Monetization', 'Sustainability', 'Delivering the Payment Experience', 'Other']\n",
    "categories.reverse()\n",
    "classification_counts = classification_counts.reindex(categories)\n",
    "predictions_counts = predictions_counts.reindex(categories)\n",
    "\n",
    "# plotting\n",
    "# Bar width\n",
    "bar_width = 0.35\n",
    "\n",
    "# Positions of bars on the x-axis\n",
    "r1 = np.arange(len(predictions_counts))\n",
    "r2 = [x + bar_width for x in r1]\n",
    "\n",
    "# Creating the bar plot\n",
    "bars1 = plt.barh(r2, classification_counts, color='royalblue', height=bar_width, edgecolor='grey', label='Human')\n",
    "bars2 = plt.barh(r1, predictions_counts, color='lightblue', height=bar_width, edgecolor='grey', label='GPT 3.5 Turbo')\n",
    "# Add labels\n",
    "plt.xlabel('Frequency')\n",
    "plt.ylabel('Category')\n",
    "#plt.title('Text Length for Each Measurement Type')\n",
    "plt.yticks([r + bar_width/2 for r in range(len(predictions_counts))], categories)\n",
    "plt.legend()\n",
    "# Adding labels to each bar\n",
    "#for bar in bars1:\n",
    "    #plt.text(bar.get_width(), bar.get_y() + bar.get_height()/2, f'{bar.get_width():.0f}', va='center')\n",
    "#for bar in bars2:\n",
    "    #plt.text(bar.get_width(), bar.get_y() + bar.get_height()/2, f'{bar.get_width():.0f}', va='center')\n",
    "# Change x-axis to display real numbers\n",
    "plt.gca().ticklabel_format(style='plain', axis='x', useOffset=False)\n",
    "# Add grid\n",
    "plt.gca().set_axisbelow(True)\n",
    "plt.grid(True, which='both', axis='x', color='gray', linestyle='-', linewidth=0.25)\n",
    "plt.savefig('figs/automated_content_analysis/validation-counts.png', dpi=1200, bbox_inches='tight')\n",
    "# Show the plot\n",
    "plt.show()"
   ]
  },
  {
   "cell_type": "code",
   "execution_count": 11,
   "metadata": {},
   "outputs": [
    {
     "data": {
      "text/plain": [
       "array(['Interactions Between Payments Players',\n",
       "       'Growth of Digital Payments', 'Sustainability',\n",
       "       'Data Monetization', 'Other', 'Delivering the Payment Experience'],\n",
       "      dtype=object)"
      ]
     },
     "execution_count": 11,
     "metadata": {},
     "output_type": "execute_result"
    }
   ],
   "source": [
    "#df['classification'].unique()\n",
    "df['240101_preds'].unique()\n",
    "#df['predictions'].unique()"
   ]
  },
  {
   "cell_type": "code",
   "execution_count": 13,
   "metadata": {},
   "outputs": [
    {
     "name": "stdout",
     "output_type": "stream",
     "text": [
      "                                       precision    recall  f1-score   support\n",
      "\n",
      "                    Data Monetization       0.62      0.60      0.61        35\n",
      "    Delivering the Payment Experience       0.71      0.50      0.59        24\n",
      "           Growth of Digital Payments       0.84      0.66      0.74        94\n",
      "Interactions Between Payments Players       0.68      0.81      0.74        52\n",
      "                                Other       0.35      0.78      0.48        23\n",
      "                       Sustainability       0.73      0.36      0.48        22\n",
      "\n",
      "                             accuracy                           0.65       250\n",
      "                            macro avg       0.65      0.62      0.61       250\n",
      "                         weighted avg       0.71      0.65      0.66       250\n",
      "\n"
     ]
    }
   ],
   "source": [
    "from sklearn.metrics import classification_report\n",
    "\n",
    "report = classification_report(df['classification'], df['240101_preds'])\n",
    "print(report)"
   ]
  },
  {
   "cell_type": "code",
   "execution_count": 16,
   "metadata": {},
   "outputs": [
    {
     "name": "stdout",
     "output_type": "stream",
     "text": [
      "                                       precision    recall  f1-score   support\n",
      "\n",
      "                    Data Monetization       0.64      1.00      0.78        35\n",
      "    Delivering the Payment Experience       0.90      0.38      0.53        24\n",
      "           Growth of Digital Payments       0.91      0.88      0.90        94\n",
      "Interactions Between Payments Players       0.78      0.96      0.86        52\n",
      "                                Other       0.88      0.30      0.45        23\n",
      "                       Sustainability       0.77      0.77      0.77        22\n",
      "\n",
      "                             accuracy                           0.80       250\n",
      "                            macro avg       0.81      0.72      0.72       250\n",
      "                         weighted avg       0.83      0.80      0.79       250\n",
      "\n"
     ]
    }
   ],
   "source": [
    "print(classification_report(df['classification'], df['predictions']))"
   ]
  },
  {
   "cell_type": "markdown",
   "metadata": {},
   "source": [
    "# Ultimate Classification"
   ]
  },
  {
   "cell_type": "code",
   "execution_count": 15,
   "metadata": {},
   "outputs": [],
   "source": [
    "import pandas as pd\n",
    "\n",
    "df = pd.read_csv(\"data/fine-tuning v1/classification.csv\")"
   ]
  },
  {
   "cell_type": "code",
   "execution_count": 16,
   "metadata": {},
   "outputs": [],
   "source": [
    "from openai import OpenAI\n",
    "import pandas as pd\n",
    "\n",
    "with open('OPENAI_API_KEY.txt') as f:\n",
    "    openai_api = f.readlines()\n",
    "openai_api = openai_api[0]\n",
    "client = OpenAI(\n",
    "    api_key=openai_api\n",
    ")\n",
    "\n",
    "system_message = \"You are a text classifier and your task is to classifiy a given text into the following categories: ['Data Monetization', 'Growth of Digital Payments', 'Delivering the Payment Experience', 'Interactions between Payments Players', 'Sustainability', 'Other']. You should directly output the predicted label only. Your answer should be either one of ['Data Monetization', 'Growth of Digital Payments', 'Delivering the Payment Experience', 'Interactions between Payments Players', 'Sustainability', 'Other']. Do not output a sentence.\"\n",
    "\n",
    "def classify_texts(df, system_message):\n",
    "    classifications = []\n",
    "\n",
    "    for text in df['content']:\n",
    "        response = client.chat.completions.create(\n",
    "                model='ft:gpt-3.5-turbo-1106:personal::8cEJm6ed',\n",
    "                messages=[\n",
    "                    {\"role\": \"system\", \"content\": system_message},\n",
    "                    {\"role\": \"user\", \"content\": text},\n",
    "                ]\n",
    "        )\n",
    "        # Extract content from response and append to list\n",
    "        classifications.append(response.choices[0].message.content)\n",
    "    \n",
    "    # Add classifications as new column to df\n",
    "    df['240101_preds'] = classifications\n",
    "\n",
    "# Initiate classification\n",
    "classify_texts(df, system_message)\n",
    "\n",
    "\n",
    "# Save the DataFrame with prompts and responses to a new CSV file\n",
    "df.to_csv('data/fine-tuning v1/240101_classification_results.csv', index=False)"
   ]
  },
  {
   "cell_type": "code",
   "execution_count": 18,
   "metadata": {},
   "outputs": [
    {
     "data": {
      "text/plain": [
       "240101_preds\n",
       "Interactions between Payments Players    3514\n",
       "Growth of Digital Payments               2600\n",
       "Other                                    2440\n",
       "Data Monetization                        1476\n",
       "Delivering the Payment Experience         998\n",
       "Sustainability                            435\n",
       "Name: count, dtype: int64"
      ]
     },
     "execution_count": 18,
     "metadata": {},
     "output_type": "execute_result"
    }
   ],
   "source": [
    "df['240101_preds'].value_counts()"
   ]
  }
 ],
 "metadata": {
  "kernelspec": {
   "display_name": "Python 3",
   "language": "python",
   "name": "python3"
  },
  "language_info": {
   "codemirror_mode": {
    "name": "ipython",
    "version": 3
   },
   "file_extension": ".py",
   "mimetype": "text/x-python",
   "name": "python",
   "nbconvert_exporter": "python",
   "pygments_lexer": "ipython3",
   "version": "3.10.11"
  }
 },
 "nbformat": 4,
 "nbformat_minor": 2
}
