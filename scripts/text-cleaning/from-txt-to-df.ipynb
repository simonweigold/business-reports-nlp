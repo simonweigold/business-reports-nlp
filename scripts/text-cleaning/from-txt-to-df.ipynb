{
 "cells": [
  {
   "cell_type": "code",
   "execution_count": 9,
   "metadata": {},
   "outputs": [],
   "source": [
    "import os\n",
    "import pandas as pd\n",
    "\n",
    "os. chdir(\"c:\\\\Users\\\\simon\\\\OneDrive\\\\Dokumente\\\\UNILU\\\\3 - HS24\\\\1 MA\\\\business-reports-nlp\")\n",
    "\n",
    "def read_text_files_in_folder(folder_path):\n",
    "    data = []\n",
    "    for root, dirs, files in os.walk(folder_path):\n",
    "        for file in files:\n",
    "            if file.endswith(\".txt\"):\n",
    "                full_path = os.path.join(root, file)\n",
    "                with open(full_path, 'r', encoding='utf-8') as f:\n",
    "                    content = f.read()\n",
    "                \n",
    "                # Extract the immediate parent directory (subfolder) of the file\n",
    "                subfolder_name = os.path.basename(os.path.dirname(full_path))\n",
    "                \n",
    "                data.append({\n",
    "                    'file_name': file,\n",
    "                    'file_path': full_path,\n",
    "                    'source': subfolder_name,\n",
    "                    'content': content.replace('\\n', ' ')\n",
    "                })\n",
    "                \n",
    "    return pd.DataFrame(data)\n",
    "\n",
    "# Example usage\n",
    "folder_path = \"reports_digipay_txt/consultancies_pdfminer_cleaned\"#\"examples\"\n",
    "df = read_text_files_in_folder(folder_path)"
   ]
  },
  {
   "cell_type": "code",
   "execution_count": 10,
   "metadata": {},
   "outputs": [],
   "source": [
    "import re\n",
    "\n",
    "def clean_text(text):\n",
    "    # Remove line breaks\n",
    "    text = re.sub(r'(\\r\\n|\\r|\\n)', ' ', text)\n",
    "\n",
    "    # Replace multiple spaces with a single space\n",
    "    text = re.sub(' +', ' ', text)\n",
    "    \n",
    "    # Ensure there is exactly one space after each punctuation mark\n",
    "    text = re.sub(r'(?<=[!?.;,:])(?=[^\\s])', ' ', text)\n",
    "    \n",
    "    return text\n",
    "\n",
    "\n",
    "# Apply text cleaning to 'content' column\n",
    "texts = df['content'].apply(clean_text)"
   ]
  },
  {
   "cell_type": "code",
   "execution_count": 49,
   "metadata": {},
   "outputs": [],
   "source": [
    "df.to_csv('texts.csv', encoding='utf-8', index=False, escapechar='\\\\')"
   ]
  },
  {
   "cell_type": "code",
   "execution_count": 11,
   "metadata": {},
   "outputs": [
    {
     "name": "stdout",
     "output_type": "stream",
     "text": [
      "                                               file_name  \\\n",
      "0      Accenture-Consumer-Mobile-Payments-Survey.2013...   \n",
      "1      Accenture-Consumer-Mobile-Payments-Survey.2013...   \n",
      "2      Accenture-Consumer-Mobile-Payments-Survey.2013...   \n",
      "3      Accenture-Consumer-Mobile-Payments-Survey.2013...   \n",
      "4      Accenture-Consumer-Mobile-Payments-Survey.2013...   \n",
      "...                                                  ...   \n",
      "64147          pwc.studie-mobile-payment-report.2017.txt   \n",
      "64148          pwc.studie-mobile-payment-report.2017.txt   \n",
      "64149          pwc.studie-mobile-payment-report.2017.txt   \n",
      "64150          pwc.studie-mobile-payment-report.2017.txt   \n",
      "64151          pwc.studie-mobile-payment-report.2017.txt   \n",
      "\n",
      "                                               file_path     source  \\\n",
      "0      reports_digipay_txt/consultancies_pdfminer_cle...  accenture   \n",
      "1      reports_digipay_txt/consultancies_pdfminer_cle...  accenture   \n",
      "2      reports_digipay_txt/consultancies_pdfminer_cle...  accenture   \n",
      "3      reports_digipay_txt/consultancies_pdfminer_cle...  accenture   \n",
      "4      reports_digipay_txt/consultancies_pdfminer_cle...  accenture   \n",
      "...                                                  ...        ...   \n",
      "64147  reports_digipay_txt/consultancies_pdfminer_cle...        pwc   \n",
      "64148  reports_digipay_txt/consultancies_pdfminer_cle...        pwc   \n",
      "64149  reports_digipay_txt/consultancies_pdfminer_cle...        pwc   \n",
      "64150  reports_digipay_txt/consultancies_pdfminer_cle...        pwc   \n",
      "64151  reports_digipay_txt/consultancies_pdfminer_cle...        pwc   \n",
      "\n",
      "                                                 content  \n",
      "0      Consumer Mobile Payments Survey  Driving Value...  \n",
      "1      After all, persuading more consumers to use  t...  \n",
      "2      A recent report by IDC Financial Insights  pre...  \n",
      "3      Financial institutions, merchants, payment  pr...  \n",
      "4      Harnessing the constant,  real-time interactio...  \n",
      "...                                                  ...  \n",
      "64147                              9 billion in turnover  \n",
      "64148  The leading auditing and consulting firm in Ge...  \n",
      "64149             Mobile Payment Report 2017  29  \f\f\fwww  \n",
      "64150                                                pwc  \n",
      "64151                                                 de  \n",
      "\n",
      "[64152 rows x 4 columns]\n"
     ]
    }
   ],
   "source": [
    "# Explode df\n",
    "import pandas as pd\n",
    "import re\n",
    "\n",
    "# Initialize a list to store the new rows\n",
    "new_rows = []\n",
    "\n",
    "# Iterate over each row in the original DataFrame\n",
    "for index, row in df.iterrows():\n",
    "    # Split the content into sentences based on '.', '!', '?'\n",
    "    sentences = re.split('[.!?]', row['content'])\n",
    "    \n",
    "    # Filter out empty strings from the list of sentences\n",
    "    sentences = [s.strip() for s in sentences if s.strip()]\n",
    "    \n",
    "    # Create a new row for each sentence and append it to the list\n",
    "    for sentence in sentences:\n",
    "        new_row = {\n",
    "            'file_name': row['file_name'],\n",
    "            'file_path': row['file_path'],\n",
    "            'source': row['source'],\n",
    "            'content': sentence\n",
    "        }\n",
    "        new_rows.append(new_row)\n",
    "\n",
    "# Create a new DataFrame from the list of new rows\n",
    "exploded_texts = pd.DataFrame(new_rows)\n",
    "\n",
    "# Display the new DataFrame\n",
    "print(exploded_texts)"
   ]
  },
  {
   "cell_type": "code",
   "execution_count": 13,
   "metadata": {},
   "outputs": [],
   "source": [
    "exploded_texts.to_csv('exploded_texts.csv', encoding='utf-8', index=False, escapechar='\\\\')"
   ]
  }
 ],
 "metadata": {
  "kernelspec": {
   "display_name": "Python 3",
   "language": "python",
   "name": "python3"
  },
  "language_info": {
   "codemirror_mode": {
    "name": "ipython",
    "version": 3
   },
   "file_extension": ".py",
   "mimetype": "text/x-python",
   "name": "python",
   "nbconvert_exporter": "python",
   "pygments_lexer": "ipython3",
   "version": "3.10.11"
  },
  "orig_nbformat": 4
 },
 "nbformat": 4,
 "nbformat_minor": 2
}
